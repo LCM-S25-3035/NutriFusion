{
  "nbformat": 4,
  "nbformat_minor": 0,
  "metadata": {
    "colab": {
      "provenance": []
    },
    "kernelspec": {
      "name": "python3",
      "display_name": "Python 3"
    },
    "language_info": {
      "name": "python"
    }
  },
  "cells": [
    {
      "cell_type": "code",
      "execution_count": 2,
      "metadata": {
        "colab": {
          "base_uri": "https://localhost:8080/"
        },
        "id": "ieq3pX-wX2_r",
        "outputId": "c92f8314-ea71-4f96-89aa-380ad0cba4c7"
      },
      "outputs": [
        {
          "output_type": "stream",
          "name": "stdout",
          "text": [
            "Edamam Dataset:\n",
            "                                 recipe_name  \\\n",
            "0                              Stalker Pasta   \n",
            "1                Vegan Wild Mushroom Lasagna   \n",
            "2  RWOP Finalist: Tantalizing Tilapia Recipe   \n",
            "3             Blue Cheese Portobello Burgers   \n",
            "4       Pan-Grilled Portobello Mushroom Caps   \n",
            "\n",
            "                                         ingredients  calories  protein   \\\n",
            "0  ['3 tbsp. olive oil; 2 oz. pancetta or regular...   1577.70     80.65   \n",
            "1  ['9 sheets of oven-ready, no-boil lasagna; 1 1...   4751.64    131.58   \n",
            "2  ['2 tsp blackened seasoning; 1 tsp lemon peppe...   4423.25    283.33   \n",
            "3  ['3 tablespoons extra-virgin olive oil, divide...   1345.74     44.47   \n",
            "4  ['4 x portobello mushroom caps, the dry stem t...    677.32     13.03   \n",
            "\n",
            "     fat   carbohydrates  \n",
            "0  129.21          13.05  \n",
            "1   99.37         817.18  \n",
            "2  355.05          41.84  \n",
            "3   69.45         142.97  \n",
            "4   61.41          19.62   \n",
            "\n",
            "MealDB All Recipes:\n",
            "                  recipe_name  \\\n",
            "0        Apple Frangipan Tart   \n",
            "1  Apple & Blackberry Crumble   \n",
            "2                  Apam balik   \n",
            "3                 Ayam Percik   \n",
            "4               Bakewell tart   \n",
            "\n",
            "                                         ingredients  calories  protein   fat  \\\n",
            "0  175g/6oz digestive biscuits | 75g/3oz butter |...     250.0      0.5   0.3   \n",
            "1  120g Plain Flour | 60g Caster Sugar | 60g Butt...     621.0     24.5  53.3   \n",
            "2  200ml Milk | 60ml Oil | 2 Eggs | 1600g Flour |...     712.0     15.5  69.1   \n",
            "3  6 Chicken Thighs | 16 Challots | 1 1/2 Ginger ...     256.0      0.5   0.5   \n",
            "4  175g/6oz plain flour | 75g/2½oz chilled butter...     625.0     29.0  50.0   \n",
            "\n",
            "   carbohydrates  \n",
            "0          61.33  \n",
            "1           4.80  \n",
            "2           3.70  \n",
            "3          63.00  \n",
            "4          12.00   \n",
            "\n",
            "Merged Fruits and Vegetables:\n",
            "                            recipe_name  \\\n",
            "0                   Confiture de fraise   \n",
            "1                               Almonds   \n",
            "2                          Walnusskerne   \n",
            "3  El Baraka Confiture De Fraises 430 G   \n",
            "4               Pur beurre de cacahuete   \n",
            "\n",
            "                                         ingredients  calories  protein   fat  \\\n",
            "0                               Strawberries, sugar.     250.0      0.5   0.3   \n",
            "1                                    shelled almonds     621.0     24.5  53.3   \n",
            "2                                      Walnusskerne.     712.0     15.5  69.1   \n",
            "3  Strawberries (56%), sugar, gelling (E-440) and...     256.0      0.5   0.5   \n",
            "4  Peanuts from organic farming.May contain trace...     625.0     29.0  50.0   \n",
            "\n",
            "   carbohydrates  \n",
            "0          61.33  \n",
            "1           4.80  \n",
            "2           3.70  \n",
            "3          63.00  \n",
            "4          12.00   \n",
            "\n",
            "Recipe and Nutrients (10,000 recipes):\n",
            "                        recipe_name  \\\n",
            "0                 Boozy Bbq Chicken   \n",
            "1       Easy Baked Parmesan Chicken   \n",
            "2           Moroccan Chicken Tagine   \n",
            "3    Cassoulet with Chicken or Duck   \n",
            "4  Maple-Glazed Thanksgiving Turkey   \n",
            "\n",
            "                                         ingredients  calories  protein  \\\n",
            "0  ['white wine', 'beer', 'broccoli', 'slow cook ...    725.28    32.27   \n",
            "1  ['chicken breast halves', 'egg', 'bread crumbs...    496.99    62.08   \n",
            "2  ['moroccan spice mixture', 'almond slivers', '...    223.58    14.40   \n",
            "3  ['beans', 'water', 'beef broth', 'tomato paste...    650.81    50.69   \n",
            "4  ['turkey', 'butter', 'orange juice', 'natural ...    157.59     7.81   \n",
            "\n",
            "     fat  carbohydrates  \n",
            "0  32.78          72.28  \n",
            "1  20.03          15.48  \n",
            "2   6.33          30.87  \n",
            "3  21.84          64.41  \n",
            "4  10.02           9.37   \n",
            "\n",
            "USDA 1000 Nutrition Data:\n",
            "  recipe_name  calories  protein   fat   carbohydrates ingredients\n",
            "0       chili       102     6.78   5.08           7.20       chili\n",
            "1       chili       246    14.00  17.50           7.02       chili\n",
            "2       chili       110     6.78   3.81          11.90       chili\n",
            "3       chili       122    10.40   4.35          10.90       chili\n",
            "4       chili        97     5.93   5.08           6.78       chili \n",
            "\n",
            "recipe_700:\n",
            "                                         recipe_name  \\\n",
            "0                               beef and mustard pie   \n",
            "1                                beef and oyster pie   \n",
            "2                                         beef asado   \n",
            "3  beef banh mi bowls with sriracha mayo, carrot ...   \n",
            "4                                   beef bourguignon   \n",
            "\n",
            "                                         ingredients  calories  protein  fat   \\\n",
            "0  {'beef': '1kg', 'plain flour': '2 tbs', 'rapes...       953     15.9  92.3   \n",
            "1  {'beef': '900g', 'olive oil': '3 tbs', 'shallo...      1021     20.3  92.5   \n",
            "2  {'beef': '1.5kg', 'beef stock concentrate': '1...       942     10.2  82.0   \n",
            "3  {'rice': 'white', 'onion': '1', 'lime': '1', '...       360     11.1   1.1   \n",
            "4  {'goose fat': '3 tsp', 'beef shin': '600g', 'b...       167      7.3   0.7   \n",
            "\n",
            "   carbohydrates  \n",
            "0           20.5  \n",
            "1           34.2  \n",
            "2           50.2  \n",
            "3           80.3  \n",
            "4           36.9   \n",
            "\n"
          ]
        }
      ],
      "source": [
        "import pandas as pd\n",
        "\n",
        "# Load datasets\n",
        "edamam = pd.read_csv('/content/cleaned1edamam  sajin.csv')\n",
        "mealdb = pd.read_csv('/content/mealdb_all_recipes.csv')\n",
        "fruits_vegetables = pd.read_csv('/content/cleaned_recipes_formatted Betsy.csv')\n",
        "recipe_nutrients = pd.read_csv('/content/recipe_and_nutrients_10000_recipes.csv')\n",
        "usda = pd.read_csv('/content/usda_1000_nutrition_data_cleaned (1).csv')\n",
        "recipe_700 = pd.read_csv('/content/cleaned_recipes A2lya.csv')\n",
        "\n",
        "# Display first five rows of each dataset\n",
        "print(\"Edamam Dataset:\")\n",
        "print(edamam.head(), '\\n')\n",
        "\n",
        "print(\"MealDB All Recipes:\")\n",
        "print(mealdb.head(), '\\n')\n",
        "\n",
        "print(\"Merged Fruits and Vegetables:\")\n",
        "print(fruits_vegetables.head(), '\\n')\n",
        "\n",
        "print(\"Recipe and Nutrients (10,000 recipes):\")\n",
        "print(recipe_nutrients.head(), '\\n')\n",
        "\n",
        "print(\"USDA 1000 Nutrition Data:\")\n",
        "print(usda.head(), '\\n')\n",
        "\n",
        "print(\"recipe_700:\")\n",
        "print(recipe_700.head(), '\\n')\n"
      ]
    },
    {
      "cell_type": "code",
      "source": [
        "# Display column names for each dataset\n",
        "print(\"Edamam Dataset Columns:\")\n",
        "print(edamam.columns.tolist(), '\\n')\n",
        "\n",
        "print(\"MealDB All Recipes Columns:\")\n",
        "print(mealdb.columns.tolist(), '\\n')\n",
        "\n",
        "print(\"Merged Fruits and Vegetables Columns:\")\n",
        "print(fruits_vegetables.columns.tolist(), '\\n')\n",
        "\n",
        "print(\"Recipe and Nutrients (10,000 recipes) Columns:\")\n",
        "print(recipe_nutrients.columns.tolist(), '\\n')\n",
        "\n",
        "print(\"USDA 1000 Nutrition Data Columns:\")\n",
        "print(usda.columns.tolist(), '\\n')\n",
        "\n",
        "print(\"recipe_700:\")\n",
        "print(recipe_700.columns.tolist(), '\\n')\n"
      ],
      "metadata": {
        "colab": {
          "base_uri": "https://localhost:8080/"
        },
        "id": "7KCd_stWfrvW",
        "outputId": "f623d0e2-e58e-47be-b521-5db798f39438"
      },
      "execution_count": 3,
      "outputs": [
        {
          "output_type": "stream",
          "name": "stdout",
          "text": [
            "Edamam Dataset Columns:\n",
            "[' recipe_name', 'ingredients', 'calories', 'protein ', 'fat ', 'carbohydrates'] \n",
            "\n",
            "MealDB All Recipes Columns:\n",
            "['recipe_name', 'ingredients', 'calories', 'protein', 'fat', 'carbohydrates'] \n",
            "\n",
            "Merged Fruits and Vegetables Columns:\n",
            "['recipe_name', 'ingredients', 'calories', 'protein', 'fat', 'carbohydrates'] \n",
            "\n",
            "Recipe and Nutrients (10,000 recipes) Columns:\n",
            "['recipe_name', 'ingredients', 'calories', 'protein', 'fat', 'carbohydrates'] \n",
            "\n",
            "USDA 1000 Nutrition Data Columns:\n",
            "['recipe_name', 'calories', 'protein', 'fat ', 'carbohydrates', 'ingredients'] \n",
            "\n",
            "recipe_700:\n",
            "['recipe_name', 'ingredients', 'calories', 'protein', 'fat ', 'carbohydrates'] \n",
            "\n"
          ]
        }
      ]
    },
    {
      "cell_type": "code",
      "source": [
        "print(\"Number of rows in Edamam Dataset:\", edamam.shape[0])\n",
        "print(\"Number of rows in MealDB All Recipes:\", mealdb.shape[0])\n",
        "print(\"Number of rows in Merged Fruits and Vegetables:\", fruits_vegetables.shape[0])\n",
        "print(\"Number of rows in Recipe and Nutrients (10,000 recipes):\", recipe_nutrients.shape[0])\n",
        "print(\"Number of rows in USDA 1000 Nutrition Data:\", usda.shape[0])\n",
        "print(\"Number of rows in reciepe_700 Data:\", recipe_700.shape[0])"
      ],
      "metadata": {
        "colab": {
          "base_uri": "https://localhost:8080/"
        },
        "id": "ulPMGxvwgCno",
        "outputId": "bbc0078b-79b3-4c53-a898-7cfd6ff95af1"
      },
      "execution_count": 6,
      "outputs": [
        {
          "output_type": "stream",
          "name": "stdout",
          "text": [
            "Number of rows in Edamam Dataset: 3480\n",
            "Number of rows in MealDB All Recipes: 302\n",
            "Number of rows in Merged Fruits and Vegetables: 485\n",
            "Number of rows in Recipe and Nutrients (10,000 recipes): 10789\n",
            "Number of rows in USDA 1000 Nutrition Data: 1000\n",
            "Number of rows in reciepe_700 Data: 731\n"
          ]
        }
      ]
    },
    {
      "cell_type": "code",
      "source": [
        "# Step 1: Strip leading/trailing whitespace from column names\n",
        "for df in [edamam, mealdb, fruits_vegetables, recipe_nutrients, usda, recipe_700]:\n",
        "    df.columns = df.columns.str.strip()\n",
        "\n",
        "# Step 2: Define common columns (consistent order)\n",
        "common_columns = ['recipe_name', 'ingredients', 'calories', 'protein', 'fat', 'carbohydrates']\n",
        "\n",
        "# Step 3: Reorder and select only these columns\n",
        "edamam = edamam[common_columns]\n",
        "mealdb = mealdb[common_columns]\n",
        "fruits_vegetables = fruits_vegetables[common_columns]\n",
        "recipe_nutrients = recipe_nutrients[common_columns]\n",
        "usda = usda[common_columns]\n",
        "recipe_700 = recipe_700[common_columns]\n",
        "\n",
        "# Step 4: Merge all datasets vertically\n",
        "merged_df = pd.concat(\n",
        "    [edamam, mealdb, fruits_vegetables, recipe_nutrients, usda, recipe_700],\n",
        "    ignore_index=True\n",
        ")\n",
        "\n",
        "# Step 5: Display shape and sample\n",
        "print(\"Merged dataset shape:\", merged_df.shape)\n",
        "print(merged_df.head())\n"
      ],
      "metadata": {
        "colab": {
          "base_uri": "https://localhost:8080/"
        },
        "id": "xSlhUq0peNTV",
        "outputId": "82da4264-7893-4ef2-965e-714a22d84694"
      },
      "execution_count": 8,
      "outputs": [
        {
          "output_type": "stream",
          "name": "stdout",
          "text": [
            "Merged dataset shape: (16787, 6)\n",
            "                                 recipe_name  \\\n",
            "0                              Stalker Pasta   \n",
            "1                Vegan Wild Mushroom Lasagna   \n",
            "2  RWOP Finalist: Tantalizing Tilapia Recipe   \n",
            "3             Blue Cheese Portobello Burgers   \n",
            "4       Pan-Grilled Portobello Mushroom Caps   \n",
            "\n",
            "                                         ingredients  calories  protein  \\\n",
            "0  ['3 tbsp. olive oil; 2 oz. pancetta or regular...   1577.70    80.65   \n",
            "1  ['9 sheets of oven-ready, no-boil lasagna; 1 1...   4751.64   131.58   \n",
            "2  ['2 tsp blackened seasoning; 1 tsp lemon peppe...   4423.25   283.33   \n",
            "3  ['3 tablespoons extra-virgin olive oil, divide...   1345.74    44.47   \n",
            "4  ['4 x portobello mushroom caps, the dry stem t...    677.32    13.03   \n",
            "\n",
            "      fat  carbohydrates  \n",
            "0  129.21          13.05  \n",
            "1   99.37         817.18  \n",
            "2  355.05          41.84  \n",
            "3   69.45         142.97  \n",
            "4   61.41          19.62  \n"
          ]
        }
      ]
    },
    {
      "cell_type": "code",
      "source": [
        "# Save to CSV\n",
        "merged_df.to_csv('/content/16000_datasets.csv', index=False)\n",
        "\n",
        "print(\"✅ Merged dataset saved as 'merged_recipes_dataset.csv'\")\n"
      ],
      "metadata": {
        "id": "VIPKzk1SjNz6",
        "colab": {
          "base_uri": "https://localhost:8080/"
        },
        "outputId": "3158aa41-11d7-4178-a21d-03cd630954ec"
      },
      "execution_count": 10,
      "outputs": [
        {
          "output_type": "stream",
          "name": "stdout",
          "text": [
            "✅ Merged dataset saved as 'merged_recipes_dataset.csv'\n"
          ]
        }
      ]
    },
    {
      "cell_type": "markdown",
      "source": [
        "Cleaning process before going into NLP model\n"
      ],
      "metadata": {
        "id": "LquTVcKcgVAp"
      }
    },
    {
      "cell_type": "code",
      "source": [
        "import pandas as pd\n",
        "import numpy as np\n",
        "import re"
      ],
      "metadata": {
        "id": "XBfzz1Xpewha"
      },
      "execution_count": 11,
      "outputs": []
    },
    {
      "cell_type": "code",
      "source": [
        "file_path = \"/content/16000_datasets.csv\"\n",
        "df = pd.read_csv(file_path)"
      ],
      "metadata": {
        "id": "Hk5_SqITgdQ_"
      },
      "execution_count": 12,
      "outputs": []
    },
    {
      "cell_type": "code",
      "source": [
        "# Drop rows with missing 'ingredients'\n",
        "df = df.dropna(subset=['ingredients'])"
      ],
      "metadata": {
        "id": "_kUTvMCigh5i"
      },
      "execution_count": 13,
      "outputs": []
    },
    {
      "cell_type": "code",
      "source": [
        "# Standardize column names\n",
        "df.columns = [col.strip().lower() for col in df.columns]"
      ],
      "metadata": {
        "id": "Lj9etS0lglOb"
      },
      "execution_count": 14,
      "outputs": []
    },
    {
      "cell_type": "code",
      "source": [
        "# Function to clean ingredients text\n",
        "def clean_ingredients(text):\n",
        "    text = text.lower()  # convert to lowercase\n",
        "    text = re.sub(r\"[\\[\\]']\", \"\", text)  # remove brackets and quotes\n",
        "    text = re.sub(r\";\", \",\", text)  # convert semicolons to commas\n",
        "    text = re.sub(r\"\\s+\", \" \", text)  # remove extra spaces\n",
        "    return text.strip()"
      ],
      "metadata": {
        "id": "VIqZ1snTgoA6"
      },
      "execution_count": 15,
      "outputs": []
    },
    {
      "cell_type": "code",
      "source": [
        "# Apply cleaning function\n",
        "df['ingredients'] = df['ingredients'].apply(clean_ingredients)"
      ],
      "metadata": {
        "id": "voNHivoLgqdC"
      },
      "execution_count": 16,
      "outputs": []
    },
    {
      "cell_type": "code",
      "source": [
        "# Optional: Save the cleaned dataset\n",
        "df.to_csv(\"/content/cleaned_16000_recipes.csv\", index=False)"
      ],
      "metadata": {
        "id": "Lux4E30ygsqT"
      },
      "execution_count": 18,
      "outputs": []
    },
    {
      "cell_type": "code",
      "source": [
        "# Preview the cleaned data\n",
        "print(df[['recipe_name', 'ingredients']].head())"
      ],
      "metadata": {
        "colab": {
          "base_uri": "https://localhost:8080/"
        },
        "id": "63JRv3SJg4UP",
        "outputId": "45f60bed-9f30-4c46-9511-a36cd7c509b7"
      },
      "execution_count": 19,
      "outputs": [
        {
          "output_type": "stream",
          "name": "stdout",
          "text": [
            "                                 recipe_name  \\\n",
            "0                              Stalker Pasta   \n",
            "1                Vegan Wild Mushroom Lasagna   \n",
            "2  RWOP Finalist: Tantalizing Tilapia Recipe   \n",
            "3             Blue Cheese Portobello Burgers   \n",
            "4       Pan-Grilled Portobello Mushroom Caps   \n",
            "\n",
            "                                         ingredients  \n",
            "0  3 tbsp. olive oil, 2 oz. pancetta or regular b...  \n",
            "1  9 sheets of oven-ready, no-boil lasagna, 1 1/2...  \n",
            "2  2 tsp blackened seasoning, 1 tsp lemon pepper ...  \n",
            "3  3 tablespoons extra-virgin olive oil, divided,...  \n",
            "4  4 x portobello mushroom caps, the dry stem tri...  \n"
          ]
        }
      ]
    },
    {
      "cell_type": "code",
      "source": [
        "# Check the number of rows in the cleaned dataset\n",
        "print(\"Total rows after cleaning:\", df.shape[0])"
      ],
      "metadata": {
        "colab": {
          "base_uri": "https://localhost:8080/"
        },
        "id": "ROEKnIu7hOfQ",
        "outputId": "91b501a8-f7e9-4e50-dfc8-6d7effd8e986"
      },
      "execution_count": 20,
      "outputs": [
        {
          "output_type": "stream",
          "name": "stdout",
          "text": [
            "Total rows after cleaning: 16785\n"
          ]
        }
      ]
    },
    {
      "cell_type": "markdown",
      "source": [
        "first prompt : These are my datasets  i need to view first five rows of the all the datasets and check for all the column names are same"
      ],
      "metadata": {
        "id": "3Hl5o14ejDpQ"
      }
    },
    {
      "cell_type": "markdown",
      "source": [
        "last prompt : give me the code for preprocessing the dataset and check how many rows are there\n"
      ],
      "metadata": {
        "id": "uBZV5Z3Hiy4-"
      }
    }
  ]
}