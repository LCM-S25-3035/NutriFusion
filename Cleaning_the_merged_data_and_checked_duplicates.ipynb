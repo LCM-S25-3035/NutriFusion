{
  "nbformat": 4,
  "nbformat_minor": 0,
  "metadata": {
    "colab": {
      "provenance": []
    },
    "kernelspec": {
      "name": "python3",
      "display_name": "Python 3"
    },
    "language_info": {
      "name": "python"
    }
  },
  "cells": [
    {
      "cell_type": "code",
      "source": [
        "import pandas as pd\n",
        "\n",
        "# Step 1: Load the dataset\n",
        "df = pd.read_csv('/content/merged_nutrition_dataset.csv')\n",
        "\n",
        "# Step 2: Check for missing values\n",
        "missing = df.isnull().sum()\n",
        "print(\"Missing values before filling:\\n\", missing)\n",
        "\n",
        "# Step 3: Fill missing values (only numerical columns, using column mean)\n",
        "df.fillna(df.mean(numeric_only=True), inplace=True)\n",
        "\n",
        "# Step 4: Remove duplicates\n",
        "before = df.shape[0]\n",
        "df.drop_duplicates(inplace=True)\n",
        "after = df.shape[0]\n",
        "\n",
        "# Step 5: Save the cleaned dataset\n",
        "df.to_csv('/content/merged_nutrition_dataset_cleaned.csv', index=False)\n",
        "\n",
        "# Output summary\n",
        "print(\"\\nMissing values after filling:\\n\", df.isnull().sum())\n",
        "print(f\"\\nRemoved {before - after} duplicate rows.\")\n",
        "print(f\"\\nCleaned dataset saved as: /content/merged_nutrition_dataset_cleaned.csv\")\n",
        "\n",
        "\n",
        "# Check for duplicate rows\n",
        "duplicate_rows = df[df.duplicated()]\n",
        "\n",
        "# Print result\n",
        "if not duplicate_rows.empty:\n",
        "    print(f\"🔁 Number of duplicate rows: {duplicate_rows.shape[0]}\")\n",
        "    print(\"\\nSample duplicate rows:\\n\", duplicate_rows.head())\n",
        "else:\n",
        "    print(\"✅ No duplicate rows found in the dataset.\")"
      ],
      "metadata": {
        "id": "dYvra2pUhzmT"
      },
      "execution_count": null,
      "outputs": []
    }
  ]
}