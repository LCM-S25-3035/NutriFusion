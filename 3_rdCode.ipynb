{
  "nbformat": 4,
  "nbformat_minor": 0,
  "metadata": {
    "colab": {
      "provenance": []
    },
    "kernelspec": {
      "name": "python3",
      "display_name": "Python 3"
    },
    "language_info": {
      "name": "python"
    }
  },
  "cells": [
    {
      "cell_type": "code",
      "source": [
        "import requests\n",
        "import pandas as pd\n",
        "import time\n",
        "\n",
        "# Base URL for OpenFoodFacts API\n",
        "BASE_URL = \"https://world.openfoodfacts.org/cgi/search.pl\"\n",
        "\n",
        "# Parameters for the API request\n",
        "params = {\n",
        "    \"search_terms\": \"milk\",\n",
        "    \"page_size\": 100,        # Items per page\n",
        "    \"json\": 1,\n",
        "    \"fields\": \"product_name,nutriments,brands,code\",\n",
        "}\n",
        "\n",
        "# Storage for products\n",
        "all_products = []\n",
        "\n",
        "# How many pages to scrape\n",
        "NUM_PAGES = 5\n",
        "\n",
        "# Start scraping loop\n",
        "for page in range(1, NUM_PAGES + 1):\n",
        "    print(f\"🔄 Fetching page {page}...\")\n",
        "    params[\"page\"] = page\n",
        "    response = requests.get(BASE_URL, params=params)\n",
        "\n",
        "    if response.status_code != 200:\n",
        "        print(f\"❌ Failed to fetch page {page}. Status code: {response.status_code}\")\n",
        "        break\n",
        "\n",
        "    data = response.json()\n",
        "    products = data.get(\"products\", [])\n",
        "\n",
        "    for product in products:\n",
        "        nutriments = product.get(\"nutriments\", {})\n",
        "        all_products.append({\n",
        "            \"Product Name\": product.get(\"product_name\", \"N/A\"),\n",
        "            \"Brand\": product.get(\"brands\", \"N/A\"),\n",
        "            \"Calories (kcal)\": nutriments.get(\"energy-kcal_100g\"),\n",
        "            \"Proteins (g)\": nutriments.get(\"proteins_100g\"),\n",
        "            \"Fat (g)\": nutriments.get(\"fat_100g\"),\n",
        "            \"Carbohydrates (g)\": nutriments.get(\"carbohydrates_100g\"),\n",
        "            \"Sugar (g)\": nutriments.get(\"sugars_100g\"),\n",
        "            \"Salt (g)\": nutriments.get(\"salt_100g\"),\n",
        "            \"Code\": product.get(\"code\"),\n",
        "        })\n",
        "\n",
        "    time.sleep(1)  # Be polite to the API\n",
        "\n",
        "# Convert to DataFrame\n",
        "df = pd.DataFrame(all_products)\n",
        "\n",
        "# Save to CSV\n",
        "csv_filename = \"openfoodfacts_food_data.csv\"\n",
        "df.to_csv(csv_filename, index=False)\n",
        "\n",
        "print(f\"\\n✅ Data saved to '{csv_filename}'. Total products collected: {len(df)}\")\n"
      ],
      "metadata": {
        "colab": {
          "base_uri": "https://localhost:8080/"
        },
        "id": "Bs8h2bRwIXB5",
        "outputId": "a9bafa9a-2beb-49c5-b206-8c09e7654f0f"
      },
      "execution_count": 4,
      "outputs": [
        {
          "output_type": "stream",
          "name": "stdout",
          "text": [
            "🔄 Fetching page 1...\n",
            "🔄 Fetching page 2...\n",
            "🔄 Fetching page 3...\n",
            "🔄 Fetching page 4...\n",
            "🔄 Fetching page 5...\n",
            "\n",
            "✅ Data saved to 'openfoodfacts_food_data.csv'. Total products collected: 500\n"
          ]
        }
      ]
    }
  ]
}