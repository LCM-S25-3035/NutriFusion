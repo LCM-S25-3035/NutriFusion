{
  "nbformat": 4,
  "nbformat_minor": 0,
  "metadata": {
    "colab": {
      "private_outputs": true,
      "provenance": []
    },
    "kernelspec": {
      "name": "python3",
      "display_name": "Python 3"
    },
    "language_info": {
      "name": "python"
    }
  },
  "cells": [
    {
      "cell_type": "code",
      "execution_count": null,
      "metadata": {
        "id": "UQCgOcfocKnm"
      },
      "outputs": [],
      "source": [
        "# Step 1: Import Required Libraries\n",
        "import pandas as pd\n",
        "import matplotlib.pyplot as plt\n",
        "import seaborn as sns\n",
        "\n",
        "# Step 2: Load the Dataset\n",
        "df = pd.read_csv(\"/content/Age_and_health_data.csv\")  # Replace with your actual file name\n"
      ]
    },
    {
      "cell_type": "code",
      "source": [
        "# Step 3: Initial Data Overview\n",
        "print(\"🔹 First 5 Rows:\")\n",
        "print(df.head())\n",
        "\n",
        "print(\"\\n🔹 Dataset Info:\")\n",
        "print(df.info())\n",
        "\n",
        "print(\"\\n🔹 Summary Statistics (Numerical):\")\n",
        "print(df.describe())"
      ],
      "metadata": {
        "id": "_htGQgmncbZA"
      },
      "execution_count": null,
      "outputs": []
    },
    {
      "cell_type": "code",
      "source": [
        "#checkin missing values\n",
        "print(\"\\n🔹 Missing Values Check:\")\n",
        "print(df.isnull().sum())"
      ],
      "metadata": {
        "id": "sbyizHiScj3F"
      },
      "execution_count": null,
      "outputs": []
    },
    {
      "cell_type": "code",
      "source": [
        "# Step 4: Value Counts for Categorical Columns\n",
        "categorical_cols = ['Gender', 'Activity Level', 'Dietary Preference', 'Disease']\n",
        "for col in categorical_cols:\n",
        "    print(f\"\\n🔹 Value counts for {col}:\")\n",
        "    print(df[col].value_counts())"
      ],
      "metadata": {
        "id": "FgWgb0gzcu6m"
      },
      "execution_count": null,
      "outputs": []
    },
    {
      "cell_type": "code",
      "source": [
        "# Step 5: Correlation Matrix for Numerical Columns\n",
        "plt.figure(figsize=(12, 8))\n",
        "sns.heatmap(df.select_dtypes(include='number').corr(), annot=True, cmap='coolwarm')\n",
        "plt.title(\"Correlation Heatmap\")\n",
        "plt.show()\n",
        "\n",
        "# Step 6: Distribution Plots\n",
        "numeric_features = ['Ages', 'Height', 'Weight', 'Calories', 'Protein', 'Sugar', 'Sodium', 'Fat']\n",
        "\n",
        "for col in numeric_features:\n",
        "    plt.figure(figsize=(6, 4))\n",
        "    sns.histplot(df[col], kde=True, color='skyblue')\n",
        "    plt.title(f\"Distribution of {col}\")\n",
        "    plt.xlabel(col)\n",
        "    plt.ylabel(\"Count\")\n",
        "    plt.show()\n",
        "\n",
        "# Step 7: Boxplots for Outlier Detection\n",
        "for col in numeric_features:\n",
        "    plt.figure(figsize=(6, 4))\n",
        "    sns.boxplot(x=df[col])\n",
        "    plt.title(f\"Boxplot of {col}\")\n",
        "    plt.show()\n",
        "\n",
        "# Step 8: Relationship Analysis\n",
        "plt.figure(figsize=(8, 6))\n",
        "sns.scatterplot(x='Weight', y='Calories', hue='Gender', data=df)\n",
        "plt.title(\"Calories vs Weight by Gender\")\n",
        "plt.show()\n",
        "\n",
        "plt.figure(figsize=(8, 6))\n",
        "sns.barplot(x='Activity Level', y='Calories', data=df)\n",
        "plt.title(\"Average Calories by Activity Level\")\n",
        "plt.xticks(rotation=45)\n",
        "plt.show()\n"
      ],
      "metadata": {
        "id": "Qa8j--Hvc1MQ"
      },
      "execution_count": null,
      "outputs": []
    },
    {
      "cell_type": "code",
      "source": [
        "# Step 9: Grouped Analysis\n",
        "print(\"\\n🔹 Average Nutrient Intake by Dietary Preference:\")\n",
        "print(df.groupby('Dietary Preference')[['Calories', 'Protein', 'Fat', 'Sugar']].mean())\n",
        "\n",
        "# Step 10: Countplot for Disease\n",
        "plt.figure(figsize=(10, 6))\n",
        "sns.countplot(y='Disease', data=df, order=df['Disease'].value_counts().index)\n",
        "plt.title(\"Disease Occurrence\")\n",
        "plt.show()"
      ],
      "metadata": {
        "id": "L9CvhMbCdMU6"
      },
      "execution_count": null,
      "outputs": []
    }
  ]
}