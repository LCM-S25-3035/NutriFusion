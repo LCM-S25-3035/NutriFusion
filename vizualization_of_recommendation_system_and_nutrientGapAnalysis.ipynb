{
  "nbformat": 4,
  "nbformat_minor": 0,
  "metadata": {
    "colab": {
      "provenance": []
    },
    "kernelspec": {
      "name": "python3",
      "display_name": "Python 3"
    },
    "language_info": {
      "name": "python"
    }
  },
  "cells": [
    {
      "cell_type": "code",
      "execution_count": 1,
      "metadata": {
        "colab": {
          "base_uri": "https://localhost:8080/",
          "height": 356
        },
        "id": "9r0l_3Bjdfzf",
        "outputId": "4fa791fc-a242-4a93-96b2-27c573f4ceff"
      },
      "outputs": [
        {
          "output_type": "error",
          "ename": "FileNotFoundError",
          "evalue": "[Errno 2] No such file or directory: 'nutrient_gap_analysis.csv'",
          "traceback": [
            "\u001b[0;31m---------------------------------------------------------------------------\u001b[0m",
            "\u001b[0;31mFileNotFoundError\u001b[0m                         Traceback (most recent call last)",
            "\u001b[0;32m/tmp/ipython-input-1-1424947594.py\u001b[0m in \u001b[0;36m<cell line: 0>\u001b[0;34m()\u001b[0m\n\u001b[1;32m      4\u001b[0m \u001b[0;34m\u001b[0m\u001b[0m\n\u001b[1;32m      5\u001b[0m \u001b[0;31m# Load your nutrient gap analysis CSV\u001b[0m\u001b[0;34m\u001b[0m\u001b[0;34m\u001b[0m\u001b[0m\n\u001b[0;32m----> 6\u001b[0;31m \u001b[0mnutrient_gap_df\u001b[0m \u001b[0;34m=\u001b[0m \u001b[0mpd\u001b[0m\u001b[0;34m.\u001b[0m\u001b[0mread_csv\u001b[0m\u001b[0;34m(\u001b[0m\u001b[0;34m\"nutrient_gap_analysis.csv\"\u001b[0m\u001b[0;34m)\u001b[0m  \u001b[0;31m# adjust path if needed\u001b[0m\u001b[0;34m\u001b[0m\u001b[0;34m\u001b[0m\u001b[0m\n\u001b[0m\u001b[1;32m      7\u001b[0m \u001b[0;34m\u001b[0m\u001b[0m\n\u001b[1;32m      8\u001b[0m \u001b[0;31m# Step 1: Calculate total gap per recipe\u001b[0m\u001b[0;34m\u001b[0m\u001b[0;34m\u001b[0m\u001b[0m\n",
            "\u001b[0;32m/usr/local/lib/python3.11/dist-packages/pandas/io/parsers/readers.py\u001b[0m in \u001b[0;36mread_csv\u001b[0;34m(filepath_or_buffer, sep, delimiter, header, names, index_col, usecols, dtype, engine, converters, true_values, false_values, skipinitialspace, skiprows, skipfooter, nrows, na_values, keep_default_na, na_filter, verbose, skip_blank_lines, parse_dates, infer_datetime_format, keep_date_col, date_parser, date_format, dayfirst, cache_dates, iterator, chunksize, compression, thousands, decimal, lineterminator, quotechar, quoting, doublequote, escapechar, comment, encoding, encoding_errors, dialect, on_bad_lines, delim_whitespace, low_memory, memory_map, float_precision, storage_options, dtype_backend)\u001b[0m\n\u001b[1;32m   1024\u001b[0m     \u001b[0mkwds\u001b[0m\u001b[0;34m.\u001b[0m\u001b[0mupdate\u001b[0m\u001b[0;34m(\u001b[0m\u001b[0mkwds_defaults\u001b[0m\u001b[0;34m)\u001b[0m\u001b[0;34m\u001b[0m\u001b[0;34m\u001b[0m\u001b[0m\n\u001b[1;32m   1025\u001b[0m \u001b[0;34m\u001b[0m\u001b[0m\n\u001b[0;32m-> 1026\u001b[0;31m     \u001b[0;32mreturn\u001b[0m \u001b[0m_read\u001b[0m\u001b[0;34m(\u001b[0m\u001b[0mfilepath_or_buffer\u001b[0m\u001b[0;34m,\u001b[0m \u001b[0mkwds\u001b[0m\u001b[0;34m)\u001b[0m\u001b[0;34m\u001b[0m\u001b[0;34m\u001b[0m\u001b[0m\n\u001b[0m\u001b[1;32m   1027\u001b[0m \u001b[0;34m\u001b[0m\u001b[0m\n\u001b[1;32m   1028\u001b[0m \u001b[0;34m\u001b[0m\u001b[0m\n",
            "\u001b[0;32m/usr/local/lib/python3.11/dist-packages/pandas/io/parsers/readers.py\u001b[0m in \u001b[0;36m_read\u001b[0;34m(filepath_or_buffer, kwds)\u001b[0m\n\u001b[1;32m    618\u001b[0m \u001b[0;34m\u001b[0m\u001b[0m\n\u001b[1;32m    619\u001b[0m     \u001b[0;31m# Create the parser.\u001b[0m\u001b[0;34m\u001b[0m\u001b[0;34m\u001b[0m\u001b[0m\n\u001b[0;32m--> 620\u001b[0;31m     \u001b[0mparser\u001b[0m \u001b[0;34m=\u001b[0m \u001b[0mTextFileReader\u001b[0m\u001b[0;34m(\u001b[0m\u001b[0mfilepath_or_buffer\u001b[0m\u001b[0;34m,\u001b[0m \u001b[0;34m**\u001b[0m\u001b[0mkwds\u001b[0m\u001b[0;34m)\u001b[0m\u001b[0;34m\u001b[0m\u001b[0;34m\u001b[0m\u001b[0m\n\u001b[0m\u001b[1;32m    621\u001b[0m \u001b[0;34m\u001b[0m\u001b[0m\n\u001b[1;32m    622\u001b[0m     \u001b[0;32mif\u001b[0m \u001b[0mchunksize\u001b[0m \u001b[0;32mor\u001b[0m \u001b[0miterator\u001b[0m\u001b[0;34m:\u001b[0m\u001b[0;34m\u001b[0m\u001b[0;34m\u001b[0m\u001b[0m\n",
            "\u001b[0;32m/usr/local/lib/python3.11/dist-packages/pandas/io/parsers/readers.py\u001b[0m in \u001b[0;36m__init__\u001b[0;34m(self, f, engine, **kwds)\u001b[0m\n\u001b[1;32m   1618\u001b[0m \u001b[0;34m\u001b[0m\u001b[0m\n\u001b[1;32m   1619\u001b[0m         \u001b[0mself\u001b[0m\u001b[0;34m.\u001b[0m\u001b[0mhandles\u001b[0m\u001b[0;34m:\u001b[0m \u001b[0mIOHandles\u001b[0m \u001b[0;34m|\u001b[0m \u001b[0;32mNone\u001b[0m \u001b[0;34m=\u001b[0m \u001b[0;32mNone\u001b[0m\u001b[0;34m\u001b[0m\u001b[0;34m\u001b[0m\u001b[0m\n\u001b[0;32m-> 1620\u001b[0;31m         \u001b[0mself\u001b[0m\u001b[0;34m.\u001b[0m\u001b[0m_engine\u001b[0m \u001b[0;34m=\u001b[0m \u001b[0mself\u001b[0m\u001b[0;34m.\u001b[0m\u001b[0m_make_engine\u001b[0m\u001b[0;34m(\u001b[0m\u001b[0mf\u001b[0m\u001b[0;34m,\u001b[0m \u001b[0mself\u001b[0m\u001b[0;34m.\u001b[0m\u001b[0mengine\u001b[0m\u001b[0;34m)\u001b[0m\u001b[0;34m\u001b[0m\u001b[0;34m\u001b[0m\u001b[0m\n\u001b[0m\u001b[1;32m   1621\u001b[0m \u001b[0;34m\u001b[0m\u001b[0m\n\u001b[1;32m   1622\u001b[0m     \u001b[0;32mdef\u001b[0m \u001b[0mclose\u001b[0m\u001b[0;34m(\u001b[0m\u001b[0mself\u001b[0m\u001b[0;34m)\u001b[0m \u001b[0;34m->\u001b[0m \u001b[0;32mNone\u001b[0m\u001b[0;34m:\u001b[0m\u001b[0;34m\u001b[0m\u001b[0;34m\u001b[0m\u001b[0m\n",
            "\u001b[0;32m/usr/local/lib/python3.11/dist-packages/pandas/io/parsers/readers.py\u001b[0m in \u001b[0;36m_make_engine\u001b[0;34m(self, f, engine)\u001b[0m\n\u001b[1;32m   1878\u001b[0m                 \u001b[0;32mif\u001b[0m \u001b[0;34m\"b\"\u001b[0m \u001b[0;32mnot\u001b[0m \u001b[0;32min\u001b[0m \u001b[0mmode\u001b[0m\u001b[0;34m:\u001b[0m\u001b[0;34m\u001b[0m\u001b[0;34m\u001b[0m\u001b[0m\n\u001b[1;32m   1879\u001b[0m                     \u001b[0mmode\u001b[0m \u001b[0;34m+=\u001b[0m \u001b[0;34m\"b\"\u001b[0m\u001b[0;34m\u001b[0m\u001b[0;34m\u001b[0m\u001b[0m\n\u001b[0;32m-> 1880\u001b[0;31m             self.handles = get_handle(\n\u001b[0m\u001b[1;32m   1881\u001b[0m                 \u001b[0mf\u001b[0m\u001b[0;34m,\u001b[0m\u001b[0;34m\u001b[0m\u001b[0;34m\u001b[0m\u001b[0m\n\u001b[1;32m   1882\u001b[0m                 \u001b[0mmode\u001b[0m\u001b[0;34m,\u001b[0m\u001b[0;34m\u001b[0m\u001b[0;34m\u001b[0m\u001b[0m\n",
            "\u001b[0;32m/usr/local/lib/python3.11/dist-packages/pandas/io/common.py\u001b[0m in \u001b[0;36mget_handle\u001b[0;34m(path_or_buf, mode, encoding, compression, memory_map, is_text, errors, storage_options)\u001b[0m\n\u001b[1;32m    871\u001b[0m         \u001b[0;32mif\u001b[0m \u001b[0mioargs\u001b[0m\u001b[0;34m.\u001b[0m\u001b[0mencoding\u001b[0m \u001b[0;32mand\u001b[0m \u001b[0;34m\"b\"\u001b[0m \u001b[0;32mnot\u001b[0m \u001b[0;32min\u001b[0m \u001b[0mioargs\u001b[0m\u001b[0;34m.\u001b[0m\u001b[0mmode\u001b[0m\u001b[0;34m:\u001b[0m\u001b[0;34m\u001b[0m\u001b[0;34m\u001b[0m\u001b[0m\n\u001b[1;32m    872\u001b[0m             \u001b[0;31m# Encoding\u001b[0m\u001b[0;34m\u001b[0m\u001b[0;34m\u001b[0m\u001b[0m\n\u001b[0;32m--> 873\u001b[0;31m             handle = open(\n\u001b[0m\u001b[1;32m    874\u001b[0m                 \u001b[0mhandle\u001b[0m\u001b[0;34m,\u001b[0m\u001b[0;34m\u001b[0m\u001b[0;34m\u001b[0m\u001b[0m\n\u001b[1;32m    875\u001b[0m                 \u001b[0mioargs\u001b[0m\u001b[0;34m.\u001b[0m\u001b[0mmode\u001b[0m\u001b[0;34m,\u001b[0m\u001b[0;34m\u001b[0m\u001b[0;34m\u001b[0m\u001b[0m\n",
            "\u001b[0;31mFileNotFoundError\u001b[0m: [Errno 2] No such file or directory: 'nutrient_gap_analysis.csv'"
          ]
        }
      ],
      "source": [
        "import pandas as pd\n",
        "import matplotlib.pyplot as plt\n",
        "import seaborn as sns\n",
        "\n",
        "# Load your nutrient gap analysis CSV\n",
        "nutrient_gap_df = pd.read_csv(\"nutrient_gap_analysis.csv\")  # adjust path if needed\n",
        "\n",
        "# Step 1: Calculate total gap per recipe\n",
        "nutrient_gap_df['total_gap'] = (\n",
        "    nutrient_gap_df['calories_gap'].abs() +\n",
        "    nutrient_gap_df['protein_gap'].abs() +\n",
        "    nutrient_gap_df['fat_gap'].abs() +\n",
        "    nutrient_gap_df['carbohydrates_gap'].abs()\n",
        ")\n",
        "\n",
        "# Step 2: Select top 10 recipes with largest nutrient gaps\n",
        "top_gap_recipes = nutrient_gap_df.sort_values(by='total_gap', ascending=False).head(10)\n",
        "\n",
        "# Step 3: Plot bar chart\n",
        "plt.figure(figsize=(10, 6))\n",
        "sns.barplot(y='recipe_name', x='total_gap', data=top_gap_recipes, palette='coolwarm')\n",
        "plt.xlabel('Total Nutrient Gap')\n",
        "plt.ylabel('Recipe Name')\n",
        "plt.title('Top 10 Recipes with Largest Nutrient Gaps')\n",
        "plt.tight_layout()\n",
        "plt.show()\n"
      ]
    },
    {
      "cell_type": "code",
      "source": [
        "import matplotlib.pyplot as plt\n",
        "\n",
        "top_gap_df = nutrient_gap_df.sort_values(by='total_gap', ascending=False).head(10)\n",
        "recipes = top_gap_df['recipe_name']\n",
        "gaps = top_gap_df['total_gap']\n",
        "\n",
        "# Plot\n",
        "plt.barh(recipes[::-1], gaps[::-1])\n",
        "plt.title(\"Recipes with Largest Nutrient Gaps\")\n",
        "plt.show()"
      ],
      "metadata": {
        "id": "jzlSiL-Gdlq5"
      },
      "execution_count": null,
      "outputs": []
    },
    {
      "cell_type": "code",
      "source": [
        "# Example: top recommended ingredients\n",
        "ingredients = ['spinach', 'salmon', 'quinoa', 'avocado']\n",
        "scores = [25, 20, 18, 15]\n",
        "\n",
        "plt.figure(figsize=(6, 6))\n",
        "plt.pie(scores, labels=ingredients, autopct='%1.1f%%', startangle=140)\n",
        "plt.title('Top Recommended Ingredients')\n",
        "plt.show()\n"
      ],
      "metadata": {
        "id": "qA4uykuHdsGs"
      },
      "execution_count": null,
      "outputs": []
    },
    {
      "cell_type": "code",
      "source": [
        "import seaborn as sns\n",
        "import pandas as pd\n",
        "\n",
        "# Example: mock heatmap\n",
        "data = pd.DataFrame({\n",
        "    'User1': [20, 50, 100, 30],\n",
        "    'User2': [10, 60, 110, 25],\n",
        "    'User3': [5, 70, 120, 40]\n",
        "}, index=['Protein', 'Carbs', 'Calories', 'Fat'])\n",
        "\n",
        "plt.figure(figsize=(6, 4))\n",
        "sns.heatmap(data, annot=True, cmap='YlGnBu')\n",
        "plt.title('Nutrient Deficiency per User')\n",
        "plt.show()\n"
      ],
      "metadata": {
        "id": "0OIi-2C6dsD2"
      },
      "execution_count": null,
      "outputs": []
    },
    {
      "cell_type": "code",
      "source": [
        "import matplotlib.pyplot as plt\n",
        "\n",
        "# Replace with your model's top ingredient suggestions and scores\n",
        "recommended_ingredients = ['spinach', 'salmon', 'quinoa', 'tofu']\n",
        "scores = [0.95, 0.87, 0.84, 0.80]\n",
        "\n",
        "plt.figure(figsize=(8, 5))\n",
        "plt.barh(recommended_ingredients[::-1], scores[::-1], color='green')\n",
        "plt.xlabel(\"Recommendation Score\")\n",
        "plt.title(\"Top Ingredients Recommended for Nutrient Deficiency\")\n",
        "plt.show()\n"
      ],
      "metadata": {
        "id": "IdxrivInd1tS"
      },
      "execution_count": null,
      "outputs": []
    },
    {
      "cell_type": "code",
      "source": [
        "import seaborn as sns\n",
        "import pandas as pd\n",
        "\n",
        "# Replace this with actual model output (recipes × ingredients matrix)\n",
        "df = pd.DataFrame({\n",
        "    'spinach': [0.95, 0.75, 0.50],\n",
        "    'salmon': [0.90, 0.85, 0.30],\n",
        "    'quinoa': [0.80, 0.70, 0.20],\n",
        "}, index=['Recipe1', 'Recipe2', 'Recipe3'])\n",
        "\n",
        "plt.figure(figsize=(7, 5))\n",
        "sns.heatmap(df, annot=True, cmap='YlGnBu')\n",
        "plt.title(\"Recommended Ingredient Scores per Recipe\")\n",
        "plt.show()\n"
      ],
      "metadata": {
        "id": "vpws3qtyd8GE"
      },
      "execution_count": null,
      "outputs": []
    },
    {
      "cell_type": "code",
      "source": [
        "reasons = ['Fills Protein Gap', 'Common in Similar Dishes', 'Low Saturated Fat']\n",
        "weights = [0.9, 0.8, 0.6]\n",
        "\n",
        "plt.figure(figsize=(6, 4))\n",
        "plt.barh(reasons[::-1], weights[::-1], color='skyblue')\n",
        "plt.title('Why Ingredient is Recommended')\n",
        "plt.xlabel('Relevance Score')\n",
        "plt.show()\n"
      ],
      "metadata": {
        "id": "uAqLf91jd-10"
      },
      "execution_count": null,
      "outputs": []
    },
    {
      "cell_type": "code",
      "source": [
        "from collections import Counter\n",
        "import matplotlib.pyplot as plt\n",
        "\n",
        "# Split ingredients from all recipes\n",
        "all_ingredients = gap_df['ingredients'].dropna().str.split(', ')\n",
        "flat_ingredients = [ingredient.strip() for sublist in all_ingredients for ingredient in sublist]\n",
        "\n",
        "# Count frequency as score\n",
        "ingredient_counts = Counter(flat_ingredients)\n",
        "top_ingredients = ingredient_counts.most_common(10)\n",
        "\n",
        "# Unpack for plotting\n",
        "ingredients, scores = zip(*top_ingredients)\n",
        "\n",
        "# Bar chart of top recommended ingredients\n",
        "plt.figure(figsize=(8, 5))\n",
        "plt.barh(ingredients[::-1], scores[::-1], color='green')\n",
        "plt.xlabel(\"Frequency in Recommendations\")\n",
        "plt.title(\"Top Recommended Ingredients\")\n",
        "plt.tight_layout()\n",
        "plt.show()"
      ],
      "metadata": {
        "id": "LufQhIfJeBLk"
      },
      "execution_count": null,
      "outputs": []
    }
  ]
}