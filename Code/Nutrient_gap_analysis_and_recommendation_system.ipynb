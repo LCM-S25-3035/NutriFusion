{
  "nbformat": 4,
  "nbformat_minor": 0,
  "metadata": {
    "colab": {
      "provenance": []
    },
    "kernelspec": {
      "name": "python3",
      "display_name": "Python 3"
    },
    "language_info": {
      "name": "python"
    }
  },
  "cells": [
    {
      "cell_type": "code",
      "source": [
        "import pandas as pd\n",
        "\n",
        "# Load the final dataset\n",
        "final_df = pd.read_csv(\"/content/final_output.csv\")  # Adjust path if needed\n"
      ],
      "metadata": {
        "id": "TiNwL8Au8fiX"
      },
      "execution_count": 1,
      "outputs": []
    },
    {
      "cell_type": "code",
      "source": [
        "# Define required daily intake\n",
        "required_nutrients = {\n",
        "    'calories': 2000,\n",
        "    'protein': 50,\n",
        "    'fat': 70,\n",
        "    'carbohydrates': 310\n",
        "}\n",
        "\n",
        "# Create working copy\n",
        "gap_df = final_df.copy()\n",
        "\n",
        "# Compute nutrient gaps\n",
        "gap_df['calories_gap'] = required_nutrients['calories'] - gap_df['calories']\n",
        "gap_df['protein_gap'] = required_nutrients['protein'] - gap_df['protein']\n",
        "gap_df['fat_gap'] = required_nutrients['fat'] - gap_df['fat']\n",
        "gap_df['carbohydrates_gap'] = required_nutrients['carbohydrates'] - gap_df['carbohydrates']\n",
        "\n",
        "# Flag deficiencies\n",
        "gap_df['calories_deficiency'] = gap_df['calories'] < required_nutrients['calories']\n",
        "gap_df['protein_deficiency'] = gap_df['protein'] < required_nutrients['protein']\n",
        "gap_df['fat_deficiency'] = gap_df['fat'] < required_nutrients['fat']\n",
        "gap_df['carbohydrates_deficiency'] = gap_df['carbohydrates'] < required_nutrients['carbohydrates']\n"
      ],
      "metadata": {
        "id": "XLzBQO4k8lQD"
      },
      "execution_count": 2,
      "outputs": []
    },
    {
      "cell_type": "code",
      "source": [
        "import pandas as pd\n",
        "\n",
        "# Step 1: Load the final dataset\n",
        "final_df = pd.read_csv(\"final_output.csv\")  # Update path if needed\n",
        "\n",
        "# Step 2: Define daily nutrient requirements (modify as needed)\n",
        "required_nutrients = {\n",
        "    'calories': 2000,\n",
        "    'protein': 50,\n",
        "    'fat': 70,\n",
        "    'carbohydrates': 310\n",
        "}\n",
        "\n",
        "# Step 3: Perform Nutrient Gap Analysis\n",
        "gap_df = final_df.copy()\n",
        "gap_df['calories_gap'] = required_nutrients['calories'] - gap_df['calories']\n",
        "gap_df['protein_gap'] = required_nutrients['protein'] - gap_df['protein']\n",
        "gap_df['fat_gap'] = required_nutrients['fat'] - gap_df['fat']\n",
        "gap_df['carbohydrates_gap'] = required_nutrients['carbohydrates'] - gap_df['carbohydrates']\n",
        "\n",
        "# Step 4: Flag Deficiencies\n",
        "gap_df['calories_deficiency'] = gap_df['calories'] < required_nutrients['calories']\n",
        "gap_df['protein_deficiency'] = gap_df['protein'] < required_nutrients['protein']\n",
        "gap_df['fat_deficiency'] = gap_df['fat'] < required_nutrients['fat']\n",
        "gap_df['carbohydrates_deficiency'] = gap_df['carbohydrates'] < required_nutrients['carbohydrates']\n",
        "\n",
        "# Step 5: Save as CSV\n",
        "output_filename = \"nutrient_gap_analysis.csv\"\n",
        "gap_df.to_csv(output_filename, index=False)\n",
        "\n",
        "# Step 6: Generate Download Link (for Colab or Jupyter)\n",
        "from IPython.display import FileLink, display\n",
        "display(FileLink(output_filename))\n"
      ],
      "metadata": {
        "colab": {
          "base_uri": "https://localhost:8080/",
          "height": 34
        },
        "id": "7xoJmBJA8nag",
        "outputId": "61df5aff-e0d5-4e6b-dc21-513f2e6a8ace"
      },
      "execution_count": 3,
      "outputs": [
        {
          "output_type": "display_data",
          "data": {
            "text/plain": [
              "/content/nutrient_gap_analysis.csv"
            ],
            "text/html": [
              "<a href='nutrient_gap_analysis.csv' target='_blank'>nutrient_gap_analysis.csv</a><br>"
            ]
          },
          "metadata": {}
        }
      ]
    },
    {
      "cell_type": "markdown",
      "source": [
        "Recommendation system"
      ],
      "metadata": {
        "id": "q16jQRJ-XFUO"
      }
    },
    {
      "cell_type": "code",
      "source": [
        "# STEP 1: INSTALL LIBRARIES\n",
        "!pip install lightfm\n",
        "\n",
        "# STEP 2: IMPORT LIBRARIES\n",
        "import pandas as pd\n",
        "import numpy as np\n",
        "import random\n",
        "from lightfm import LightFM\n",
        "from lightfm.data import Dataset\n",
        "\n",
        "# STEP 3: LOAD THE DATA\n",
        "df = pd.read_csv(\"/content/nutrient_gap_analysis.csv\")\n",
        "\n",
        "# STEP 4: CALCULATE NUTRIENT SCORE (LOWER = BETTER)\n",
        "df['nutrient_score'] = (\n",
        "    df['calories_deficiency'].astype(int) +\n",
        "    df['protein_deficiency'].astype(int) +\n",
        "    df['fat_deficiency'].astype(int) +\n",
        "    df['carbohydrates_deficiency'].astype(int)\n",
        ")\n",
        "\n",
        "# STEP 5: FILTER OUT USELESS RECIPES (WHERE NOTHING IS FIXED)\n",
        "df_filtered = df[df['nutrient_score'] > 0].copy()\n",
        "\n",
        "# STEP 6: CREATE RANK AND NORMALIZE TO RATING (HIGH = BETTER)\n",
        "# STEP 6: CREATE RANK AND STRETCH TO RATING SCALE (BETTER VARIANCE)\n",
        "df_filtered['nutrient_rank'] = df_filtered['nutrient_score'].rank(ascending=True)\n",
        "\n",
        "# Stretch values to 0.3–1.0 to ensure rating variation\n",
        "df_filtered['rating'] = 0.3 + (0.7 * (1 - df_filtered['nutrient_rank'] / df_filtered['nutrient_rank'].max()))\n",
        "\n",
        "# Optional: Limit to top 1000 recipes only\n",
        "df_filtered = df_filtered.sort_values(by='rating', ascending=False).head(1000)\n",
        "\n",
        "\n",
        "# STEP 7: SIMULATE USERS\n",
        "user_ids = ['user1', 'user2', 'user3', 'user4', 'user5']\n",
        "df_filtered['user_id'] = [random.choice(user_ids) for _ in range(len(df_filtered))]\n",
        "\n",
        "# STEP 8: BUILD INTERACTION MATRIX FOR LIGHTFM\n",
        "dataset = Dataset()\n",
        "dataset.fit(df_filtered['user_id'], df_filtered['recipe_name'])\n",
        "\n",
        "(interactions, weights) = dataset.build_interactions([\n",
        "    (row['user_id'], row['recipe_name'], row['rating']) for _, row in df_filtered.iterrows()\n",
        "])\n",
        "\n",
        "# STEP 9: TRAIN THE MODEL\n",
        "model = LightFM(loss='warp')\n",
        "model.fit(interactions, epochs=30, num_threads=2)\n",
        "\n",
        "# STEP 10: MAPPING\n",
        "user_id_map, _, item_id_map, _ = dataset.mapping()\n",
        "item_labels = list(item_id_map.keys())\n",
        "\n",
        "# STEP 11: FUNCTION TO RECOMMEND\n",
        "def recommend_top_n(user, model, item_labels, n=5):\n",
        "    user_index = user_id_map[user]\n",
        "    scores = model.predict(user_index, np.arange(len(item_labels)))\n",
        "    top_indices = np.argsort(-scores)[:n]\n",
        "    return [(item_labels[i], round(scores[i], 2)) for i in top_indices]\n",
        "\n",
        "# STEP 12: GET RECOMMENDATIONS FOR USER1\n",
        "recommend_top_n('user1', model, item_labels)\n"
      ],
      "metadata": {
        "colab": {
          "base_uri": "https://localhost:8080/"
        },
        "id": "b1gJxpZXbd80",
        "outputId": "5b76c6c7-0225-42e2-8c32-e63e9855e4c5"
      },
      "execution_count": 25,
      "outputs": [
        {
          "output_type": "stream",
          "name": "stdout",
          "text": [
            "Requirement already satisfied: lightfm in /usr/local/lib/python3.11/dist-packages (1.17)\n",
            "Requirement already satisfied: numpy in /usr/local/lib/python3.11/dist-packages (from lightfm) (2.0.2)\n",
            "Requirement already satisfied: scipy>=0.17.0 in /usr/local/lib/python3.11/dist-packages (from lightfm) (1.15.3)\n",
            "Requirement already satisfied: requests in /usr/local/lib/python3.11/dist-packages (from lightfm) (2.32.3)\n",
            "Requirement already satisfied: scikit-learn in /usr/local/lib/python3.11/dist-packages (from lightfm) (1.6.1)\n",
            "Requirement already satisfied: charset-normalizer<4,>=2 in /usr/local/lib/python3.11/dist-packages (from requests->lightfm) (3.4.2)\n",
            "Requirement already satisfied: idna<4,>=2.5 in /usr/local/lib/python3.11/dist-packages (from requests->lightfm) (3.10)\n",
            "Requirement already satisfied: urllib3<3,>=1.21.1 in /usr/local/lib/python3.11/dist-packages (from requests->lightfm) (2.4.0)\n",
            "Requirement already satisfied: certifi>=2017.4.17 in /usr/local/lib/python3.11/dist-packages (from requests->lightfm) (2025.6.15)\n",
            "Requirement already satisfied: joblib>=1.2.0 in /usr/local/lib/python3.11/dist-packages (from scikit-learn->lightfm) (1.5.1)\n",
            "Requirement already satisfied: threadpoolctl>=3.1.0 in /usr/local/lib/python3.11/dist-packages (from scikit-learn->lightfm) (3.6.0)\n"
          ]
        },
        {
          "output_type": "execute_result",
          "data": {
            "text/plain": [
              "[('pineapple upside down cake muffins', np.float32(0.23)),\n",
              " ('slow cooker brisket', np.float32(0.22)),\n",
              " ('mini taco bites', np.float32(0.16)),\n",
              " ('lasagna roll ups', np.float32(0.09)),\n",
              " ('chicken and sausage hunters style stew recipes', np.float32(0.08))]"
            ]
          },
          "metadata": {},
          "execution_count": 25
        }
      ]
    },
    {
      "cell_type": "markdown",
      "source": [
        "evaluation matrices for recommendation system"
      ],
      "metadata": {
        "id": "mKXxDmaIiITe"
      }
    },
    {
      "cell_type": "code",
      "source": [
        "\n"
      ],
      "metadata": {
        "colab": {
          "base_uri": "https://localhost:8080/"
        },
        "id": "7O4XiHAFdsYd",
        "outputId": "59532db1-48a0-437f-d25f-1b7d4cdc8e21"
      },
      "execution_count": 26,
      "outputs": [
        {
          "output_type": "stream",
          "name": "stdout",
          "text": [
            "🔍 Evaluation Metrics for the LightFM Model\n",
            "\n",
            "📌 Precision@5: 1.0000\n",
            "📌 Recall@5: 0.0252\n",
            "📌 AUC Score: 1.0000\n"
          ]
        }
      ]
    },
    {
      "cell_type": "markdown",
      "source": [],
      "metadata": {
        "id": "QihnPS7qiEjZ"
      }
    },
    {
      "cell_type": "code",
      "source": [],
      "metadata": {
        "id": "K7sI3CzZseXM"
      },
      "execution_count": null,
      "outputs": []
    }
  ]
}