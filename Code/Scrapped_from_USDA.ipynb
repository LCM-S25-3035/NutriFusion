{
  "nbformat": 4,
  "nbformat_minor": 0,
  "metadata": {
    "colab": {
      "provenance": []
    },
    "kernelspec": {
      "name": "python3",
      "display_name": "Python 3"
    },
    "language_info": {
      "name": "python"
    }
  },
  "cells": [
    {
      "cell_type": "code",
      "source": [
        "import requests\n",
        "import pandas as pd\n",
        "import time\n",
        "\n",
        "# USDA API key\n",
        "USDA_API_KEY = \"0tJC81LJtbQIkk4mlAmp8t8Q9TrsbyLp4DiM46bL\"\n",
        "OUTPUT_FILE = \"usda_1000_nutrition_data.csv\"\n",
        "DESIRED_COUNT = 1000\n",
        "\n",
        "# Search terms to get diverse foods\n",
        "SEARCH_TERMS = [\n",
        "    \"chili\", \"waffles\", \"sandwich\", \"biryani\", \"idli\", \"paratha\", \"udon\", \"kimchi\",\n",
        "    \"paneer\", \"pho\", \"dumplings\", \"risotto\", \"gnocchi\", \"miso\", \"lamb\", \"okra\", \"plantain\",\n",
        "    \"ramen\", \"muffin\", \"pudding\", \"samosa\", \"falafel\", \"cornbread\", \"tortilla\", \"brussels sprouts\",\n",
        "    \"clams\", \"lobster\", \"macaroni\", \"beet\", \"turnip\", \"radish\", \"barley\", \"oats\", \"kale\",\n",
        "    \"cabbage\", \"leek\", \"cucumber\", \"squash\", \"eggplant\", \"jackfruit\", \"guava\", \"papaya\",\n",
        "    \"pomegranate\", \"fig\", \"date\", \"almond\", \"cashew\", \"pecan\", \"walnut\", \"hazelnut\"\n",
        "]\n",
        "\n",
        "def get_nutrition_data(search_term, page=1):\n",
        "    url = (\n",
        "        f\"https://api.nal.usda.gov/fdc/v1/foods/search\"\n",
        "        f\"?query={search_term}&pageSize=25&pageNumber={page}&api_key={USDA_API_KEY}\"\n",
        "    )\n",
        "    response = requests.get(url)\n",
        "    if response.status_code != 200:\n",
        "        return []\n",
        "\n",
        "    foods = []\n",
        "    for food in response.json().get(\"foods\", []):\n",
        "        nutrients = {n[\"nutrientName\"]: n[\"value\"] for n in food.get(\"foodNutrients\", [])}\n",
        "        foods.append({\n",
        "            \"description\": food.get(\"description\"),\n",
        "            \"fdcId\": food.get(\"fdcId\"),\n",
        "            \"energy_kcal\": nutrients.get(\"Energy\", 0),\n",
        "            \"protein_g\": nutrients.get(\"Protein\", 0),\n",
        "            \"fat_g\": nutrients.get(\"Total lipid (fat)\", 0),\n",
        "            \"carbohydrates_g\": nutrients.get(\"Carbohydrate, by difference\", 0),\n",
        "            \"fiber_g\": nutrients.get(\"Fiber, total dietary\", 0),\n",
        "            \"sugar_g\": nutrients.get(\"Sugars, total including NLEA\", 0)\n",
        "        })\n",
        "    return foods\n",
        "\n",
        "# Collecting data\n",
        "collected = []\n",
        "unique_ids = set()\n",
        "total_collected = 0\n",
        "\n",
        "for term in SEARCH_TERMS:\n",
        "    for page in range(1, 6):  # Up to 5 pages per term\n",
        "        foods = get_nutrition_data(term, page)\n",
        "        for item in foods:\n",
        "            if item[\"fdcId\"] not in unique_ids:\n",
        "                unique_ids.add(item[\"fdcId\"])\n",
        "                collected.append(item)\n",
        "                total_collected += 1\n",
        "                if total_collected >= DESIRED_COUNT:\n",
        "                    break\n",
        "        if total_collected >= DESIRED_COUNT:\n",
        "            break\n",
        "        time.sleep(0.5)\n",
        "    if total_collected >= DESIRED_COUNT:\n",
        "        break\n",
        "\n",
        "# Save to CSV\n",
        "df = pd.DataFrame(collected)\n",
        "df.to_csv(OUTPUT_FILE, index=False)\n",
        "print(f\"✅ Done! Saved {len(df)} unique items to {OUTPUT_FILE}\")\n"
      ],
      "metadata": {
        "colab": {
          "base_uri": "https://localhost:8080/"
        },
        "id": "BjdkocetcAYL",
        "outputId": "fd29ee2a-564c-4084-f094-4d1d90da920e"
      },
      "execution_count": 4,
      "outputs": [
        {
          "output_type": "stream",
          "name": "stdout",
          "text": [
            "✅ Done! Saved 1000 unique items to usda_1000_nutrition_data.csv\n"
          ]
        }
      ]
    }
  ]
}