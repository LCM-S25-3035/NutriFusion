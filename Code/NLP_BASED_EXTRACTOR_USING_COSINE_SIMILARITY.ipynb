{
  "nbformat": 4,
  "nbformat_minor": 0,
  "metadata": {
    "colab": {
      "provenance": []
    },
    "kernelspec": {
      "name": "python3",
      "display_name": "Python 3"
    },
    "language_info": {
      "name": "python"
    }
  },
  "cells": [
    {
      "cell_type": "code",
      "execution_count": null,
      "metadata": {
        "id": "fErogvwUl7Kh"
      },
      "outputs": [],
      "source": [
        "# === Imports ===\n",
        "import re\n",
        "import spacy\n",
        "import pandas as pd\n",
        "from collections import defaultdict\n",
        "from sklearn.feature_extraction.text import TfidfVectorizer\n",
        "from sklearn.metrics.pairwise import cosine_similarity\n",
        "\n",
        "# === Load Data ===\n",
        "# Load the recipe dataset\n",
        "recipe_df = pd.read_csv('/content/70000_recipes_nutrients_cleaned_final.csv')\n",
        "\n",
        "# === Step 1: Extract All Known Ingredients from Dataset ===\n",
        "def extract_all_ingredients(df):\n",
        "    all_ingredients = set()\n",
        "    for row in df['ingredients']:\n",
        "        ing_list = [i.strip().lower() for i in row.split(',')]\n",
        "        all_ingredients.update(ing_list)\n",
        "    return list(all_ingredients)\n",
        "\n",
        "known_ingredients = extract_all_ingredients(recipe_df)\n",
        "\n",
        "# === Step 2: Clean Text Utility Function ===\n",
        "def clean_ingredient_text(text):\n",
        "    text = text.lower()\n",
        "    text = re.sub(r'\\b(\\d+\\/\\d+|\\d+\\.\\d+|\\d+)\\s*(cups?|tbsp|tablespoons?|tsp|teaspoons?|grams?|kg|g|ml|l|pounds?|oz|cloves?|slices?|dash|pinch|package|packets?)\\b', '', text)\n",
        "    text = re.sub(r'\\(.*?\\)', '', text)\n",
        "    text = re.sub(r'\\b(chopped|minced|diced|fresh|thinly sliced|grated|sliced|peeled|optional|divided|rinsed|drained|beaten|ground)\\b', '', text)\n",
        "    text = re.sub(r'[^a-zA-Z ]', '', text)\n",
        "    text = re.sub(r'\\s+', ' ', text).strip()\n",
        "    return text\n",
        "\n",
        "# === Step 3: Cleaned Ingredient Mapping for Better Matching ===\n",
        "def create_cleaned_ingredient_mapping(df):\n",
        "    mapping = defaultdict(list)\n",
        "    for row in df['ingredients']:\n",
        "        for ing in row.split(','):\n",
        "            ing_clean = clean_ingredient_text(ing)\n",
        "            if ing_clean:\n",
        "                mapping[ing_clean].append(ing.strip().lower())\n",
        "    return mapping\n",
        "\n",
        "ingredient_mapping = create_cleaned_ingredient_mapping(recipe_df)\n",
        "cleaned_ingredients = list(ingredient_mapping.keys())\n",
        "\n",
        "# === Step 4: Extract Ingredients from User Input ===\n",
        "def extract_ingredients_from_text(recipe_text):\n",
        "    lines = recipe_text.lower().split('\\n')\n",
        "    extracted = []\n",
        "    for line in lines:\n",
        "        line = re.sub(r'\\b(\\d+\\/\\d+|\\d+\\.\\d+|\\d+)\\s*(cups?|tbsp|tablespoons?|tsp|teaspoons?|grams?|kg|g|ml|l|pounds?|oz|cloves?|slices?|dash|pinch)\\b', '', line)\n",
        "        line = re.sub(r'\\(.*?\\)', '', line)\n",
        "        line = re.sub(r'\\b(chopped|minced|diced|fresh|thinly sliced|grated|sliced|peeled|optional|divided|rinsed|drained|beaten|ground)\\b', '', line)\n",
        "        line = re.sub(r'[^a-zA-Z ]', '', line)\n",
        "        line = line.strip()\n",
        "        if line:\n",
        "            extracted.append(line)\n",
        "    return extracted\n",
        "\n",
        "# === Step 5: Match Ingredients to Cleaned Dataset using Cosine Similarity ===\n",
        "def match_ingredients_to_cleaned_dataset(user_ings, cleaned_ings, threshold=0.6):\n",
        "    matches = []\n",
        "\n",
        "    vectorizer = TfidfVectorizer().fit(cleaned_ings + user_ings)\n",
        "    cleaned_vecs = vectorizer.transform(cleaned_ings)\n",
        "\n",
        "    for user_ing in user_ings:\n",
        "        user_vec = vectorizer.transform([user_ing])\n",
        "        sims = cosine_similarity(user_vec, cleaned_vecs)[0]\n",
        "\n",
        "        max_sim_idx = sims.argmax()\n",
        "        max_sim_val = sims[max_sim_idx]\n",
        "\n",
        "        if max_sim_val >= threshold:\n",
        "            matched = cleaned_ings[max_sim_idx]\n",
        "            matches.append((user_ing, matched))\n",
        "        else:\n",
        "            matches.append((user_ing, None))\n",
        "\n",
        "    return matches\n",
        "\n",
        "# === MAIN EXECUTION ===\n",
        "\n",
        "# Example user input recipe\n",
        "user_recipe = \"\"\"\n",
        "1 cup quinoa\n",
        "2 tablespoons lemon juice\n",
        "1/4 cup chopped cucumber\n",
        "1/4 cup diced tomatoes\n",
        "2 tablespoons chopped parsley\n",
        "1 tablespoon olive oil\n",
        "Salt and pepper to taste\n",
        "\n",
        "\"\"\"\n",
        "\n",
        "# Step 1: Extract cleaned ingredients from user input\n",
        "extracted = extract_ingredients_from_text(user_recipe)\n",
        "\n",
        "# Step 2: Match extracted ingredients to known/cleaned ingredients\n",
        "matches = match_ingredients_to_cleaned_dataset(extracted, cleaned_ingredients)\n",
        "\n",
        "# Step 3: Print results\n",
        "print(\"User Input ↔ Matched Ingredient\")\n",
        "for user_ing, matched in matches:\n",
        "    print(f\"{user_ing} ↔ {matched if matched else 'No match'}\")\n"
      ]
    },
    {
      "cell_type": "markdown",
      "source": [
        "First prompt:  I need to perform NER ingredient matching with cosine similarity\n",
        "\n",
        "Last prompt : it should match with dataset after execution with 0.6 threshold"
      ],
      "metadata": {
        "id": "YVfgV3M6AHrX"
      }
    },
    {
      "cell_type": "markdown",
      "source": [
        "**COSINE SIMILARITY**\n",
        "\n",
        "The third section focuses on matching ingredients using cosine similarity. It begins by compiling all known ingredients from your dataset and cleaning them using regex to remove quantities and descriptors. It then takes a user-input recipe, extracts and cleans the ingredients similarly, and represents both user and known ingredients as vectors using TF-IDF. The cosine similarity between each user ingredient and the dataset's ingredients is calculated, and the closest match above a given threshold is selected. This technique allows for fuzzy matching, accommodating slight variations in wording (e.g., \"tomato\" vs \"tomatoes\") and improving alignment between user-provided ingredients and dataset entries."
      ],
      "metadata": {
        "id": "7Hm9X3NImLOa"
      }
    }
  ]
}