{
  "nbformat": 4,
  "nbformat_minor": 0,
  "metadata": {
    "colab": {
      "provenance": []
    },
    "kernelspec": {
      "name": "python3",
      "display_name": "Python 3"
    },
    "language_info": {
      "name": "python"
    }
  },
  "cells": [
    {
      "cell_type": "code",
      "source": [
        "    import pandas as pd\n",
        "\n",
        "    # Load both cleaned datasets\n",
        "    df1 = pd.read_csv('/content/cleaned_nutrition_dataset.csv')\n",
        "    df2 = pd.read_csv('/content/cleaned_dataset_common.csv')\n",
        "\n",
        "    # Merge the two datasets (stacking rows)\n",
        "    merged_df = pd.concat([df1, df2], ignore_index=True)\n",
        "\n",
        "    # Optional: drop duplicate rows\n",
        "    merged_df.drop_duplicates(inplace=True)\n",
        "\n",
        "    # Save the merged dataset\n",
        "    merged_df.to_csv('/content/merged_nutrition_dataset.csv', index=False)\n",
        "\n",
        "    # Show preview\n",
        "    print(\"Merged dataset shape:\", merged_df.shape)\n",
        "    print(merged_df.head())\n"
      ],
      "metadata": {
        "id": "vV8UYaVRoiWk"
      },
      "execution_count": null,
      "outputs": []
    }
  ]
}