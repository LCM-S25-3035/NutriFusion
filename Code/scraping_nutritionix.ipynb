{
  "nbformat": 4,
  "nbformat_minor": 0,
  "metadata": {
    "colab": {
      "provenance": []
    },
    "kernelspec": {
      "name": "python3",
      "display_name": "Python 3"
    },
    "language_info": {
      "name": "python"
    }
  },
  "cells": [
    {
      "cell_type": "code",
      "execution_count": null,
      "metadata": {
        "id": "sTzwbTP4-5Hg"
      },
      "outputs": [],
      "source": [
        "import requests\n",
        "import pandas as pd\n",
        "import time\n",
        "\n",
        "APP_ID = \"5b720389\"\n",
        "API_KEY = \"0a74f60c5c4ebeed8ed3c975f1844fd3\"\n",
        "url = \"https://trackapi.nutritionix.com/v2/natural/nutrients\"\n",
        "headers = {\n",
        "    \"x-app-id\": APP_ID,\n",
        "    \"x-app-key\": API_KEY,\n",
        "    \"Content-Type\": \"application/json\"\n",
        "}\n",
        "\n",
        "# Example: generate 200+ food names by combining lists of common foods\n",
        "fruits = [\"apple\", \"banana\", \"orange\", \"grape\", \"pear\", \"peach\", \"mango\", \"kiwi\", \"pineapple\", \"strawberry\"]\n",
        "veggies = [\"carrot\", \"broccoli\", \"spinach\", \"cabbage\", \"tomato\", \"onion\", \"pepper\", \"cucumber\", \"celery\", \"lettuce\"]\n",
        "proteins = [\"chicken breast\", \"ground beef\", \"salmon\", \"egg\", \"tofu\", \"pork chop\", \"shrimp\", \"tuna\", \"turkey\", \"lamb\"]\n",
        "grains = [\"white rice\", \"brown rice\", \"oatmeal\", \"quinoa\", \"pasta\", \"bread\", \"bagel\", \"cereal\", \"granola\", \"tortilla\"]\n",
        "snacks = [\"peanut butter\", \"almonds\", \"cashews\", \"popcorn\", \"potato chips\", \"chocolate\", \"cookie\", \"ice cream\", \"pizza\", \"hamburger\"]\n",
        "\n",
        "# Combine and repeat to get 200+ items\n",
        "base_list = fruits + veggies + proteins + grains + snacks\n",
        "food_queries = (base_list * ((200 // len(base_list)) + 1))[:200]\n",
        "\n",
        "results = []\n",
        "\n",
        "for idx, query in enumerate(food_queries, 1):\n",
        "    print(f\"Processing {idx}/{len(food_queries)}: {query}\")\n",
        "    data = {\"query\": query, \"timezone\": \"US/Eastern\"}\n",
        "    response = requests.post(url, headers=headers, json=data)\n",
        "    if response.status_code == 200:\n",
        "        for food in response.json().get(\"foods\", []):\n",
        "            results.append({\n",
        "                \"food_name\": food.get(\"food_name\"),\n",
        "                \"serving_qty\": food.get(\"serving_qty\"),\n",
        "                \"serving_unit\": food.get(\"serving_unit\"),\n",
        "                \"calories\": food.get(\"nf_calories\"),\n",
        "                \"protein\": food.get(\"nf_protein\"),\n",
        "                \"fat\": food.get(\"nf_total_fat\"),\n",
        "                \"carbohydrates\": food.get(\"nf_total_carbohydrate\"),\n",
        "                \"sugar\": food.get(\"nf_sugars\"),\n",
        "            })\n",
        "    else:\n",
        "        print(f\"Error {response.status_code} for query '{query}': {response.text}\")\n",
        "    time.sleep(0.5)\n",
        "\n",
        "df = pd.DataFrame(results)\n",
        "df.to_csv(\"nutritionix_bulk_data.csv\", index=False)\n",
        "print(f\"Saved {len(df)} records to nutritionix_bulk_data.csv\")\n"
      ]
    }
  ]
}