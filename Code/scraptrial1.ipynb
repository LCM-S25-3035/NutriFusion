{
  "nbformat": 4,
  "nbformat_minor": 0,
  "metadata": {
    "colab": {
      "private_outputs": true,
      "provenance": []
    },
    "kernelspec": {
      "name": "python3",
      "display_name": "Python 3"
    },
    "language_info": {
      "name": "python"
    }
  },
  "cells": [
    {
      "cell_type": "code",
      "source": [
        "import requests\n",
        "from bs4 import BeautifulSoup\n",
        "import pandas as pd\n",
        "\n",
        "\n",
        "url = 'https://www.allrecipes.com/recipe/24074/alysias-basic-meat-lasagna/'\n",
        "\n",
        "headers = {\n",
        "    'User-Agent': 'Mozilla/5.0'\n",
        "}\n",
        "\n",
        "response = requests.get(url, headers=headers)\n",
        "soup = BeautifulSoup(response.text, 'html.parser')\n",
        "\n",
        "\n",
        "title = soup.find('h1').get_text(strip=True)\n",
        "\n",
        "\n",
        "ingredient_tags = soup.select('span.ingredients-item-name')\n",
        "ingredients = [i.get_text(strip=True) for i in ingredient_tags]\n",
        "\n",
        "\n",
        "nutrition_section = soup.find('div', class_='partial recipe-nutrition-section')\n",
        "nutrition = nutrition_section.get_text(strip=True) if nutrition_section else 'Not available'\n",
        "\n",
        "data = {\n",
        "    'Recipe Title': [title],\n",
        "    'Ingredients': [', '.join(ingredients)],\n",
        "    'Nutrition': [nutrition]\n",
        "}\n",
        "\n",
        "df = pd.DataFrame(data)\n",
        "df.to_csv('allrecipes_recipe.csv', index=False)\n",
        "\n",
        "\n",
        "from google.colab import files\n",
        "files.download('allrecipes_recipe.csv')\n"
      ],
      "metadata": {
        "id": "qgXByeVBKdIu"
      },
      "execution_count": null,
      "outputs": []
    }
  ]
}