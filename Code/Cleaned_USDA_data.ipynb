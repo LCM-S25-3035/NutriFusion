{
  "nbformat": 4,
  "nbformat_minor": 0,
  "metadata": {
    "colab": {
      "provenance": []
    },
    "kernelspec": {
      "name": "python3",
      "display_name": "Python 3"
    },
    "language_info": {
      "name": "python"
    }
  },
  "cells": [
    {
      "cell_type": "code",
      "source": [
        "import pandas as pd\n",
        "\n",
        "# Load dataset (replace this with your file if needed)\n",
        "df = pd.read_csv(\"/content/usda_1000_nutrition_data.csv\")\n",
        "\n",
        "print(\"📄 Original shape:\", df.shape)\n",
        "\n",
        "# Step 1: Drop duplicates\n",
        "df = df.drop_duplicates()\n",
        "print(\"✅ After removing duplicates:\", df.shape)\n",
        "\n",
        "# Step 2: Standardize text in 'description'\n",
        "df['description'] = df['description'].str.strip().str.lower()\n",
        "\n",
        "# Step 3: Handle missing values\n",
        "# For numerical columns: fill with 0 or mean\n",
        "num_cols = ['energy_kcal', 'protein_g', 'fat_g', 'carbohydrates_g', 'fiber_g', 'sugar_g']\n",
        "df[num_cols] = df[num_cols].fillna(0)  # Change to .mean() if needed\n",
        "\n",
        "# For 'description', fill missing with \"unknown\"\n",
        "df['description'] = df['description'].fillna(\"unknown food\")\n",
        "\n",
        "# Step 4: Filter invalid (e.g., negative values or impossible nutrition data)\n",
        "for col in num_cols:\n",
        "    df = df[df[col] >= 0]\n",
        "\n",
        "# Step 5: Optional – rename columns for clarity\n",
        "df.rename(columns={\n",
        "    'energy_kcal': 'calories',\n",
        "    'protein_g': 'protein (g)',\n",
        "    'fat_g': 'fat (g)',\n",
        "    'carbohydrates_g': 'carbs (g)',\n",
        "    'fiber_g': 'fiber (g)',\n",
        "    'sugar_g': 'sugar (g)'\n",
        "}, inplace=True)\n",
        "\n",
        "# Step 6: Reindex\n",
        "df.reset_index(drop=True, inplace=True)\n",
        "\n",
        "# Step 7: Save cleaned dataset\n",
        "df.to_csv(\"usda_1000_nutrition_data_cleaned.csv\", index=False)\n",
        "print(\"💾 Cleaned dataset saved as 'usda_1000_nutrition_data_cleaned.csv'\")\n",
        "print(\"✅ Final shape:\", df.shape)\n",
        "\n",
        "# Preview\n",
        "print(\"\\n🔍 Sample rows:\\n\", df.head())\n"
      ],
      "metadata": {
        "colab": {
          "base_uri": "https://localhost:8080/"
        },
        "id": "CYDSvHC_gZt7",
        "outputId": "490ab9d1-43b8-4a64-813f-36d5068116ee"
      },
      "execution_count": 6,
      "outputs": [
        {
          "output_type": "stream",
          "name": "stdout",
          "text": [
            "📄 Original shape: (1000, 8)\n",
            "✅ After removing duplicates: (1000, 8)\n",
            "💾 Cleaned dataset saved as 'usda_1000_nutrition_data_cleaned.csv'\n",
            "✅ Final shape: (1000, 8)\n",
            "\n",
            "🔍 Sample rows:\n",
            "   description    fdcId  calories  protein (g)  fat (g)  carbs (g)  fiber (g)  \\\n",
            "0       chili  1861843     102.0         6.78     5.08       7.20        0.8   \n",
            "1       chili  2128385     246.0        14.00    17.50       7.02        5.3   \n",
            "2       chili  1953562     110.0         6.78     3.81      11.90        1.3   \n",
            "3       chili  2115157     122.0        10.40     4.35      10.90        3.5   \n",
            "4       chili  2030019      97.0         5.93     5.08       6.78        0.8   \n",
            "\n",
            "   sugar (g)  \n",
            "0          0  \n",
            "1          0  \n",
            "2          0  \n",
            "3          0  \n",
            "4          0  \n"
          ]
        }
      ]
    }
  ]
}