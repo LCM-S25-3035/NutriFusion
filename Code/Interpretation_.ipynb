{
  "cells": [
    {
      "cell_type": "code",
      "execution_count": 8,
      "metadata": {
        "colab": {
          "base_uri": "https://localhost:8080/",
          "height": 897
        },
        "id": "anKslSO2HMJ1",
        "outputId": "a6eeb87f-05f6-45d2-8451-df9808a04700"
      },
      "outputs": [
        {
          "output_type": "stream",
          "name": "stdout",
          "text": [
            "🔍 Finding best match for: pasta\n",
            "\n",
            "📨 Prompt Sent:\n",
            " A 40-year-old patient with diabetes, hypertension, heart disease eats a dish called \"pizza pasta\".\n",
            "\n",
            "Ingredients:\n",
            "- rotini pasta\n",
            "- lean ground beef\n",
            "- small onion\n",
            "- spaghetti sauce\n",
            "- sliced pepperoni sausage\n",
            "- shredded mozzarella cheese\n",
            "\n",
            "Nutrition Goals:\n",
            "Calories: 2500\n",
            "Protein: 200g\n",
            "Carbs: 250g\n",
            "Fat: 70g\n",
            "Fiber: 30g\n",
            "\n",
            "Avoid: sugar, ghee, salt\n",
            "Recommend from: turmeric, olive oil, cinnamon, spinach, broccoli, kale, bell peppers, mushrooms, zucchini, flaxseeds, chia seeds, whole grain pasta\n",
            "\n",
            "As a nutrition expert, revise the dish by:\n",
            "- Removing harmful ingredients\n",
            "- Adding healthier alternatives\n",
            "- Explaining how this helps the patient\n",
            "\n",
            "🤖 Cleanlab TLM Response:\n",
            " {'response': 'Certainly! Here\\'s a revised version of the \"pizza pasta\" dish tailored for a 40-year-old patient with diabetes, hypertension, and heart disease, aligned with the nutrition goals and restrictions:\\n\\n---\\n\\n### Original Ingredients:\\n- Rotini pasta  \\n- Lean ground beef  \\n- Small onion  \\n- Spaghetti sauce  \\n- Sliced pepperoni sausage  \\n- Shredded mozzarella cheese  \\n\\n---\\n\\n### Revised Ingredients:\\n- **Whole grain rotini pasta** (instead of regular rotini pasta)  \\n- **Lean ground turkey or chicken** (instead of ground beef)  \\n- Small onion (keep)  \\n- **No-sugar-added tomato sauce** or homemade sauce with fresh tomatoes, garlic, and herbs (instead of regular spaghetti sauce)  \\n- **Remove sliced pepperoni sausage** (high in saturated fat, sodium, and preservatives)  \\n- **Reduced-fat shredded mozzarella cheese** or use a smaller amount  \\n- **Add vegetables:** spinach, broccoli, bell peppers, mushrooms, zucchini  \\n- **Use olive oil** for cooking instead of butter or ghee  \\n- **Add flaxseeds or chia seeds** as a topping or mixed into the sauce for extra fiber and omega-3 fatty acids  \\n- **Add turmeric and cinnamon** as spices for anti-inflammatory and blood sugar regulation benefits  \\n\\n---\\n\\n### How This Helps the Patient:\\n\\n1. **Removing Pepperoni Sausage:**  \\n   Pepperoni is high in saturated fat, sodium, and preservatives, which can worsen hypertension and heart disease. Removing it reduces sodium and unhealthy fats, helping control blood pressure and cardiovascular risk.\\n\\n2. **Switching to Whole Grain Pasta:**  \\n   Whole grain pasta increases fiber intake, which helps improve blood sugar control, supports heart health, and aids in reaching the fiber goal of 30g/day.\\n\\n3. **Replacing Ground Beef with Lean Turkey or Chicken:**  \\n   Lean poultry has less saturated fat than beef, reducing cardiovascular risk while still providing high-quality protein to meet the 200g protein goal.\\n\\n4. **Using No-Sugar-Added Tomato Sauce or Homemade Sauce:**  \\n   Avoids added sugars that can spike blood glucose levels, important for diabetes management.\\n\\n5. **Adding Vegetables (Spinach, Broccoli, Bell Peppers, Mushrooms, Zucchini):**  \\n   These vegetables add fiber, vitamins, minerals, and antioxidants without adding many calories or sodium. They also help meet fiber goals and improve overall nutrient density.\\n\\n6. **Using Olive Oil Instead of Ghee or Butter:**  \\n   Olive oil is rich in monounsaturated', 'trustworthiness_score': 0.8860437201613123, 'log': {'explanation': 'Did not find a reason to doubt trustworthiness.'}}\n"
          ]
        },
        {
          "output_type": "error",
          "ename": "ValidationError",
          "evalue": "response type must match prompt type. prompt was provided as str but response is of type <class 'dict'>",
          "traceback": [
            "\u001b[0;31m---------------------------------------------------------------------------\u001b[0m",
            "\u001b[0;31mValidationError\u001b[0m                           Traceback (most recent call last)",
            "\u001b[0;32m/tmp/ipython-input-8-2384831700.py\u001b[0m in \u001b[0;36m<cell line: 0>\u001b[0;34m()\u001b[0m\n\u001b[1;32m     67\u001b[0m \u001b[0;31m# ✅ Step 6: Run Cleanlab Trust Scoring\u001b[0m\u001b[0;34m\u001b[0m\u001b[0;34m\u001b[0m\u001b[0m\n\u001b[1;32m     68\u001b[0m \u001b[0;32mif\u001b[0m \u001b[0mprompt\u001b[0m\u001b[0;34m:\u001b[0m\u001b[0;34m\u001b[0m\u001b[0;34m\u001b[0m\u001b[0m\n\u001b[0;32m---> 69\u001b[0;31m     \u001b[0mscore_data\u001b[0m \u001b[0;34m=\u001b[0m \u001b[0mtlm\u001b[0m\u001b[0;34m.\u001b[0m\u001b[0mget_trustworthiness_score\u001b[0m\u001b[0;34m(\u001b[0m\u001b[0mprompt\u001b[0m\u001b[0;34m=\u001b[0m\u001b[0mprompt\u001b[0m\u001b[0;34m,\u001b[0m \u001b[0mresponse\u001b[0m\u001b[0;34m=\u001b[0m\u001b[0moutput\u001b[0m\u001b[0;34m)\u001b[0m\u001b[0;34m\u001b[0m\u001b[0;34m\u001b[0m\u001b[0m\n\u001b[0m\u001b[1;32m     70\u001b[0m \u001b[0;34m\u001b[0m\u001b[0m\n\u001b[1;32m     71\u001b[0m     \u001b[0;31m# ✅ Step 7: Extract and Display Score + Explanation\u001b[0m\u001b[0;34m\u001b[0m\u001b[0;34m\u001b[0m\u001b[0m\n",
            "\u001b[0;32m/usr/local/lib/python3.11/dist-packages/cleanlab_tlm/tlm.py\u001b[0m in \u001b[0;36mget_trustworthiness_score\u001b[0;34m(self, prompt, response, **kwargs)\u001b[0m\n\u001b[1;32m    406\u001b[0m                 the returned list will contain [TLMScore](#class-tlmscore) objects with error messages and retryability information in place of the trustworthiness score.\n\u001b[1;32m    407\u001b[0m         \"\"\"\n\u001b[0;32m--> 408\u001b[0;31m         \u001b[0mvalidate_tlm_prompt_response\u001b[0m\u001b[0;34m(\u001b[0m\u001b[0mprompt\u001b[0m\u001b[0;34m,\u001b[0m \u001b[0mresponse\u001b[0m\u001b[0;34m)\u001b[0m\u001b[0;34m\u001b[0m\u001b[0;34m\u001b[0m\u001b[0m\n\u001b[0m\u001b[1;32m    409\u001b[0m         \u001b[0mprocessed_response\u001b[0m \u001b[0;34m=\u001b[0m \u001b[0mtlm_score_process_response_and_kwargs\u001b[0m\u001b[0;34m(\u001b[0m\u001b[0mprompt\u001b[0m\u001b[0;34m,\u001b[0m \u001b[0mresponse\u001b[0m\u001b[0;34m,\u001b[0m \u001b[0mself\u001b[0m\u001b[0;34m.\u001b[0m\u001b[0m_task\u001b[0m\u001b[0;34m,\u001b[0m \u001b[0mkwargs\u001b[0m\u001b[0;34m)\u001b[0m\u001b[0;34m\u001b[0m\u001b[0;34m\u001b[0m\u001b[0m\n\u001b[1;32m    410\u001b[0m \u001b[0;34m\u001b[0m\u001b[0m\n",
            "\u001b[0;32m/usr/local/lib/python3.11/dist-packages/cleanlab_tlm/internal/validation.py\u001b[0m in \u001b[0;36mvalidate_tlm_prompt_response\u001b[0;34m(prompt, response)\u001b[0m\n\u001b[1;32m     41\u001b[0m     \u001b[0;32mif\u001b[0m \u001b[0misinstance\u001b[0m\u001b[0;34m(\u001b[0m\u001b[0mprompt\u001b[0m\u001b[0;34m,\u001b[0m \u001b[0mstr\u001b[0m\u001b[0;34m)\u001b[0m\u001b[0;34m:\u001b[0m\u001b[0;34m\u001b[0m\u001b[0;34m\u001b[0m\u001b[0m\n\u001b[1;32m     42\u001b[0m         \u001b[0;32mif\u001b[0m \u001b[0;32mnot\u001b[0m \u001b[0misinstance\u001b[0m\u001b[0;34m(\u001b[0m\u001b[0mresponse\u001b[0m\u001b[0;34m,\u001b[0m \u001b[0mstr\u001b[0m\u001b[0;34m)\u001b[0m\u001b[0;34m:\u001b[0m\u001b[0;34m\u001b[0m\u001b[0;34m\u001b[0m\u001b[0m\n\u001b[0;32m---> 43\u001b[0;31m             raise ValidationError(\n\u001b[0m\u001b[1;32m     44\u001b[0m                 \u001b[0;34m\"response type must match prompt type. \"\u001b[0m\u001b[0;34m\u001b[0m\u001b[0;34m\u001b[0m\u001b[0m\n\u001b[1;32m     45\u001b[0m                 \u001b[0;34mf\"prompt was provided as str but response is of type {type(response)}\"\u001b[0m\u001b[0;34m\u001b[0m\u001b[0;34m\u001b[0m\u001b[0m\n",
            "\u001b[0;31mValidationError\u001b[0m: response type must match prompt type. prompt was provided as str but response is of type <class 'dict'>"
          ]
        }
      ],
      "source": [
        "# ✅ Step 1: Ensure Cleanlab-TLM is installed and API key is set\n",
        "!pip install cleanlab-tlm --quiet\n",
        "\n",
        "import os\n",
        "from cleanlab_tlm import TLM\n",
        "\n",
        "os.environ[\"CLEANLAB_TLM_API_KEY\"] = \"0d971ca876c443819414f3b8b8248a25\"\n",
        "\n",
        "# ✅ Step 2: Initialize Cleanlab TLM\n",
        "tlm = TLM(options={\"log\": [\"explanation\"]})\n",
        "\n",
        "# ✅ Step 3: Define the hallucination-free output generation function\n",
        "def generate_hallucination_free_output(dish_name, age, disease, recipes_df, profile_df, health_rules, get_similar_dishes, clean_ingredients, get_user_nutrient_goals, llm):\n",
        "    print(f\"🔍 Finding best match for: {dish_name}\")\n",
        "    match = get_similar_dishes(dish_name)[0]\n",
        "    row = recipes_df[recipes_df[\"recipe_name\"].str.lower() == match.lower()]\n",
        "\n",
        "    if row.empty:\n",
        "        return f\"❌ Recipe '{match}' not found\", None\n",
        "\n",
        "    raw_ing = row.iloc[0][\"ingredients\"]\n",
        "    targets = get_user_nutrient_goals(age)\n",
        "    disease_lower = disease.strip().lower()\n",
        "\n",
        "    matched_key = next((key for key in health_rules if key in disease_lower), None)\n",
        "    if matched_key is None:\n",
        "        return f\"❌ No health rules found for: '{disease}'\", None\n",
        "\n",
        "    avoid = health_rules[matched_key][\"avoid\"]\n",
        "    recommend = health_rules[matched_key][\"recommend\"]\n",
        "\n",
        "    prompt = build_prompt(\n",
        "        dish_name=match,\n",
        "        age=age,\n",
        "        disease=disease,\n",
        "        ingredients=raw_ing,\n",
        "        avoid=avoid,\n",
        "        recommend=recommend,\n",
        "        targets=targets\n",
        "    )\n",
        "\n",
        "    print(\"\\n📨 Prompt Sent:\\n\", prompt)\n",
        "    result = llm.prompt(prompt)\n",
        "    print(\"\\n🤖 Cleanlab TLM Response:\\n\", result)\n",
        "    return result, prompt\n",
        "\n",
        "\n",
        "# ✅ Step 4: Define variables for the example\n",
        "dish_name = \"pasta\"\n",
        "age = 40\n",
        "disease = \"diabetes, hypertension, heart disease\"\n",
        "\n",
        "# ✅ Step 5: Generate hallucination-free output using Cleanlab TLM\n",
        "output, prompt = generate_hallucination_free_output(\n",
        "    dish_name=dish_name,\n",
        "    age=age,\n",
        "    disease=disease,\n",
        "    recipes_df=recipes_df,\n",
        "    profile_df=profile_df,\n",
        "    health_rules=health_rules,\n",
        "    get_similar_dishes=get_similar_dishes,\n",
        "    clean_ingredients=clean_ingredients,\n",
        "    get_user_nutrient_goals=get_user_nutrient_goals,\n",
        "    llm=tlm\n",
        ")\n",
        "\n",
        "# ✅ Step 6: Run Cleanlab Trust Scoring\n",
        "if prompt:\n",
        "    score_data = tlm.get_trustworthiness_score(prompt=prompt, response=output['response'])\n",
        "\n",
        "    # ✅ Step 7: Extract and Display Score + Explanation\n",
        "    trust_score = score_data.get(\"trustworthiness_score\", None)\n",
        "    explanation = score_data.get(\"explanation\", \"No explanation provided.\")\n",
        "\n",
        "    print(\"🔢 Trust Score:\", trust_score)\n",
        "    print(\"📝 Explanation:\", explanation)\n",
        "else:\n",
        "    print(output)"
      ]
    },
    {
      "cell_type": "code",
      "execution_count": null,
      "metadata": {
        "id": "oPRBU7plHP7S"
      },
      "outputs": [],
      "source": []
    }
  ],
  "metadata": {
    "colab": {
      "provenance": []
    },
    "kernelspec": {
      "display_name": "Python 3",
      "name": "python3"
    },
    "language_info": {
      "name": "python"
    }
  },
  "nbformat": 4,
  "nbformat_minor": 0
}