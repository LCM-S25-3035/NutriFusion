{
  "nbformat": 4,
  "nbformat_minor": 0,
  "metadata": {
    "colab": {
      "provenance": []
    },
    "kernelspec": {
      "name": "python3",
      "display_name": "Python 3"
    },
    "language_info": {
      "name": "python"
    }
  },
  "cells": [
    {
      "cell_type": "code",
      "source": [
        "import pandas as pd\n",
        "\n",
        "# Load the dataset\n",
        "file_path = \"/content/vegetables.csv\"  # Replace with your file path if needed\n",
        "df = pd.read_csv(file_path)\n",
        "\n",
        "# Step 1: Drop rows with missing 'Product Name' or 'Brand'\n",
        "df_cleaned = df.dropna(subset=['Product Name', 'Brand'])\n",
        "\n",
        "# Step 2: Convert nutrient columns to numeric and fill missing values with mean\n",
        "nutrient_cols = ['Calories (kcal)', 'Proteins (g)', 'Fat (g)',\n",
        "                 'Carbohydrates (g)', 'Sugar (g)', 'Salt (g)']\n",
        "\n",
        "for col in nutrient_cols:\n",
        "    df_cleaned[col] = pd.to_numeric(df_cleaned[col], errors='coerce')\n",
        "    df_cleaned[col] = df_cleaned[col].fillna(df_cleaned[col].mean())\n",
        "\n",
        "# Step 3: Remove duplicate entries based on 'Code'\n",
        "df_cleaned = df_cleaned.drop_duplicates(subset='Code')\n",
        "\n",
        "# Step 4: Reset index\n",
        "df_cleaned.reset_index(drop=True, inplace=True)\n",
        "\n",
        "# Step 5: Save cleaned dataset\n",
        "df_cleaned.to_csv(\"cleaned_vegetables.csv\", index=False)\n",
        "\n",
        "print(\"✅ Cleaned dataset saved as 'cleaned_vegetables.csv'\")\n"
      ],
      "metadata": {
        "colab": {
          "base_uri": "https://localhost:8080/"
        },
        "id": "0fSplm8yZCZI",
        "outputId": "6949ef5b-fe03-4afc-d5af-6b84f6bfd65c"
      },
      "execution_count": 4,
      "outputs": [
        {
          "output_type": "stream",
          "name": "stdout",
          "text": [
            "✅ Cleaned dataset saved as 'cleaned_vegetables.csv'\n"
          ]
        },
        {
          "output_type": "stream",
          "name": "stderr",
          "text": [
            "<ipython-input-4-d78679142d6e>:15: SettingWithCopyWarning: \n",
            "A value is trying to be set on a copy of a slice from a DataFrame.\n",
            "Try using .loc[row_indexer,col_indexer] = value instead\n",
            "\n",
            "See the caveats in the documentation: https://pandas.pydata.org/pandas-docs/stable/user_guide/indexing.html#returning-a-view-versus-a-copy\n",
            "  df_cleaned[col] = pd.to_numeric(df_cleaned[col], errors='coerce')\n",
            "<ipython-input-4-d78679142d6e>:16: SettingWithCopyWarning: \n",
            "A value is trying to be set on a copy of a slice from a DataFrame.\n",
            "Try using .loc[row_indexer,col_indexer] = value instead\n",
            "\n",
            "See the caveats in the documentation: https://pandas.pydata.org/pandas-docs/stable/user_guide/indexing.html#returning-a-view-versus-a-copy\n",
            "  df_cleaned[col] = df_cleaned[col].fillna(df_cleaned[col].mean())\n"
          ]
        }
      ]
    },
    {
      "cell_type": "code",
      "source": [],
      "metadata": {
        "id": "8RTRBQC1u-2P"
      },
      "execution_count": null,
      "outputs": []
    }
  ]
}