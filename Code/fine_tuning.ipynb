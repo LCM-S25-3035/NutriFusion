{
  "nbformat": 4,
  "nbformat_minor": 0,
  "metadata": {
    "colab": {
      "provenance": []
    },
    "kernelspec": {
      "name": "python3",
      "display_name": "Python 3"
    },
    "language_info": {
      "name": "python"
    }
  },
  "cells": [
    {
      "cell_type": "code",
      "source": [],
      "metadata": {
        "id": "-aoI-MDN9JbN"
      },
      "execution_count": null,
      "outputs": []
    },
    {
      "cell_type": "code",
      "source": [
        "#fine tuning\n",
        "\n",
        "\n",
        "from lightfm import LightFM\n",
        "from lightfm.evaluation import precision_at_k\n",
        "import itertools\n",
        "\n",
        "# Define fine-tuning search grid\n",
        "param_grid = {\n",
        "    'no_components': [20, 40],           # Latent features\n",
        "    'learning_rate': [0.01, 0.05],       # Step size\n",
        "    'loss': ['warp', 'bpr']              # Ranking loss functions\n",
        "}\n",
        "\n",
        "# Generate all hyperparameter combinations\n",
        "param_combinations = list(itertools.product(\n",
        "    param_grid['no_components'],\n",
        "    param_grid['learning_rate'],\n",
        "    param_grid['loss']\n",
        "))\n",
        "\n",
        "# Initialize trackers\n",
        "best_score = 0\n",
        "best_model = None\n",
        "best_params = None\n",
        "scores_log = []\n",
        "\n",
        "print(\"🔍 Fine-Tuning LightFM...\\n\")\n",
        "\n",
        "for no_components, learning_rate, loss in param_combinations:\n",
        "    model = LightFM(no_components=no_components, learning_rate=learning_rate, loss=loss)\n",
        "    model.fit(interactions, epochs=50, num_threads=2)  # Train longer\n",
        "\n",
        "    precision = precision_at_k(model, interactions, k=5).mean()\n",
        "    scores_log.append((no_components, learning_rate, loss, precision))\n",
        "\n",
        "    print(f\"🔧 Params: components={no_components}, lr={learning_rate}, loss={loss} ➤ Precision@5: {precision:.4f}\")\n",
        "\n",
        "    if precision > best_score:\n",
        "        best_score = precision\n",
        "        best_model = model\n",
        "        best_params = (no_components, learning_rate, loss)\n",
        "\n",
        "# Show final results\n",
        "print(\"\\n✅ Best Model Found:\")\n",
        "print(f\"Components     : {best_params[0]}\")\n",
        "print(f\"Learning Rate  : {best_params[1]}\")\n",
        "print(f\"Loss Function  : {best_params[2]}\")\n",
        "print(f\"Best Precision@5: {best_score:.4f}\")\n"
      ],
      "metadata": {
        "colab": {
          "base_uri": "https://localhost:8080/",
          "height": 383
        },
        "id": "iNZDJo2Whs-c",
        "outputId": "5964094c-e7c9-42a5-8ee9-e8a144ce2b2e"
      },
      "execution_count": 1,
      "outputs": [
        {
          "output_type": "error",
          "ename": "ModuleNotFoundError",
          "evalue": "No module named 'lightfm'",
          "traceback": [
            "\u001b[0;31m---------------------------------------------------------------------------\u001b[0m",
            "\u001b[0;31mModuleNotFoundError\u001b[0m                       Traceback (most recent call last)",
            "\u001b[0;32m/tmp/ipython-input-1-715772307.py\u001b[0m in \u001b[0;36m<cell line: 0>\u001b[0;34m()\u001b[0m\n\u001b[1;32m      2\u001b[0m \u001b[0;34m\u001b[0m\u001b[0m\n\u001b[1;32m      3\u001b[0m \u001b[0;34m\u001b[0m\u001b[0m\n\u001b[0;32m----> 4\u001b[0;31m \u001b[0;32mfrom\u001b[0m \u001b[0mlightfm\u001b[0m \u001b[0;32mimport\u001b[0m \u001b[0mLightFM\u001b[0m\u001b[0;34m\u001b[0m\u001b[0;34m\u001b[0m\u001b[0m\n\u001b[0m\u001b[1;32m      5\u001b[0m \u001b[0;32mfrom\u001b[0m \u001b[0mlightfm\u001b[0m\u001b[0;34m.\u001b[0m\u001b[0mevaluation\u001b[0m \u001b[0;32mimport\u001b[0m \u001b[0mprecision_at_k\u001b[0m\u001b[0;34m\u001b[0m\u001b[0;34m\u001b[0m\u001b[0m\n\u001b[1;32m      6\u001b[0m \u001b[0;32mimport\u001b[0m \u001b[0mitertools\u001b[0m\u001b[0;34m\u001b[0m\u001b[0;34m\u001b[0m\u001b[0m\n",
            "\u001b[0;31mModuleNotFoundError\u001b[0m: No module named 'lightfm'",
            "",
            "\u001b[0;31m---------------------------------------------------------------------------\u001b[0;32m\nNOTE: If your import is failing due to a missing package, you can\nmanually install dependencies using either !pip or !apt.\n\nTo view examples of installing some common dependencies, click the\n\"Open Examples\" button below.\n\u001b[0;31m---------------------------------------------------------------------------\u001b[0m\n"
          ],
          "errorDetails": {
            "actions": [
              {
                "action": "open_url",
                "actionText": "Open Examples",
                "url": "/notebooks/snippets/importing_libraries.ipynb"
              }
            ]
          }
        }
      ]
    },
    {
      "cell_type": "code",
      "source": [],
      "metadata": {
        "id": "8XOr_RZI9KOz"
      },
      "execution_count": null,
      "outputs": []
    },
    {
      "cell_type": "code",
      "source": [
        "# fine tuning 2\n",
        "from lightfm import LightFM\n",
        "from lightfm.evaluation import precision_at_k\n",
        "import itertools\n",
        "import random\n",
        "import numpy as np\n",
        "\n",
        "# 🧪 STEP 1: Stretch ratings to range 0.3–1.0 for better learning\n",
        "df_filtered['nutrient_rank'] = df_filtered['nutrient_score'].rank(ascending=True)\n",
        "df_filtered['rating'] = 0.3 + (0.7 * (1 - df_filtered['nutrient_rank'] / df_filtered['nutrient_rank'].max()))\n",
        "\n",
        "# 🎯 STEP 2: Limit to top 1000 nutrient-rich recipes\n",
        "df_filtered = df_filtered.sort_values(by='rating', ascending=False).head(1000)\n",
        "\n",
        "# 👤 STEP 3: Simulate user interactions\n",
        "df_filtered['user_id'] = [random.choice(['user1', 'user2', 'user3', 'user4', 'user5']) for _ in range(len(df_filtered))]\n",
        "\n",
        "# 🔗 STEP 4: Build dataset and interactions\n",
        "from lightfm.data import Dataset\n",
        "dataset = Dataset()\n",
        "dataset.fit(df_filtered['user_id'], df_filtered['recipe_name'])\n",
        "(interactions, weights) = dataset.build_interactions([\n",
        "    (row['user_id'], row['recipe_name'], row['rating']) for _, row in df_filtered.iterrows()\n",
        "])\n",
        "user_id_map, _, item_id_map, _ = dataset.mapping()\n",
        "item_labels = list(item_id_map.keys())\n",
        "\n",
        "# 🔍 STEP 5: Fine-Tuning LightFM\n",
        "param_grid = {\n",
        "    'no_components': [20, 40],\n",
        "    'learning_rate': [0.01, 0.05],\n",
        "    'loss': ['warp', 'bpr']\n",
        "}\n",
        "param_combinations = list(itertools.product(\n",
        "    param_grid['no_components'],\n",
        "    param_grid['learning_rate'],\n",
        "    param_grid['loss']\n",
        "))\n",
        "\n",
        "best_score = 0\n",
        "best_model = None\n",
        "best_params = None\n",
        "\n",
        "print(\"🔍 Fine-Tuning LightFM...\\n\")\n",
        "\n",
        "for no_components, learning_rate, loss in param_combinations:\n",
        "    model = LightFM(no_components=no_components, learning_rate=learning_rate, loss=loss)\n",
        "    model.fit(interactions, epochs=50, num_threads=2)  # ⏳ train longer\n",
        "\n",
        "    precision = precision_at_k(model, interactions, k=5).mean()\n",
        "    print(f\"✅ Params → components={no_components}, lr={learning_rate}, loss={loss} ➤ Precision@5: {precision:.4f}\")\n",
        "\n",
        "    if precision > best_score:\n",
        "        best_score = precision\n",
        "        best_model = model\n",
        "        best_params = (no_components, learning_rate, loss)\n",
        "\n",
        "# 🏁 STEP 6: Use the best model for recommendations\n",
        "print(\"\\n🎯 Best Model Summary:\")\n",
        "print(f\"Components:     {best_params[0]}\")\n",
        "print(f\"Learning Rate:  {best_params[1]}\")\n",
        "print(f\"Loss Function:  {best_params[2]}\")\n",
        "print(f\"Best Precision@5: {best_score:.4f}\")\n",
        "\n",
        "def recommend_top_n(user, model, item_labels, n=5):\n",
        "    user_index = user_id_map[user]\n",
        "    scores = model.predict(user_index, np.arange(len(item_labels)))\n",
        "    top_indices = np.argsort(-scores)[:n]\n",
        "    return [(item_labels[i], round(scores[i], 2)) for i in top_indices]\n",
        "\n",
        "# 🔮 Final recommendations\n",
        "print(\"\\n📌 Top 5 Recommendations for user1:\")\n",
        "print(recommend_top_n('user1', best_model, item_labels))\n",
        "\n",
        "print(\"\\n📌 Top 5 Recommendations for user2:\")\n",
        "print(recommend_top_n('user2', best_model, item_labels))\n"
      ],
      "metadata": {
        "colab": {
          "base_uri": "https://localhost:8080/"
        },
        "id": "wX3_lxV_lFKJ",
        "outputId": "0bcb1198-a970-4ebb-9adb-dc27853cca34"
      },
      "execution_count": null,
      "outputs": [
        {
          "output_type": "stream",
          "name": "stdout",
          "text": [
            "🔍 Fine-Tuning LightFM...\n",
            "\n",
            "✅ Params → components=20, lr=0.01, loss=warp ➤ Precision@5: 1.0000\n",
            "✅ Params → components=20, lr=0.01, loss=bpr ➤ Precision@5: 1.0000\n",
            "✅ Params → components=20, lr=0.05, loss=warp ➤ Precision@5: 1.0000\n",
            "✅ Params → components=20, lr=0.05, loss=bpr ➤ Precision@5: 1.0000\n",
            "✅ Params → components=40, lr=0.01, loss=warp ➤ Precision@5: 1.0000\n",
            "✅ Params → components=40, lr=0.01, loss=bpr ➤ Precision@5: 1.0000\n",
            "✅ Params → components=40, lr=0.05, loss=warp ➤ Precision@5: 1.0000\n",
            "✅ Params → components=40, lr=0.05, loss=bpr ➤ Precision@5: 1.0000\n",
            "\n",
            "🎯 Best Model Summary:\n",
            "Components:     20\n",
            "Learning Rate:  0.01\n",
            "Loss Function:  warp\n",
            "Best Precision@5: 1.0000\n",
            "\n",
            "📌 Top 5 Recommendations for user1:\n",
            "[('chicken crescent squares', np.float32(-0.01)), ('mushroom and grilled onion quiche', np.float32(-0.03)), ('tart cherry crisp with oaty crumble topping', np.float32(-0.03)), ('paleo chicken bacon strawberry salad with orange balsamic recipes', np.float32(-0.03)), ('chai latte pots de creme', np.float32(-0.04))]\n",
            "\n",
            "📌 Top 5 Recommendations for user2:\n",
            "[('galbi tang korean beef short ribs soup recipe', np.float32(0.11)), ('brisket poutine with smashed potatoes', np.float32(0.1)), ('broccoli & chicken alfredo spaghetti squash', np.float32(0.08)), ('leek n lamb stew meal in one pot', np.float32(0.08)), ('6-minute vegan chocolate cake', np.float32(0.07))]\n"
          ]
        }
      ]
    },
    {
      "cell_type": "code",
      "source": [],
      "metadata": {
        "id": "H_J2VXVV9QOl"
      },
      "execution_count": null,
      "outputs": []
    }
  ]
}