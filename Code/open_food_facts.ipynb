{
  "nbformat": 4,
  "nbformat_minor": 0,
  "metadata": {
    "colab": {
      "provenance": []
    },
    "kernelspec": {
      "name": "python3",
      "display_name": "Python 3"
    },
    "language_info": {
      "name": "python"
    }
  },
  "cells": [
    {
      "cell_type": "code",
      "source": [
        "# i scrapped data from open food facts and i got the data but it doesn't contain recipies"
      ],
      "metadata": {
        "id": "3B-bznEGq4KA"
      },
      "execution_count": null,
      "outputs": []
    },
    {
      "cell_type": "code",
      "execution_count": 1,
      "metadata": {
        "colab": {
          "base_uri": "https://localhost:8080/"
        },
        "id": "NqdkGqdbpfCZ",
        "outputId": "5cbd6409-a2c2-4a63-eb98-78a3166ac301"
      },
      "outputs": [
        {
          "output_type": "stream",
          "name": "stdout",
          "text": [
            "Fetching page 1...\n",
            "Fetching page 2...\n",
            "Fetching page 3...\n",
            "Fetching page 4...\n",
            "Fetching page 5...\n",
            "\n",
            "✅ Data saved to openfoodfacts_snack_data.csv. Total products: 500\n"
          ]
        }
      ],
      "source": [
        "import requests\n",
        "import pandas as pd\n",
        "import time\n",
        "\n",
        "# Base URL with search for 'snacks'\n",
        "BASE_URL = \"https://world.openfoodfacts.org/cgi/search.pl\"\n",
        "\n",
        "# Parameters for the API request\n",
        "params = {\n",
        "    \"search_terms\": \"snacks\",\n",
        "    \"page_size\": 100,  # Number of products per page\n",
        "    \"json\": 1,\n",
        "    \"fields\": \"product_name,nutriments,brands,code\",\n",
        "}\n",
        "\n",
        "# Storage for collected data\n",
        "all_products = []\n",
        "\n",
        "# Number of pages you want to fetch\n",
        "NUM_PAGES = 5\n",
        "\n",
        "for page in range(1, NUM_PAGES + 1):\n",
        "    print(f\"Fetching page {page}...\")\n",
        "    params[\"page\"] = page\n",
        "    response = requests.get(BASE_URL, params=params)\n",
        "\n",
        "    if response.status_code != 200:\n",
        "        print(f\"Failed to fetch page {page}. Status code: {response.status_code}\")\n",
        "        break\n",
        "\n",
        "    data = response.json()\n",
        "    products = data.get(\"products\", [])\n",
        "\n",
        "    for product in products:\n",
        "        nutriments = product.get(\"nutriments\", {})\n",
        "        all_products.append({\n",
        "            \"Product Name\": product.get(\"product_name\", \"N/A\"),\n",
        "            \"Brand\": product.get(\"brands\", \"N/A\"),\n",
        "            \"Calories (kcal)\": nutriments.get(\"energy-kcal_100g\"),\n",
        "            \"Proteins (g)\": nutriments.get(\"proteins_100g\"),\n",
        "            \"Fat (g)\": nutriments.get(\"fat_100g\"),\n",
        "            \"Carbohydrates (g)\": nutriments.get(\"carbohydrates_100g\"),\n",
        "            \"Sugar (g)\": nutriments.get(\"sugars_100g\"),\n",
        "            \"Salt (g)\": nutriments.get(\"salt_100g\"),\n",
        "            \"Code\": product.get(\"code\")\n",
        "        })\n",
        "\n",
        "    time.sleep(1)  # Respectful delay to avoid overloading the API\n",
        "\n",
        "# Convert to DataFrame\n",
        "df = pd.DataFrame(all_products)\n",
        "\n",
        "# Save to CSV\n",
        "csv_filename = \"openfoodfacts_snack_data.csv\"\n",
        "df.to_csv(csv_filename, index=False)\n",
        "\n",
        "print(f\"\\n✅ Data saved to {csv_filename}. Total products: {len(df)}\")"
      ]
    }
  ]
}