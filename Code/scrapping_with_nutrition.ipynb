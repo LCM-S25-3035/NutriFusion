{
  "nbformat": 4,
  "nbformat_minor": 0,
  "metadata": {
    "colab": {
      "provenance": []
    },
    "kernelspec": {
      "name": "python3",
      "display_name": "Python 3"
    },
    "language_info": {
      "name": "python"
    }
  },
  "cells": [
    {
      "cell_type": "code",
      "execution_count": null,
      "metadata": {
        "id": "QMXKOUUSu3Z7"
      },
      "outputs": [],
      "source": [
        "import pandas as pd\n",
        "\n",
        "# Load your dataset\n",
        "df = pd.read_csv('/content/TheMealDB_with_nutrition.csv')\n",
        "\n",
        "# Simple nutrition lookup table\n",
        "NUTRITION_TABLE = {\n",
        "    'chicken': {'calories': 239, 'fat': 14, 'protein': 27, 'carbs': 0, 'sugar': 0, 'fiber': 0},\n",
        "    'rice': {'calories': 130, 'fat': 0.3, 'protein': 2.7, 'carbs': 28, 'sugar': 0.1, 'fiber': 0.4},\n",
        "    'onion': {'calories': 40, 'fat': 0.1, 'protein': 1.1, 'carbs': 9.3, 'sugar': 4.2, 'fiber': 1.7},\n",
        "    'garlic': {'calories': 149, 'fat': 0.5, 'protein': 6.4, 'carbs': 33, 'sugar': 1, 'fiber': 2.1},\n",
        "    'tomato': {'calories': 18, 'fat': 0.2, 'protein': 0.9, 'carbs': 3.9, 'sugar': 2.6, 'fiber': 1.2},\n",
        "    'milk': {'calories': 42, 'fat': 1, 'protein': 3.4, 'carbs': 5, 'sugar': 5, 'fiber': 0},\n",
        "    'butter': {'calories': 717, 'fat': 81, 'protein': 0.9, 'carbs': 0.1, 'sugar': 0.1, 'fiber': 0},\n",
        "    'egg': {'calories': 155, 'fat': 11, 'protein': 13, 'carbs': 1.1, 'sugar': 1.1, 'fiber': 0},\n",
        "    'salt': {'calories': 0, 'fat': 0, 'protein': 0, 'carbs': 0, 'sugar': 0, 'fiber': 0},\n",
        "    'carrot': {'calories': 41, 'fat': 0.2, 'protein': 0.9, 'carbs': 10, 'sugar': 4.7, 'fiber': 2.8}\n",
        "}\n",
        "\n",
        "# Helper function to estimate nutrition\n",
        "def estimate_nutrition(ingredient_text):\n",
        "    total = {'calories': 0, 'fat': 0, 'protein': 0, 'carbs': 0, 'sugar': 0, 'fiber': 0}\n",
        "    if isinstance(ingredient_text, str):\n",
        "        ingredients = [i.strip().lower() for i in ingredient_text.split(',')]\n",
        "        for ing in ingredients:\n",
        "            for known in NUTRITION_TABLE:\n",
        "                if known in ing:\n",
        "                    for key in total:\n",
        "                        total[key] += NUTRITION_TABLE[known][key]\n",
        "    return pd.Series(total)\n",
        "\n",
        "# Apply estimation to each row\n",
        "nutrition_df = df['Ingredients'].apply(estimate_nutrition)\n",
        "\n",
        "# Merge with original DataFrame\n",
        "df_updated = pd.concat([df, nutrition_df], axis=1)\n",
        "\n",
        "# Save new dataset\n",
        "df_updated.to_csv(\"/content/TheMealDB_with_nutrition.csv\", index=False)\n",
        "print(\"✅ Estimated nutrition added and saved as 'TheMealDB_with_estimated_nutrition.csv'\")"
      ]
    },
    {
      "cell_type": "code",
      "source": [
        "import pandas as pd\n",
        "\n",
        "# Load your dataset\n",
        "df = pd.read_csv('/content/all_mealdb_recipes_120+.csv')\n",
        "\n",
        "# Simple nutrition lookup table\n",
        "NUTRITION_TABLE = {\n",
        "    'chicken': {'calories': 239, 'fat': 14, 'protein': 27, 'carbs': 0, 'sugar': 0, 'fiber': 0},\n",
        "    'rice': {'calories': 130, 'fat': 0.3, 'protein': 2.7, 'carbs': 28, 'sugar': 0.1, 'fiber': 0.4},\n",
        "    'onion': {'calories': 40, 'fat': 0.1, 'protein': 1.1, 'carbs': 9.3, 'sugar': 4.2, 'fiber': 1.7},\n",
        "    'garlic': {'calories': 149, 'fat': 0.5, 'protein': 6.4, 'carbs': 33, 'sugar': 1, 'fiber': 2.1},\n",
        "    'tomato': {'calories': 18, 'fat': 0.2, 'protein': 0.9, 'carbs': 3.9, 'sugar': 2.6, 'fiber': 1.2},\n",
        "    'milk': {'calories': 42, 'fat': 1, 'protein': 3.4, 'carbs': 5, 'sugar': 5, 'fiber': 0},\n",
        "    'butter': {'calories': 717, 'fat': 81, 'protein': 0.9, 'carbs': 0.1, 'sugar': 0.1, 'fiber': 0},\n",
        "    'egg': {'calories': 155, 'fat': 11, 'protein': 13, 'carbs': 1.1, 'sugar': 1.1, 'fiber': 0},\n",
        "    'salt': {'calories': 0, 'fat': 0, 'protein': 0, 'carbs': 0, 'sugar': 0, 'fiber': 0},\n",
        "    'carrot': {'calories': 41, 'fat': 0.2, 'protein': 0.9, 'carbs': 10, 'sugar': 4.7, 'fiber': 2.8}\n",
        "}\n",
        "\n",
        "# Function to estimate nutrition from ingredients\n",
        "def estimate_nutrition(ingredient_text):\n",
        "    total = {'calories': 0, 'fat': 0, 'protein': 0, 'carbs': 0, 'sugar': 0, 'fiber': 0}\n",
        "    if isinstance(ingredient_text, str):\n",
        "        ingredients = [i.strip().lower() for i in ingredient_text.split(',')]\n",
        "        for ing in ingredients:\n",
        "            for known in NUTRITION_TABLE:\n",
        "                if known in ing:\n",
        "                    for key in total:\n",
        "                        total[key] += NUTRITION_TABLE[known][key]\n",
        "    return pd.Series(total)\n",
        "\n",
        "# Apply nutrition estimation\n",
        "nutrition_df = df['Ingredients'].apply(estimate_nutrition)\n",
        "\n",
        "# Combine nutrition info with original data\n",
        "df_updated = pd.concat([df, nutrition_df], axis=1)\n",
        "\n",
        "# Save updated DataFrame to CSV\n",
        "output_path = \"/content/all_mealdb_recipes_120+.csv\"\n",
        "df_updated.to_csv(output_path, index=False)\n",
        "\n",
        "print(f\"✅ Nutrition estimation complete and saved to: {output_path}\")"
      ],
      "metadata": {
        "id": "vLGJWX5Ju87k"
      },
      "execution_count": null,
      "outputs": []
    }
  ]
}