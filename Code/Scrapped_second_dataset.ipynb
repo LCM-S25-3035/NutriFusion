{
  "nbformat": 4,
  "nbformat_minor": 0,
  "metadata": {
    "colab": {
      "provenance": []
    },
    "kernelspec": {
      "name": "python3",
      "display_name": "Python 3"
    },
    "language_info": {
      "name": "python"
    }
  },
  "cells": [
    {
      "cell_type": "code",
      "execution_count": null,
      "metadata": {
        "id": "HGWpz87OhShC"
      },
      "outputs": [],
      "source": [
        "import requests\n",
        "import pandas as pd\n",
        "import time\n",
        "import string\n",
        "\n",
        "APP_ID = \"5b720389\"\n",
        "API_KEY = \"0a74f60c5c4ebeed8ed3c975f1844fd3\"\n",
        "url = \"https://trackapi.nutritionix.com/v2/search/instant\"\n",
        "headers = {\n",
        "    \"x-app-id\": APP_ID,\n",
        "    \"x-app-key\": API_KEY,\n",
        "    \"Content-Type\": \"application/json\"\n",
        "}\n",
        "\n",
        "results = []\n",
        "food_names_set = set()\n",
        "\n",
        "search_terms = list(string.ascii_lowercase)\n",
        "\n",
        "for term in search_terms:\n",
        "    params = {\n",
        "        \"query\": term,\n",
        "        \"branded\": False,\n",
        "        \"common\": True,\n",
        "        \"self\": False\n",
        "    }\n",
        "    response = requests.get(url, headers=headers, params=params)\n",
        "    if response.status_code != 200:\n",
        "        print(f\"Error {response.status_code} for query '{term}': {response.text}\")\n",
        "        continue\n",
        "\n",
        "    data = response.json()\n",
        "    common_foods = data.get(\"common\", [])\n",
        "    for food in common_foods:\n",
        "        fname = food.get(\"food_name\")\n",
        "        if fname and fname not in food_names_set:\n",
        "            food_names_set.add(fname)\n",
        "            results.append({\n",
        "                \"food_name\": fname,\n",
        "                \"serving_unit\": food.get(\"serving_unit\"),\n",
        "            })\n",
        "        if len(results) >= 200:\n",
        "            break\n",
        "\n",
        "    if len(results) >= 200:\n",
        "        break\n",
        "\n",
        "    time.sleep(0.5)\n",
        "\n",
        "df = pd.DataFrame(results)\n",
        "df.to_csv(\"nutritio_data.csv\", index=False)\n",
        "print(f\"Fetched {len(results)} unique common foods and saved to nutritionix_unique_foods.csv\")"
      ]
    }
  ]
}