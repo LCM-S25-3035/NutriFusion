{
  "nbformat": 4,
  "nbformat_minor": 0,
  "metadata": {
    "colab": {
      "provenance": []
    },
    "kernelspec": {
      "name": "python3",
      "display_name": "Python 3"
    },
    "language_info": {
      "name": "python"
    }
  },
  "cells": [
    {
      "cell_type": "code",
      "execution_count": null,
      "metadata": {
        "id": "AVLscm_8GP0r"
      },
      "outputs": [],
      "source": []
    },
    {
      "cell_type": "code",
      "source": [
        "import pandas as pd\n",
        "\n",
        "# Load the final dataset\n",
        "final_df = pd.read_csv(\"/content/final_output.csv\")  # Adjust path if needed\n"
      ],
      "metadata": {
        "id": "TiNwL8Au8fiX"
      },
      "execution_count": 2,
      "outputs": []
    },
    {
      "cell_type": "code",
      "source": [],
      "metadata": {
        "id": "_npMxFwGJ9rO"
      },
      "execution_count": 2,
      "outputs": []
    },
    {
      "cell_type": "code",
      "source": [
        "# Define required daily intake\n",
        "required_nutrients = {\n",
        "    'calories': 2000,\n",
        "    'protein': 50,\n",
        "    'fat': 70,\n",
        "    'carbohydrates': 310\n",
        "}\n",
        "\n",
        "# Create working copy\n",
        "gap_df = final_df.copy()\n",
        "\n",
        "# Compute nutrient gaps\n",
        "gap_df['calories_gap'] = required_nutrients['calories'] - gap_df['calories']\n",
        "gap_df['protein_gap'] = required_nutrients['protein'] - gap_df['protein']\n",
        "gap_df['fat_gap'] = required_nutrients['fat'] - gap_df['fat']\n",
        "gap_df['carbohydrates_gap'] = required_nutrients['carbohydrates'] - gap_df['carbohydrates']\n",
        "\n",
        "# Flag deficiencies\n",
        "gap_df['calories_deficiency'] = gap_df['calories'] < required_nutrients['calories']\n",
        "gap_df['protein_deficiency'] = gap_df['protein'] < required_nutrients['protein']\n",
        "gap_df['fat_deficiency'] = gap_df['fat'] < required_nutrients['fat']\n",
        "gap_df['carbohydrates_deficiency'] = gap_df['carbohydrates'] < required_nutrients['carbohydrates']\n"
      ],
      "metadata": {
        "id": "XLzBQO4k8lQD"
      },
      "execution_count": 3,
      "outputs": []
    },
    {
      "cell_type": "code",
      "source": [],
      "metadata": {
        "id": "YVPKpwPQJ_Fa"
      },
      "execution_count": 3,
      "outputs": []
    },
    {
      "cell_type": "markdown",
      "source": [
        "MRR recommendation model"
      ],
      "metadata": {
        "id": "PCh8fn1LOpwQ"
      }
    },
    {
      "cell_type": "code",
      "source": [
        "import pandas as pd\n",
        "\n",
        "# Step 1: Load the final dataset\n",
        "final_df = pd.read_csv(\"/content/final_output.csv\")  # Update path if needed\n",
        "\n",
        "# Step 2: Define daily nutrient requirements (modify as needed)\n",
        "required_nutrients = {\n",
        "    'calories': 2000,\n",
        "    'protein': 50,\n",
        "    'fat': 70,\n",
        "    'carbohydrates': 310\n",
        "}\n",
        "\n",
        "# Step 3: Perform Nutrient Gap Analysis\n",
        "gap_df = final_df.copy()\n",
        "gap_df['calories_gap'] = required_nutrients['calories'] - gap_df['calories']\n",
        "gap_df['protein_gap'] = required_nutrients['protein'] - gap_df['protein']\n",
        "gap_df['fat_gap'] = required_nutrients['fat'] - gap_df['fat']\n",
        "gap_df['carbohydrates_gap'] = required_nutrients['carbohydrates'] - gap_df['carbohydrates']\n",
        "\n",
        "# Step 4: Flag Deficiencies\n",
        "gap_df['calories_deficiency'] = gap_df['calories'] < required_nutrients['calories']\n",
        "gap_df['protein_deficiency'] = gap_df['protein'] < required_nutrients['protein']\n",
        "gap_df['fat_deficiency'] = gap_df['fat'] < required_nutrients['fat']\n",
        "gap_df['carbohydrates_deficiency'] = gap_df['carbohydrates'] < required_nutrients['carbohydrates']\n",
        "\n",
        "# Step 5: Save as CSV\n",
        "output_filename = \"nutrient_gap_analysis.csv\"\n",
        "gap_df.to_csv(output_filename, index=False)\n",
        "\n",
        "# Step 6: Generate Download Link (for Colab or Jupyter)\n",
        "from IPython.display import FileLink, display\n",
        "display(FileLink(output_filename))\n"
      ],
      "metadata": {
        "colab": {
          "base_uri": "https://localhost:8080/",
          "height": 34
        },
        "id": "7xoJmBJA8nag",
        "outputId": "7f43bc3f-b13c-47fc-bc76-73cbd96ccddd"
      },
      "execution_count": 4,
      "outputs": [
        {
          "output_type": "display_data",
          "data": {
            "text/plain": [
              "/content/nutrient_gap_analysis.csv"
            ],
            "text/html": [
              "<a href='nutrient_gap_analysis.csv' target='_blank'>nutrient_gap_analysis.csv</a><br>"
            ]
          },
          "metadata": {}
        }
      ]
    },
    {
      "cell_type": "code",
      "source": [
        "import pandas as pd\n",
        "import numpy as np\n",
        "\n",
        "# Load your final dataset (already done earlier)\n",
        "df = pd.read_csv(\"/content/final_output.csv\")\n",
        "\n",
        "# Step 1: Simulate 5 users with nutrient gap targets\n",
        "user_profiles = [\n",
        "    {'user_id': 'U1', 'calories': 1800, 'protein': 60, 'fat': 50, 'carbohydrates': 250},\n",
        "    {'user_id': 'U2', 'calories': 2000, 'protein': 50, 'fat': 70, 'carbohydrates': 310},\n",
        "    {'user_id': 'U3', 'calories': 1500, 'protein': 30, 'fat': 40, 'carbohydrates': 200},\n",
        "    {'user_id': 'U4', 'calories': 2200, 'protein': 70, 'fat': 80, 'carbohydrates': 330},\n",
        "    {'user_id': 'U5', 'calories': 1600, 'protein': 40, 'fat': 60, 'carbohydrates': 270},\n",
        "]\n",
        "\n",
        "# Step 2: Function to rank recipes by inverse distance for a user\n",
        "def rank_recipes(user, df):\n",
        "    df_copy = df.copy()\n",
        "    df_copy['distance'] = np.sqrt(\n",
        "        (df['calories'] - user['calories'])**2 +\n",
        "        (df['protein'] - user['protein'])**2 +\n",
        "        (df['fat'] - user['fat'])**2 +\n",
        "        (df['carbohydrates'] - user['carbohydrates'])**2\n",
        "    )\n",
        "    df_copy['score'] = 1 / (1 + df_copy['distance'])\n",
        "    df_copy_sorted = df_copy.sort_values(by='score', ascending=False).reset_index(drop=True)\n",
        "    return df_copy_sorted\n",
        "\n",
        "# Step 3: Assume the top 1 true match per user is the \"relevant recipe\"\n",
        "# We'll use top-1 matching recipe per profile as the ideal match\n",
        "reciprocal_ranks = []\n",
        "\n",
        "for user in user_profiles:\n",
        "    ranked_df = rank_recipes(user, df)\n",
        "\n",
        "    # Define \"relevant\" recipe as one within a 5% nutrient margin\n",
        "    margin = 0.05\n",
        "    def is_relevant(row):\n",
        "        return (\n",
        "            abs(row['calories'] - user['calories']) / user['calories'] <= margin and\n",
        "            abs(row['protein'] - user['protein']) / user['protein'] <= margin and\n",
        "            abs(row['fat'] - user['fat']) / user['fat'] <= margin and\n",
        "            abs(row['carbohydrates'] - user['carbohydrates']) / user['carbohydrates'] <= margin\n",
        "        )\n",
        "\n",
        "    ranked_df['relevant'] = ranked_df.apply(is_relevant, axis=1)\n",
        "\n",
        "    # Find the rank of the first relevant recipe\n",
        "    relevant_indices = ranked_df.index[ranked_df['relevant'] == True].tolist()\n",
        "    if relevant_indices:\n",
        "        rank = relevant_indices[0] + 1  # +1 for 1-based index\n",
        "        reciprocal_ranks.append(1 / rank)\n",
        "    else:\n",
        "        reciprocal_ranks.append(0)\n",
        "\n",
        "# Step 4: Calculate final MRR\n",
        "mean_reciprocal_rank = sum(reciprocal_ranks) / len(user_profiles)\n",
        "print(\"📊 Mean Reciprocal Rank (MRR):\", round(mean_reciprocal_rank, 4))\n"
      ],
      "metadata": {
        "colab": {
          "base_uri": "https://localhost:8080/"
        },
        "id": "3HxZ7XV1KC38",
        "outputId": "5bd1363d-bdb5-447b-eede-faa6f34d6105"
      },
      "execution_count": 6,
      "outputs": [
        {
          "output_type": "stream",
          "name": "stdout",
          "text": [
            "📊 Mean Reciprocal Rank (MRR): 0.0224\n"
          ]
        }
      ]
    },
    {
      "cell_type": "markdown",
      "source": [
        "IMPROVED MRR RECOMMENDATION MODEL"
      ],
      "metadata": {
        "id": "cvrEQiVBOtp5"
      }
    },
    {
      "cell_type": "code",
      "source": [
        "import pandas as pd\n",
        "import numpy as np\n",
        "\n",
        "# Load your final nutrient dataset\n",
        "df = pd.read_csv(\"final_output.csv\")\n",
        "\n",
        "# Step 1: Simulate 20 users with random nutrient gaps\n",
        "np.random.seed(42)\n",
        "user_profiles = []\n",
        "for i in range(20):\n",
        "    user_profiles.append({\n",
        "        'user_id': f'U{i+1}',\n",
        "        'calories': np.random.randint(1500, 2500),\n",
        "        'protein': np.random.randint(30, 90),\n",
        "        'fat': np.random.randint(40, 100),\n",
        "        'carbohydrates': np.random.randint(200, 350)\n",
        "    })\n",
        "\n",
        "# Step 2: Define ranking function based on inverse distance\n",
        "def rank_recipes(user, df):\n",
        "    df_copy = df.copy()\n",
        "    df_copy['distance'] = np.sqrt(\n",
        "        (df['calories'] - user['calories'])**2 +\n",
        "        (df['protein'] - user['protein'])**2 +\n",
        "        (df['fat'] - user['fat'])**2 +\n",
        "        (df['carbohydrates'] - user['carbohydrates'])**2\n",
        "    )\n",
        "    df_copy['score'] = 1 / (1 + df_copy['distance'])\n",
        "    df_copy_sorted = df_copy.sort_values(by='score', ascending=False).reset_index(drop=True)\n",
        "    return df_copy_sorted\n",
        "\n",
        "# Step 3: Generate top-5 recommendations per user\n",
        "top_recipes_per_user = []\n",
        "\n",
        "for user in user_profiles:\n",
        "    ranked_df = rank_recipes(user, df)\n",
        "    top_5 = ranked_df[['recipe_name', 'calories', 'protein', 'fat', 'carbohydrates', 'score']].head(5).copy()\n",
        "\n",
        "    # Add user nutrient goals\n",
        "    top_5['user_id'] = user['user_id']\n",
        "    top_5['target_calories'] = user['calories']\n",
        "    top_5['target_protein'] = user['protein']\n",
        "    top_5['target_fat'] = user['fat']\n",
        "    top_5['target_carbs'] = user['carbohydrates']\n",
        "\n",
        "    top_recipes_per_user.append(top_5)\n",
        "\n",
        "# Step 4: Combine all into one DataFrame\n",
        "final_recommendation_df = pd.concat(top_recipes_per_user).reset_index(drop=True)\n",
        "\n",
        "# Step 5: Display or export\n",
        "# To view in notebook:\n",
        "print(final_recommendation_df.head(10))\n",
        "\n",
        "# Optional: Save to CSV\n",
        "# final_recommendation_df.to_csv(\"top_5_recommendations_per_user.csv\", index=False)\n"
      ],
      "metadata": {
        "colab": {
          "base_uri": "https://localhost:8080/"
        },
        "id": "WC8K3vXGKqr7",
        "outputId": "21913a1b-fd9e-4839-ef83-361c7907f0ea"
      },
      "execution_count": 7,
      "outputs": [
        {
          "output_type": "stream",
          "name": "stdout",
          "text": [
            "                                         recipe_name     calories    protein  \\\n",
            "0  recipe: roasted cauliflower & lentil bowl with...  1591.282051  63.497222   \n",
            "1  goat cheese crostini with blood orange and bla...  1607.310000  67.180000   \n",
            "2                mediterranean barley paella recipes  1606.748813  84.261660   \n",
            "3                             yellow vegetable curry  1618.660000  60.040000   \n",
            "4                         mediterranean barley salad  1590.200000  57.890000   \n",
            "5         nutella, banana, and caramel dessert pizza  1604.699000  21.771123   \n",
            "6                         summer farro salad recipes  1599.940000  55.480000   \n",
            "7            pumpkin maple cornbread muffins recipes  1585.626500  27.991580   \n",
            "8  banana & cinnamon waffles - gluten free & vega...  1611.989000  38.067540   \n",
            "9              crispy roasted potatoes with rosemary  1602.557580  37.491815   \n",
            "\n",
            "         fat  carbohydrates     score user_id  target_calories  \\\n",
            "0  63.798277     216.019248  0.045359      U1             1602   \n",
            "1  52.980000     228.050000  0.037963      U1             1602   \n",
            "2  44.605516     203.173896  0.036478      U1             1602   \n",
            "3  70.430000     208.580000  0.035180      U1             1602   \n",
            "4  60.410000     220.800000  0.034629      U1             1602   \n",
            "5  50.186430     279.170800  0.033142      U2             1606   \n",
            "6  38.950000     291.580000  0.031752      U2             1606   \n",
            "7  42.978860     278.967025  0.026822      U2             1606   \n",
            "8  49.975640     266.378900  0.025973      U2             1606   \n",
            "9  24.724016     317.883569  0.025099      U2             1606   \n",
            "\n",
            "   target_protein  target_fat  target_carbs  \n",
            "0              81          68           214  \n",
            "1              81          68           214  \n",
            "2              81          68           214  \n",
            "3              81          68           214  \n",
            "4              81          68           214  \n",
            "5              37          60           302  \n",
            "6              37          60           302  \n",
            "7              37          60           302  \n",
            "8              37          60           302  \n",
            "9              37          60           302  \n"
          ]
        }
      ]
    },
    {
      "cell_type": "markdown",
      "source": [
        "MRR EVALUATION"
      ],
      "metadata": {
        "id": "-tRd1HEqRYQ2"
      }
    },
    {
      "cell_type": "code",
      "source": [
        "# ✅ Mean Reciprocal Rank (MRR) Evaluation Code\n",
        "\n",
        "# Step 1: Re-rank recipes per user using nutrient distance\n",
        "def rank_recipes(user, df):\n",
        "    df_copy = df.copy()\n",
        "    df_copy['distance'] = np.sqrt(\n",
        "        (df['calories'] - user['calories'])**2 +\n",
        "        (df['protein'] - user['protein'])**2 +\n",
        "        (df['fat'] - user['fat'])**2 +\n",
        "        (df['carbohydrates'] - user['carbohydrates'])**2\n",
        "    )\n",
        "    df_copy['score'] = 1 / (1 + df_copy['distance'])\n",
        "    df_copy_sorted = df_copy.sort_values(by='score', ascending=False).reset_index(drop=True)\n",
        "    return df_copy_sorted\n",
        "\n",
        "# Step 2: Evaluate using MRR across 20 users\n",
        "reciprocal_ranks = []\n",
        "user_ranks = []\n",
        "\n",
        "# Define margin for relevance (10%)\n",
        "margin = 0.10\n",
        "\n",
        "for user in user_profiles:  # Changed from user_profiles_improved to user_profiles\n",
        "    ranked_df = rank_recipes(user, df) # Changed from recommendation_df to df\n",
        "\n",
        "    # Mark recipes as relevant if they fall within 10% of user's target\n",
        "    def is_relevant(row):\n",
        "        return (\n",
        "            abs(row['calories'] - user['calories']) / user['calories'] <= margin and\n",
        "            abs(row['protein'] - user['protein']) / user['protein'] <= margin and\n",
        "            abs(row['fat'] - user['fat']) / user['fat'] <= margin and\n",
        "            abs(row['carbohydrates'] - user['carbohydrates']) / user['carbohydrates'] <= margin\n",
        "        )\n",
        "\n",
        "    ranked_df['relevant'] = ranked_df.apply(is_relevant, axis=1)\n",
        "\n",
        "    # Get the rank of the first relevant recipe\n",
        "    relevant_indices = ranked_df.index[ranked_df['relevant'] == True].tolist()\n",
        "    if relevant_indices:\n",
        "        rank = relevant_indices[0] + 1\n",
        "        reciprocal_ranks.append(1 / rank)\n",
        "        user_ranks.append(rank)\n",
        "    else:\n",
        "        reciprocal_ranks.append(0)\n",
        "        user_ranks.append(None)\n",
        "\n",
        "# Step 3: Compute final MRR\n",
        "mrr_score = round(sum(reciprocal_ranks) / len(user_profiles), 4) # Changed from user_profiles_improved to user_profiles\n",
        "\n",
        "# Step 4: Print the result\n",
        "print(\"📊 Final Evaluation Metric:\")\n",
        "print(\"Mean Reciprocal Rank (MRR) =\", mrr_score)"
      ],
      "metadata": {
        "colab": {
          "base_uri": "https://localhost:8080/"
        },
        "id": "Pd2xU4iiO2Eo",
        "outputId": "3d77ca6d-60ad-4a44-a717-49060bf99575"
      },
      "execution_count": 9,
      "outputs": [
        {
          "output_type": "stream",
          "name": "stdout",
          "text": [
            "📊 Final Evaluation Metric:\n",
            "Mean Reciprocal Rank (MRR) = 0.0322\n"
          ]
        }
      ]
    },
    {
      "cell_type": "code",
      "source": [],
      "metadata": {
        "id": "Specyjj1Sx0q"
      },
      "execution_count": null,
      "outputs": []
    }
  ]
}