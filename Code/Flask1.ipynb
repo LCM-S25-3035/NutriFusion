{
  "nbformat": 4,
  "nbformat_minor": 0,
  "metadata": {
    "colab": {
      "provenance": []
    },
    "kernelspec": {
      "name": "python3",
      "display_name": "Python 3"
    },
    "language_info": {
      "name": "python"
    }
  },
  "cells": [
    {
      "cell_type": "code",
      "execution_count": null,
      "metadata": {
        "id": "FbfpZcpPNd_B"
      },
      "outputs": [],
      "source": [
        "# ===== Rough Flask App #1: Minimal JSON API =====\n",
        "# Use in Colab. Starts an ngrok URL like your original.\n",
        "# Endpoints:\n",
        "#   GET  /api/health\n",
        "#   GET  /api/diseases\n",
        "#   POST /api/predict  (JSON: dish, age, disease)\n",
        "\n",
        "!pip install -q flask flask-ngrok\n",
        "\n",
        "from flask import Flask, request, jsonify\n",
        "from flask_ngrok import run_with_ngrok\n",
        "from mistral_llm_cpu import generate_recipe_output_with_trust, all_diseases\n",
        "\n",
        "app_api = Flask(__name__)\n",
        "run_with_ngrok(app_api)\n",
        "\n",
        "@app_api.get(\"/api/health\")\n",
        "def health_080():\n",
        "    return jsonify({\"status\": \"ok\", \"app\": \"NutriFusion JSON API\"})\n",
        "\n",
        "@app_api.get(\"/api/diseases\")\n",
        "def diseases_080():\n",
        "    # returns the list you already expose in your main app\n",
        "    return jsonify({\"diseases\": all_diseases})\n",
        "\n",
        "@app_api.post(\"/api/predict\")\n",
        "def predict_080():\n",
        "    \"\"\"\n",
        "    Expected JSON body:\n",
        "    {\n",
        "      \"dish\": \"Paneer Tikka\",\n",
        "      \"age\": 45,\n",
        "      \"disease\": \"diabetes\"\n",
        "    }\n",
        "    \"\"\"\n",
        "    try:\n",
        "        data = request.get_json(force=True)\n",
        "        dish = data.get(\"dish\", \"\").strip()\n",
        "        age = int(data.get(\"age\", 0))\n",
        "        disease = data.get(\"disease\", \"\").strip()\n",
        "\n",
        "        output, _, trust_score, explanation = generate_recipe_output_with_trust(dish, age, disease)\n",
        "\n",
        "        return jsonify({\n",
        "            \"dish\": dish,\n",
        "            \"age\": age,\n",
        "            \"disease\": disease,\n",
        "            \"output\": output,\n",
        "            \"trust_score\": trust_score,\n",
        "            \"explanation\": explanation\n",
        "        })\n",
        "    except Exception as e:\n",
        "        return jsonify({\"error\": str(e)}), 400\n",
        "\n",
        "app_api.run()\n"
      ]
    }
  ]
}