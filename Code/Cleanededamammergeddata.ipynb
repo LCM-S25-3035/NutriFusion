{
  "nbformat": 4,
  "nbformat_minor": 0,
  "metadata": {
    "colab": {
      "provenance": []
    },
    "kernelspec": {
      "name": "python3",
      "display_name": "Python 3"
    },
    "language_info": {
      "name": "python"
    }
  },
  "cells": [
    {
      "cell_type": "code",
      "execution_count": 2,
      "metadata": {
        "colab": {
          "base_uri": "https://localhost:8080/"
        },
        "id": "8j8T8pygKuZd",
        "outputId": "1d08d597-d6d8-416d-8a28-cc5bb125d3e4"
      },
      "outputs": [
        {
          "output_type": "stream",
          "name": "stdout",
          "text": [
            "                                       title  \\\n",
            "0                              Stalker Pasta   \n",
            "1                Vegan Wild Mushroom Lasagna   \n",
            "2  RWOP Finalist: Tantalizing Tilapia Recipe   \n",
            "3             Blue Cheese Portobello Burgers   \n",
            "4       Pan-Grilled Portobello Mushroom Caps   \n",
            "\n",
            "                                         ingredients     calories         fat  \\\n",
            "0  3 tbsp. olive oil; 2 oz. pancetta or regular b...  1577.696629  129.212526   \n",
            "1  9 sheets of oven-ready, no-boil lasagna; 1 1/2...  4751.642910   99.368593   \n",
            "2  2 tsp blackened seasoning; 1 tsp lemon pepper ...  4423.251579  355.047064   \n",
            "3  3 tablespoons extra-virgin olive oil, divided;...  1345.744050   69.446261   \n",
            "4  4 x portobello mushroom caps, the dry stem tri...   677.321018   61.410305   \n",
            "\n",
            "      protein       carbs                                                url  \\\n",
            "0   80.654905   13.045006  https://www.delish.com/cooking/recipe-ideas/re...   \n",
            "1  131.580270  817.181987  https://holycowvegan.net/vegan-wild-mushroom-l...   \n",
            "2  283.326619   41.844743  http://recipeofhealth.com/recipe/rwop-finalist...   \n",
            "3   44.468696  142.973041  https://www.eatingwell.com/recipe/250485/blue-...   \n",
            "4   13.034144   19.616316  http://thewellseasonedcook.blogspot.com/2007/0...   \n",
            "\n",
            "   servings  \n",
            "0       4.0  \n",
            "1       6.0  \n",
            "2       6.0  \n",
            "3       4.0  \n",
            "4       4.0  \n"
          ]
        }
      ],
      "source": [
        "import pandas as pd\n",
        "\n",
        "# Step 1: Load the dataset\n",
        "df = pd.read_csv(\"merged_output.csv\")  # Replace with your actual filename\n",
        "\n",
        "# Step 2: Clean column names\n",
        "df.columns = df.columns.str.strip().str.lower().str.replace(' ', '_')\n",
        "\n",
        "# Step 3: Strip whitespace and unwanted characters from text columns\n",
        "df['title'] = df['title'].str.strip()\n",
        "df['ingredients'] = df['ingredients'].str.replace(r'[^\\x00-\\x7F]+', ' ', regex=True).str.strip()\n",
        "df['url'] = df['url'].str.strip()\n",
        "\n",
        "# Step 4: Convert numeric columns to proper types\n",
        "numeric_cols = ['calories', 'fat', 'protein', 'carbs', 'servings']\n",
        "for col in numeric_cols:\n",
        "    df[col] = pd.to_numeric(df[col], errors='coerce')\n",
        "\n",
        "# Step 5: Drop rows with missing essential values (optional but useful)\n",
        "df.dropna(subset=['title', 'ingredients', 'calories', 'servings'], inplace=True)\n",
        "\n",
        "# Step 6: Reset index\n",
        "df.reset_index(drop=True, inplace=True)\n",
        "\n",
        "# Optional: Show clean dataframe\n",
        "print(df.head())\n",
        "\n",
        "# Optional: Save cleaned file\n",
        "df.to_csv(\"cleaned_dataset.csv\", index=False)\n"
      ]
    }
  ]
}