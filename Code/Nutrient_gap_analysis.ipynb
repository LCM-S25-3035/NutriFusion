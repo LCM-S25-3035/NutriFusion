{
  "nbformat": 4,
  "nbformat_minor": 0,
  "metadata": {
    "colab": {
      "provenance": []
    },
    "kernelspec": {
      "name": "python3",
      "display_name": "Python 3"
    },
    "language_info": {
      "name": "python"
    }
  },
  "cells": [
    {
      "cell_type": "code",
      "source": [
        "import pandas as pd\n",
        "\n",
        "# Load the final dataset\n",
        "final_df = pd.read_csv(\"/content/final_output.csv\")  # Adjust path if needed\n"
      ],
      "metadata": {
        "id": "TiNwL8Au8fiX"
      },
      "execution_count": 3,
      "outputs": []
    },
    {
      "cell_type": "code",
      "source": [
        "# Define required daily intake\n",
        "required_nutrients = {\n",
        "    'calories': 2000,\n",
        "    'protein': 50,\n",
        "    'fat': 70,\n",
        "    'carbohydrates': 310\n",
        "}\n",
        "\n",
        "# Create working copy\n",
        "gap_df = final_df.copy()\n",
        "\n",
        "# Compute nutrient gaps\n",
        "gap_df['calories_gap'] = required_nutrients['calories'] - gap_df['calories']\n",
        "gap_df['protein_gap'] = required_nutrients['protein'] - gap_df['protein']\n",
        "gap_df['fat_gap'] = required_nutrients['fat'] - gap_df['fat']\n",
        "gap_df['carbohydrates_gap'] = required_nutrients['carbohydrates'] - gap_df['carbohydrates']\n",
        "\n",
        "# Flag deficiencies\n",
        "gap_df['calories_deficiency'] = gap_df['calories'] < required_nutrients['calories']\n",
        "gap_df['protein_deficiency'] = gap_df['protein'] < required_nutrients['protein']\n",
        "gap_df['fat_deficiency'] = gap_df['fat'] < required_nutrients['fat']\n",
        "gap_df['carbohydrates_deficiency'] = gap_df['carbohydrates'] < required_nutrients['carbohydrates']\n"
      ],
      "metadata": {
        "id": "XLzBQO4k8lQD"
      },
      "execution_count": 4,
      "outputs": []
    },
    {
      "cell_type": "code",
      "source": [
        "import pandas as pd\n",
        "\n",
        "# Step 1: Load the final dataset\n",
        "final_df = pd.read_csv(\"final_output.csv\")  # Update path if needed\n",
        "\n",
        "# Step 2: Define daily nutrient requirements (modify as needed)\n",
        "required_nutrients = {\n",
        "    'calories': 2000,\n",
        "    'protein': 50,\n",
        "    'fat': 70,\n",
        "    'carbohydrates': 310\n",
        "}\n",
        "\n",
        "# Step 3: Perform Nutrient Gap Analysis\n",
        "gap_df = final_df.copy()\n",
        "gap_df['calories_gap'] = required_nutrients['calories'] - gap_df['calories']\n",
        "gap_df['protein_gap'] = required_nutrients['protein'] - gap_df['protein']\n",
        "gap_df['fat_gap'] = required_nutrients['fat'] - gap_df['fat']\n",
        "gap_df['carbohydrates_gap'] = required_nutrients['carbohydrates'] - gap_df['carbohydrates']\n",
        "\n",
        "# Step 4: Flag Deficiencies\n",
        "gap_df['calories_deficiency'] = gap_df['calories'] < required_nutrients['calories']\n",
        "gap_df['protein_deficiency'] = gap_df['protein'] < required_nutrients['protein']\n",
        "gap_df['fat_deficiency'] = gap_df['fat'] < required_nutrients['fat']\n",
        "gap_df['carbohydrates_deficiency'] = gap_df['carbohydrates'] < required_nutrients['carbohydrates']\n",
        "\n",
        "# Step 5: Save as CSV\n",
        "output_filename = \"nutrient_gap_analysis.csv\"\n",
        "gap_df.to_csv(output_filename, index=False)\n",
        "\n",
        "# Step 6: Generate Download Link (for Colab or Jupyter)\n",
        "from IPython.display import FileLink, display\n",
        "display(FileLink(output_filename))\n"
      ],
      "metadata": {
        "colab": {
          "base_uri": "https://localhost:8080/",
          "height": 34
        },
        "id": "7xoJmBJA8nag",
        "outputId": "5fc21f5d-4f3b-4477-f3d2-e33fa9e747f0"
      },
      "execution_count": 5,
      "outputs": [
        {
          "output_type": "display_data",
          "data": {
            "text/plain": [
              "/content/nutrient_gap_analysis.csv"
            ],
            "text/html": [
              "<a href='nutrient_gap_analysis.csv' target='_blank'>nutrient_gap_analysis.csv</a><br>"
            ]
          },
          "metadata": {}
        }
      ]
    },
    {
      "cell_type": "code",
      "source": [],
      "metadata": {
        "id": "4yEA9afv9izf"
      },
      "execution_count": null,
      "outputs": []
    }
  ]
}