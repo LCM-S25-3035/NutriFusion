{
  "nbformat": 4,
  "nbformat_minor": 0,
  "metadata": {
    "colab": {
      "provenance": []
    },
    "kernelspec": {
      "name": "python3",
      "display_name": "Python 3"
    },
    "language_info": {
      "name": "python"
    }
  },
  "cells": [
    {
      "cell_type": "code",
      "execution_count": null,
      "metadata": {
        "id": "krs3XeMRtFpU"
      },
      "outputs": [],
      "source": [
        "import requests\n",
        "import pandas as pd\n",
        "\n",
        "url = \"https://data.cdc.gov/resource/hn4x-zwk7.json\"\n",
        "app_token = \"NDU12345EyCdwf67890HiElw\"\n",
        "\n",
        "headers = {\n",
        "    \"X-App-Token\": app_token\n",
        "}\n",
        "\n",
        "params = {\n",
        "    \"$limit\": 1000\n",
        "}\n",
        "\n",
        "response = requests.get(url, headers=headers, params=params)\n",
        "\n",
        "if response.status_code == 200:\n",
        "    data = response.json()\n",
        "    df = pd.DataFrame(data)\n",
        "    print(f\"Fetched {len(df)} records\")\n",
        "    print(df.head())\n",
        "\n",
        "    # Save to CSV file\n",
        "    df.to_csv(\"healthdata.csv\", index=False)\n",
        "    print(\"Data saved to healthdata.csv\")\n",
        "else:\n",
        "    print(f\"Error {response.status_code}: {response.text}\")\n"
      ]
    }
  ]
}