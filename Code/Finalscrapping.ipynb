{
  "nbformat": 4,
  "nbformat_minor": 0,
  "metadata": {
    "colab": {
      "private_outputs": true,
      "provenance": []
    },
    "kernelspec": {
      "name": "python3",
      "display_name": "Python 3"
    },
    "language_info": {
      "name": "python"
    }
  },
  "cells": [
    {
      "cell_type": "code",
      "execution_count": null,
      "metadata": {
        "id": "9xENX9zGwmy-"
      },
      "outputs": [],
      "source": [
        "import requests\n",
        "import pandas as pd\n",
        "import time\n",
        "\n",
        "API_KEY = 'a1126786c2894039926b5761c977cf82'\n",
        "RECIPE_COUNT = 10000  # Increase for more recipes\n",
        "\n",
        "def get_recipes(number):\n",
        "    url = f\"https://api.spoonacular.com/recipes/random?number={number}&apiKey={API_KEY}\"\n",
        "    response = requests.get(url)\n",
        "    if response.status_code != 200:\n",
        "        print(\"Error:\", response.json())\n",
        "        return []\n",
        "    return response.json().get('recipes', [])\n",
        "\n",
        "def parse_recipes(recipes):\n",
        "    data = []\n",
        "    for r in recipes:\n",
        "        try:\n",
        "            title = r.get('title')\n",
        "            ingredients = ', '.join([i['original'] for i in r['extendedIngredients']])\n",
        "            nutrition = {n['title'].lower(): n['amount'] for n in r.get('nutrition', {}).get('nutrients', [])}\n",
        "\n",
        "            data.append({\n",
        "                'Title': title,\n",
        "                'Ingredients': ingredients,\n",
        "                'Calories': nutrition.get('calories'),\n",
        "                'Protein (g)': nutrition.get('protein'),\n",
        "                'Carbs (g)': nutrition.get('carbohydrates'),\n",
        "                'Fiber (g)': nutrition.get('fiber')\n",
        "            })\n",
        "        except Exception as e:\n",
        "            print(f\"Skipping due to error: {e}\")\n",
        "            continue\n",
        "    return data\n",
        "\n",
        "# Collect recipes in batches of 10\n",
        "final_data = []\n",
        "for _ in range(RECIPE_COUNT // 10):\n",
        "    batch = get_recipes(10)\n",
        "    final_data.extend(parse_recipes(batch))\n",
        "    time.sleep(2)  # Respect API rate limits\n",
        "\n",
        "# Save to CSV\n",
        "df = pd.DataFrame(final_data)\n",
        "df.to_csv(\"spoonacular_recipes.csv\", index=False)\n",
        "print(\"Saved to spoonacular_recipes.csv\")\n"
      ]
    }
  ]
}