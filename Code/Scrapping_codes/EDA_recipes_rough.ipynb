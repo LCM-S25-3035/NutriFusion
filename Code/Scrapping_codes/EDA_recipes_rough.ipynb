{
  "nbformat": 4,
  "nbformat_minor": 0,
  "metadata": {
    "colab": {
      "private_outputs": true,
      "provenance": []
    },
    "kernelspec": {
      "name": "python3",
      "display_name": "Python 3"
    },
    "language_info": {
      "name": "python"
    }
  },
  "cells": [
    {
      "cell_type": "code",
      "execution_count": null,
      "metadata": {
        "id": "KxaDo3NTz8iz"
      },
      "outputs": [],
      "source": [
        "# Install missing libraries\n",
        "!pip install wordcloud missingno plotly --quiet\n",
        "\n",
        "# Import libraries\n",
        "import pandas as pd\n",
        "import numpy as np\n",
        "import matplotlib.pyplot as plt\n",
        "import seaborn as sns\n",
        "import missingno as msno\n",
        "from wordcloud import WordCloud\n",
        "import plotly.express as px\n",
        "\n",
        "# Load your CSV (first upload it if needed)\n",
        "\n",
        "\n",
        "# Load into DataFrame\n",
        "df = pd.read_csv('/content/70000_recipes_nutrients.csv')\n",
        "\n",
        "# Preview\n",
        "print(\"Shape:\", df.shape)\n",
        "df.head()\n"
      ]
    },
    {
      "cell_type": "code",
      "source": [
        "# Check data types\n",
        "print(\"\\n🔹 Data types:\\n\", df.dtypes)\n",
        "\n",
        "# Strip whitespace from column names\n",
        "df.columns = df.columns.str.strip()\n",
        "\n",
        "# Check missing values\n",
        "print(\"\\n🔹 Missing values:\\n\", df.isnull().sum())\n",
        "\n",
        "# Visualize missing data\n",
        "msno.matrix(df)\n",
        "plt.show()\n",
        "\n",
        "# Drop duplicates\n",
        "df = df.drop_duplicates()\n"
      ],
      "metadata": {
        "id": "JLaJDULT16lW"
      },
      "execution_count": null,
      "outputs": []
    },
    {
      "cell_type": "code",
      "source": [
        "# Summary statistics\n",
        "df.describe()\n"
      ],
      "metadata": {
        "id": "h-LFpo3Q2FYT"
      },
      "execution_count": null,
      "outputs": []
    },
    {
      "cell_type": "code",
      "source": [
        "# Nutrient column list\n",
        "cols = ['calories', 'protein', 'fat', 'carbohydrates']\n",
        "\n",
        "# Individual nutrient distribution\n",
        "for col in cols:\n",
        "    plt.figure(figsize=(6, 4))\n",
        "    sns.histplot(df[col], kde=True, bins=30, color='green')\n",
        "    plt.title(f'Distribution of {col}')\n",
        "    plt.grid(True)\n",
        "    plt.show()\n"
      ],
      "metadata": {
        "id": "PpBq2ptZ2UID"
      },
      "execution_count": null,
      "outputs": []
    },
    {
      "cell_type": "code",
      "source": [
        "# Boxplots to detect outliers\n",
        "for col in cols:\n",
        "    plt.figure(figsize=(6, 1.5))\n",
        "    sns.boxplot(data=df, x=col, color='orange')\n",
        "    plt.title(f'Boxplot for {col}')\n",
        "    plt.grid(True)\n",
        "    plt.show()\n"
      ],
      "metadata": {
        "id": "XIpGZWG92mYR"
      },
      "execution_count": null,
      "outputs": []
    },
    {
      "cell_type": "code",
      "source": [
        "# Correlation heatmap\n",
        "plt.figure(figsize=(8, 6))\n",
        "sns.heatmap(df[cols].corr(), annot=True, cmap='coolwarm')\n",
        "plt.title(\"Correlation Heatmap\")\n",
        "plt.show()\n",
        "# Pairplot (scatter + distribution)\n",
        "sns.pairplot(df[cols])\n",
        "plt.suptitle(\"Pairwise Relationships\", y=1.02)\n",
        "plt.show()\n"
      ],
      "metadata": {
        "id": "3SbZbF7-2wzK"
      },
      "execution_count": null,
      "outputs": []
    },
    {
      "cell_type": "code",
      "source": [
        "# Compute density per 100 calories\n",
        "df['protein_density'] = df['protein'] / df['calories'] * 100\n",
        "df['fat_density'] = df['fat'] / df['calories'] * 100\n",
        "df['carb_density'] = df['carbohydrates'] / df['calories'] * 100\n",
        "\n",
        "# Density boxplots\n",
        "df[['protein_density', 'fat_density', 'carb_density']].plot(kind='box', figsize=(8, 5), title=\"Nutrient Density\")\n",
        "plt.grid(True)\n",
        "plt.show()\n"
      ],
      "metadata": {
        "id": "Z37Iir6j3bER"
      },
      "execution_count": null,
      "outputs": []
    },
    {
      "cell_type": "code",
      "source": [
        "for col in cols:\n",
        "    print(f\"\\n🔝 Top 5 recipes by {col}:\\n\", df[['recipe_name', col]].sort_values(by=col, ascending=False).head(5))\n"
      ],
      "metadata": {
        "id": "zzvXowpT3jCo"
      },
      "execution_count": null,
      "outputs": []
    },
    {
      "cell_type": "code",
      "source": [
        "# Join all ingredient text\n",
        "text = ' '.join(df['ingredients'].astype(str).tolist())\n",
        "\n",
        "# Generate and display word cloud\n",
        "wordcloud = WordCloud(width=800, height=400, background_color='white').generate(text)\n",
        "plt.figure(figsize=(10, 5))\n",
        "plt.imshow(wordcloud, interpolation='bilinear')\n",
        "plt.axis(\"off\")\n",
        "plt.title(\"Common Ingredients\")\n",
        "plt.show()\n"
      ],
      "metadata": {
        "id": "6ctF7otC3v59"
      },
      "execution_count": null,
      "outputs": []
    },
    {
      "cell_type": "code",
      "source": [
        "df_sorted = df.sort_values(by='calories', ascending=False)\n",
        "fig = px.bar(df_sorted.head(10), x='recipe_name', y=['calories', 'protein', 'fat', 'carbohydrates'],\n",
        "             title=\"Top 10 Recipes by Nutrients\", barmode='group')\n",
        "fig.show()\n"
      ],
      "metadata": {
        "id": "uQZcaGqF4SdO"
      },
      "execution_count": null,
      "outputs": []
    },
    {
      "cell_type": "code",
      "source": [
        "# Correlation with calories\n",
        "print(\"Correlation with Calories:\\n\", df[cols].corr()['calories'].sort_values(ascending=False))\n",
        "\n",
        "# Skewness\n",
        "print(\"\\nSkewness:\")\n",
        "print(df[cols].skew())\n",
        "\n",
        "# Kurtosis\n",
        "print(\"\\nKurtosis:\")\n",
        "print(df[cols].kurtosis())\n"
      ],
      "metadata": {
        "id": "zUMCAvg24ekk"
      },
      "execution_count": null,
      "outputs": []
    }
  ]
}