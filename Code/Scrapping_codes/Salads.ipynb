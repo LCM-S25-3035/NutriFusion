{
  "nbformat": 4,
  "nbformat_minor": 0,
  "metadata": {
    "colab": {
      "provenance": []
    },
    "kernelspec": {
      "name": "python3",
      "display_name": "Python 3"
    },
    "language_info": {
      "name": "python"
    }
  },
  "cells": [
    {
      "cell_type": "code",
      "execution_count": 1,
      "metadata": {
        "colab": {
          "base_uri": "https://localhost:8080/"
        },
        "id": "-ANVYhaPU--3",
        "outputId": "e069d2cb-f788-4201-aa0b-3284d6608824"
      },
      "outputs": [
        {
          "output_type": "stream",
          "name": "stdout",
          "text": [
            "🔄 Fetching page 1, attempt 1 for 'salads'...\n",
            "🔄 Fetching page 2, attempt 1 for 'salads'...\n",
            "🔄 Fetching page 3, attempt 1 for 'salads'...\n",
            "🔄 Fetching page 4, attempt 1 for 'salads'...\n",
            "🔄 Fetching page 5, attempt 1 for 'salads'...\n",
            "\n",
            "✅ Saved 250 products to 'openfoodfacts_salads_data.csv'\n"
          ]
        }
      ],
      "source": [
        "import requests\n",
        "import pandas as pd\n",
        "import time\n",
        "\n",
        "\n",
        "SEARCH_TERM = \"salads\"\n",
        "\n",
        "BASE_URL = \"https://world.openfoodfacts.org/cgi/search.pl\"\n",
        "\n",
        "params = {\n",
        "    \"search_terms\": SEARCH_TERM,\n",
        "    \"page_size\": 50,\n",
        "    \"json\": 1,\n",
        "    \"fields\": \"product_name,nutriments,brands,code,ingredients_text,serving_suggestions\",\n",
        "}\n",
        "\n",
        "all_products = []\n",
        "NUM_PAGES = 5\n",
        "\n",
        "for page in range(1, NUM_PAGES + 1):\n",
        "    success = False\n",
        "    retries = 3\n",
        "    for attempt in range(retries):\n",
        "        try:\n",
        "            print(f\"🔄 Fetching page {page}, attempt {attempt + 1} for '{SEARCH_TERM}'...\")\n",
        "            params[\"page\"] = page\n",
        "            response = requests.get(BASE_URL, params=params, timeout=10)\n",
        "            if response.status_code == 200:\n",
        "                data = response.json()\n",
        "                products = data.get(\"products\", [])\n",
        "                for product in products:\n",
        "                    nutriments = product.get(\"nutriments\", {})\n",
        "                    all_products.append({\n",
        "                        \"Product Name\": product.get(\"product_name\", \"N/A\"),\n",
        "                        \"Brand\": product.get(\"brands\", \"N/A\"),\n",
        "                        \"Calories (kcal)\": nutriments.get(\"energy-kcal_100g\"),\n",
        "                        \"Proteins (g)\": nutriments.get(\"proteins_100g\"),\n",
        "                        \"Fat (g)\": nutriments.get(\"fat_100g\"),\n",
        "                        \"Sugar (g)\": nutriments.get(\"sugars_100g\"),\n",
        "                        \"Salt (g)\": nutriments.get(\"salt_100g\"),\n",
        "                        \"Carbohydrates (g)\": nutriments.get(\"carbohydrates_100g\"),\n",
        "                        \"Code\": product.get(\"code\"),\n",
        "                        \"Ingredients Text\": product.get(\"ingredients_text\", \"N/A\"),\n",
        "                        \"Serving Suggestions\": product.get(\"serving_suggestions\", \"N/A\")\n",
        "                    })\n",
        "                success = True\n",
        "                break\n",
        "            else:\n",
        "                print(f\"❌ Status code {response.status_code}\")\n",
        "        except Exception as e:\n",
        "            print(f\"⚠️ Error on attempt {attempt + 1}: {e}\")\n",
        "            time.sleep(2)\n",
        "\n",
        "    if not success:\n",
        "        print(f\"❌ Failed to fetch page {page} after {retries} attempts.\")\n",
        "        break\n",
        "\n",
        "    time.sleep(1)\n",
        "\n",
        "# Save data\n",
        "df = pd.DataFrame(all_products)\n",
        "output_filename = f\"openfoodfacts_{SEARCH_TERM}_data.csv\"\n",
        "df.to_csv(output_filename, index=False)\n",
        "\n",
        "print(f\"\\n✅ Saved {len(df)} products to '{output_filename}'\")"
      ]
    }
  ]
}