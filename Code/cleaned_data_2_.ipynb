{
  "nbformat": 4,
  "nbformat_minor": 0,
  "metadata": {
    "colab": {
      "provenance": []
    },
    "kernelspec": {
      "name": "python3",
      "display_name": "Python 3"
    },
    "language_info": {
      "name": "python"
    }
  },
  "cells": [
    {
      "cell_type": "code",
      "source": [
        "import pandas as pd\n",
        "\n",
        "# Load the dataset\n",
        "df = pd.read_csv(\"fruits.csv\")  # Use the correct path if needed\n",
        "\n",
        "# Step 1: Drop rows with missing 'Product Name' or 'Brand'\n",
        "df_cleaned = df.dropna(subset=['Product Name', 'Brand'])\n",
        "\n",
        "# Step 2: Convert nutrient columns to numeric and fill missing values with column means\n",
        "nutrient_cols = ['Calories (kcal)', 'Proteins (g)', 'Fat (g)',\n",
        "                 'Carbohydrates (g)', 'Sugar (g)', 'Salt (g)']\n",
        "\n",
        "for col in nutrient_cols:\n",
        "    df_cleaned[col] = pd.to_numeric(df_cleaned[col], errors='coerce')\n",
        "    df_cleaned[col] = df_cleaned[col].fillna(df_cleaned[col].mean())\n",
        "\n",
        "# Step 3: Remove duplicate entries based on 'Code'\n",
        "df_cleaned = df_cleaned.drop_duplicates(subset='Code')\n",
        "\n",
        "# Step 4: Reset the index\n",
        "df_cleaned.reset_index(drop=True, inplace=True)\n",
        "\n",
        "# Step 5: Save the cleaned dataset\n",
        "df_cleaned.to_csv(\"cleaned_fruits.csv\", index=False)\n",
        "\n",
        "print(\"✅ Cleaned dataset saved as 'cleaned_fruits.csv'\")\n"
      ],
      "metadata": {
        "colab": {
          "base_uri": "https://localhost:8080/"
        },
        "id": "l0-d7MY8gWZD",
        "outputId": "076a5f39-4212-47d0-f382-e63293a34ad0"
      },
      "execution_count": 5,
      "outputs": [
        {
          "output_type": "stream",
          "name": "stdout",
          "text": [
            "✅ Cleaned dataset saved as 'cleaned_fruits.csv'\n"
          ]
        },
        {
          "output_type": "stream",
          "name": "stderr",
          "text": [
            "<ipython-input-5-234a01a49605>:14: SettingWithCopyWarning: \n",
            "A value is trying to be set on a copy of a slice from a DataFrame.\n",
            "Try using .loc[row_indexer,col_indexer] = value instead\n",
            "\n",
            "See the caveats in the documentation: https://pandas.pydata.org/pandas-docs/stable/user_guide/indexing.html#returning-a-view-versus-a-copy\n",
            "  df_cleaned[col] = pd.to_numeric(df_cleaned[col], errors='coerce')\n",
            "<ipython-input-5-234a01a49605>:15: SettingWithCopyWarning: \n",
            "A value is trying to be set on a copy of a slice from a DataFrame.\n",
            "Try using .loc[row_indexer,col_indexer] = value instead\n",
            "\n",
            "See the caveats in the documentation: https://pandas.pydata.org/pandas-docs/stable/user_guide/indexing.html#returning-a-view-versus-a-copy\n",
            "  df_cleaned[col] = df_cleaned[col].fillna(df_cleaned[col].mean())\n"
          ]
        }
      ]
    },
    {
      "cell_type": "code",
      "source": [],
      "metadata": {
        "id": "SinPDp7LwVKo"
      },
      "execution_count": null,
      "outputs": []
    }
  ]
}