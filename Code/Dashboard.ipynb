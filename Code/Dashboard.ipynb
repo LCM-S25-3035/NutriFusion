{
 "cells": [
  {
   "cell_type": "code",
   "execution_count": 27,
   "id": "94df1fd8",
   "metadata": {
    "colab": {
     "base_uri": "https://localhost:8080/",
     "height": 706
    },
    "id": "bWPjPVqquXfE",
    "outputId": "176b472e-bb48-47b0-8f78-85705625bd45"
   },
   "outputs": [
    {
     "name": "stdout",
     "output_type": "stream",
     "text": [
      "🚀 Your NutriFusion Dashboard is live here:\n",
      "NgrokTunnel: \"https://f635036b7df1.ngrok-free.app\" -> \"http://localhost:8050\"\n"
     ]
    },
    {
     "data": {
      "application/javascript": [
       "(async (port, path, width, height, cache, element) => {\n",
       "    if (!google.colab.kernel.accessAllowed && !cache) {\n",
       "      return;\n",
       "    }\n",
       "    element.appendChild(document.createTextNode(''));\n",
       "    const url = await google.colab.kernel.proxyPort(port, {cache});\n",
       "    const iframe = document.createElement('iframe');\n",
       "    iframe.src = new URL(path, url).toString();\n",
       "    iframe.height = height;\n",
       "    iframe.width = width;\n",
       "    iframe.style.border = 0;\n",
       "    iframe.allow = [\n",
       "        'accelerometer',\n",
       "        'autoplay',\n",
       "        'camera',\n",
       "        'clipboard-read',\n",
       "        'clipboard-write',\n",
       "        'gyroscope',\n",
       "        'magnetometer',\n",
       "        'microphone',\n",
       "        'serial',\n",
       "        'usb',\n",
       "        'xr-spatial-tracking',\n",
       "    ].join('; ');\n",
       "    element.appendChild(iframe);\n",
       "  })(8050, \"/\", \"100%\", 650, false, window.element)"
      ],
      "text/plain": [
       "<IPython.core.display.Javascript object>"
      ]
     },
     "metadata": {},
     "output_type": "display_data"
    }
   ],
   "source": [
    "import pandas as pd\n",
    "import plotly.express as px\n",
    "from dash import Dash, html, dcc\n",
    "import dash_bootstrap_components as dbc\n",
    "from pyngrok import ngrok\n",
    "\n",
    "# Load your datasets\n",
    "recipes_df = pd.read_csv('/content/70000_recipes_nutrients_cleaned_final.csv')\n",
    "health_df = pd.read_csv('/content/health_age_data_70000_synthetic.csv')\n",
    "\n",
    "# --- Clean & Prepare Data ---\n",
    "health_df['Disease'] = health_df['Disease'].str.lower().str.strip()\n",
    "health_exploded = health_df.assign(Disease=health_df['Disease'].str.split(', ')).explode('Disease')\n",
    "\n",
    "# --- Disease Frequency ---\n",
    "disease_counts = health_exploded['Disease'].value_counts().reset_index()\n",
    "disease_counts.columns = ['Disease', 'Count']\n",
    "fig_disease = px.bar(disease_counts, x='Disease', y='Count', title=\"🦠 Disease Frequency\")\n",
    "\n",
    "# --- Age Distribution ---\n",
    "fig_age = px.histogram(health_df, x='Ages', nbins=30, title=\"👥 Age Distribution\")\n",
    "\n",
    "# --- Gender Distribution ---\n",
    "fig_gender = px.pie(health_df, names='Gender', title=\"🚻 Gender Breakdown\")\n",
    "\n",
    "# --- BMI Distribution ---\n",
    "health_df['BMI'] = health_df['Weight'] / (health_df['Height'] / 100) ** 2\n",
    "fig_bmi = px.histogram(health_df, x='BMI', nbins=30, title=\"📊 BMI Distribution\")\n",
    "\n",
    "# --- Top Recipes ---\n",
    "top_recipes = recipes_df['recipe_name'].value_counts().nlargest(10).reset_index()\n",
    "top_recipes.columns = ['Recipe Name', 'Count']\n",
    "fig_recipes = px.bar(top_recipes, x='Recipe Name', y='Count', title=\"🍽 Top 10 Recipes\")\n",
    "\n",
    "# --- Nutrient Distributions ---\n",
    "fig_nutrients = []\n",
    "for col in ['calories', 'protein', 'fat', 'carbohydrates']:\n",
    "    fig = px.histogram(recipes_df, x=col, nbins=30, title=f\"🥗 {col.title()} in Recipes\")\n",
    "    fig_nutrients.append(fig)\n",
    "\n",
    "# --- Avg Nutrient Targets by Disease ---\n",
    "avg_targets = health_exploded.groupby('Disease')[['Calories', 'Protein', 'Fat', 'Carbohydrates', 'Fiber']].mean().reset_index()\n",
    "fig_targets = px.bar(\n",
    "    avg_targets.melt(id_vars='Disease', var_name='Nutrient', value_name='Target'),\n",
    "    x='Disease', y='Target', color='Nutrient', barmode='group',\n",
    "    title=\"🍎 Avg Daily Nutrient Targets by Disease\"\n",
    ")\n",
    "\n",
    "# --- Create Dashboard Layout ---\n",
    "app = Dash(__name__, external_stylesheets=[dbc.themes.BOOTSTRAP])\n",
    "\n",
    "app.layout = dbc.Container([\n",
    "    html.H1(\"NutriFusion EDA Dashboard\", className=\"text-center my-4\"),\n",
    "\n",
    "    dbc.Row([dbc.Col(dcc.Graph(figure=fig_disease))]),\n",
    "    dbc.Row([dbc.Col(dcc.Graph(figure=fig_age)), dbc.Col(dcc.Graph(figure=fig_gender))]),\n",
    "    dbc.Row([dbc.Col(dcc.Graph(figure=fig_bmi))]),\n",
    "    dbc.Row([dbc.Col(dcc.Graph(figure=fig_recipes))]),\n",
    "\n",
    "    html.Hr(),\n",
    "    html.H3(\"🥗 Nutrient Distributions in Recipes\"),\n",
    "    dbc.Row([dbc.Col(dcc.Graph(figure=fig), width=6) for fig in fig_nutrients[:2]]),\n",
    "    dbc.Row([dbc.Col(dcc.Graph(figure=fig), width=6) for fig in fig_nutrients[2:]]),\n",
    "\n",
    "    html.Hr(),\n",
    "    dbc.Row([dbc.Col(dcc.Graph(figure=fig_targets))]),\n",
    "\n",
    "], fluid=True)\n",
    "\n",
    "# --- Run Dashboard in Colab using ngrok ---\n",
    "port = 8050\n",
    "public_url = ngrok.connect(port)\n",
    "print(f\"🚀 Your NutriFusion Dashboard is live here:\\n{public_url}\")\n",
    "\n",
    "app.run(port=port, use_reloader=False)\n"
   ]
  },
  {
   "cell_type": "code",
   "execution_count": null,
   "id": "6fbef167",
   "metadata": {
    "id": "hYyqv107vCfH"
   },
   "outputs": [],
   "source": []
  }
 ],
 "metadata": {},
 "nbformat": 4,
 "nbformat_minor": 5
}
