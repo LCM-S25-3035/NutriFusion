{
  "nbformat": 4,
  "nbformat_minor": 0,
  "metadata": {
    "colab": {
      "provenance": []
    },
    "kernelspec": {
      "name": "python3",
      "display_name": "Python 3"
    },
    "language_info": {
      "name": "python"
    }
  },
  "cells": [
    {
      "cell_type": "code",
      "execution_count": 1,
      "metadata": {
        "colab": {
          "base_uri": "https://localhost:8080/"
        },
        "id": "dsw6OFEzbrVb",
        "outputId": "2d551ab7-1b74-47b5-c2bc-1769d7f88855"
      },
      "outputs": [
        {
          "output_type": "stream",
          "name": "stdout",
          "text": [
            "🔄 Fetching page 1 for 'fruits', attempt 1...\n",
            "🔄 Fetching page 2 for 'fruits', attempt 1...\n",
            "🔄 Fetching page 3 for 'fruits', attempt 1...\n",
            "🔄 Fetching page 4 for 'fruits', attempt 1...\n",
            "🔄 Fetching page 5 for 'fruits', attempt 1...\n",
            "\n",
            "✅ Saved 250 products to 'openfoodfacts_fruits_with_pseudo_recipes.csv'\n"
          ]
        }
      ],
      "source": [
        "import requests\n",
        "import pandas as pd\n",
        "import time\n",
        "\n",
        "SEARCH_TERM = \"fruits\"\n",
        "\n",
        "BASE_URL = \"https://world.openfoodfacts.org/cgi/search.pl\"\n",
        "\n",
        "params = {\n",
        "    \"search_terms\": SEARCH_TERM,\n",
        "    \"page_size\": 50,\n",
        "    \"json\": 1,\n",
        "    \"fields\": \"product_name,nutriments,brands,code,ingredients_text,serving_suggestions\",\n",
        "}\n",
        "\n",
        "all_products = []\n",
        "NUM_PAGES = 5\n",
        "\n",
        "for page in range(1, NUM_PAGES + 1):\n",
        "    success = False\n",
        "    retries = 3\n",
        "    for attempt in range(retries):\n",
        "        try:\n",
        "            print(f\"🔄 Fetching page {page} for '{SEARCH_TERM}', attempt {attempt + 1}...\")\n",
        "            params[\"page\"] = page\n",
        "            response = requests.get(BASE_URL, params=params, timeout=10)\n",
        "            if response.status_code == 200:\n",
        "                data = response.json()\n",
        "                products = data.get(\"products\", [])\n",
        "                for product in products:\n",
        "                    nutriments = product.get(\"nutriments\", {})\n",
        "                    all_products.append({\n",
        "                        \"Product Name\": product.get(\"product_name\", \"N/A\"),\n",
        "                        \"Brand\": product.get(\"brands\", \"N/A\"),\n",
        "                        \"Calories (kcal)\": nutriments.get(\"energy-kcal_100g\"),\n",
        "                        \"Proteins (g)\": nutriments.get(\"proteins_100g\"),\n",
        "                        \"Fat (g)\": nutriments.get(\"fat_100g\"),\n",
        "                        \"Carbohydrates (g)\": nutriments.get(\"carbohydrates_100g\"),\n",
        "                        \"Sugar (g)\": nutriments.get(\"sugars_100g\"),\n",
        "                        \"Salt (g)\": nutriments.get(\"salt_100g\"),\n",
        "                        \"Code\": product.get(\"code\"),\n",
        "                        \"Ingredients Text\": product.get(\"ingredients_text\", \"N/A\"),\n",
        "                        \"Serving Suggestions\": product.get(\"serving_suggestions\", \"N/A\")\n",
        "                    })\n",
        "                success = True\n",
        "                break\n",
        "            else:\n",
        "                print(f\"❌ Status code {response.status_code}\")\n",
        "        except Exception as e:\n",
        "            print(f\"⚠️ Error on attempt {attempt + 1}: {e}\")\n",
        "            time.sleep(2)\n",
        "\n",
        "    if not success:\n",
        "        print(f\"❌ Failed to fetch page {page} after {retries} attempts.\")\n",
        "        break\n",
        "\n",
        "    time.sleep(1)\n",
        "\n",
        "# Save data\n",
        "filename = f\"openfoodfacts_{SEARCH_TERM}_with_pseudo_recipes.csv\"\n",
        "df = pd.DataFrame(all_products)\n",
        "df.to_csv(filename, index=False)\n",
        "\n",
        "print(f\"\\n✅ Saved {len(df)} products to '{filename}'\")\n"
      ]
    },
    {
      "cell_type": "code",
      "source": [
        "pip install googletrans==4.0.0-rc1\n"
      ],
      "metadata": {
        "colab": {
          "base_uri": "https://localhost:8080/"
        },
        "id": "JVaVR-nGfP99",
        "outputId": "9ae23bd6-b77d-4150-f47f-6cff127950e3"
      },
      "execution_count": 1,
      "outputs": [
        {
          "output_type": "stream",
          "name": "stdout",
          "text": [
            "Requirement already satisfied: googletrans==4.0.0-rc1 in /usr/local/lib/python3.11/dist-packages (4.0.0rc1)\n",
            "Requirement already satisfied: httpx==0.13.3 in /usr/local/lib/python3.11/dist-packages (from googletrans==4.0.0-rc1) (0.13.3)\n",
            "Requirement already satisfied: certifi in /usr/local/lib/python3.11/dist-packages (from httpx==0.13.3->googletrans==4.0.0-rc1) (2025.4.26)\n",
            "Requirement already satisfied: hstspreload in /usr/local/lib/python3.11/dist-packages (from httpx==0.13.3->googletrans==4.0.0-rc1) (2025.1.1)\n",
            "Requirement already satisfied: sniffio in /usr/local/lib/python3.11/dist-packages (from httpx==0.13.3->googletrans==4.0.0-rc1) (1.3.1)\n",
            "Requirement already satisfied: chardet==3.* in /usr/local/lib/python3.11/dist-packages (from httpx==0.13.3->googletrans==4.0.0-rc1) (3.0.4)\n",
            "Requirement already satisfied: idna==2.* in /usr/local/lib/python3.11/dist-packages (from httpx==0.13.3->googletrans==4.0.0-rc1) (2.10)\n",
            "Requirement already satisfied: rfc3986<2,>=1.3 in /usr/local/lib/python3.11/dist-packages (from httpx==0.13.3->googletrans==4.0.0-rc1) (1.5.0)\n",
            "Requirement already satisfied: httpcore==0.9.* in /usr/local/lib/python3.11/dist-packages (from httpx==0.13.3->googletrans==4.0.0-rc1) (0.9.1)\n",
            "Requirement already satisfied: h11<0.10,>=0.8 in /usr/local/lib/python3.11/dist-packages (from httpcore==0.9.*->httpx==0.13.3->googletrans==4.0.0-rc1) (0.9.0)\n",
            "Requirement already satisfied: h2==3.* in /usr/local/lib/python3.11/dist-packages (from httpcore==0.9.*->httpx==0.13.3->googletrans==4.0.0-rc1) (3.2.0)\n",
            "Requirement already satisfied: hyperframe<6,>=5.2.0 in /usr/local/lib/python3.11/dist-packages (from h2==3.*->httpcore==0.9.*->httpx==0.13.3->googletrans==4.0.0-rc1) (5.2.0)\n",
            "Requirement already satisfied: hpack<4,>=3.0 in /usr/local/lib/python3.11/dist-packages (from h2==3.*->httpcore==0.9.*->httpx==0.13.3->googletrans==4.0.0-rc1) (3.0.0)\n"
          ]
        }
      ]
    },
    {
      "cell_type": "code",
      "source": [
        "import pandas as pd\n",
        "from googletrans import Translator\n",
        "\n",
        "# Load your CSV\n",
        "df = pd.read_csv(\"/content/openfoodfacts_fruits_with_pseudo_recipes.csv\")\n",
        "\n",
        "# Initialize the translator\n",
        "translator = Translator()\n",
        "\n",
        "# Translate Ingredients Text\n",
        "def translate(text):\n",
        "    try:\n",
        "        return translator.translate(text, dest='en').text\n",
        "    except:\n",
        "        return text\n",
        "\n",
        "# Translate only non-null values\n",
        "df[\"Ingredients Text\"] = df[\"Ingredients Text\"].apply(lambda x: translate(x) if pd.notna(x) else x)\n",
        "\n",
        "# Save the translated file\n",
        "df.to_csv(\"/content/openfoodfacts_fruits_with_pseudo_recipes.csv\", index=False)\n",
        "print(\"✅ Translated file saved as 'vegetables_ingredients_translated.csv'\")\n"
      ],
      "metadata": {
        "colab": {
          "base_uri": "https://localhost:8080/"
        },
        "id": "8GhtwCVLgDIz",
        "outputId": "13271451-a41d-455d-e1db-e218bf1c4f4e"
      },
      "execution_count": 4,
      "outputs": [
        {
          "output_type": "stream",
          "name": "stdout",
          "text": [
            "✅ Translated file saved as 'vegetables_ingredients_translated.csv'\n"
          ]
        }
      ]
    },
    {
      "cell_type": "code",
      "source": [],
      "metadata": {
        "id": "l0-d7MY8gWZD"
      },
      "execution_count": null,
      "outputs": []
    }
  ]
}