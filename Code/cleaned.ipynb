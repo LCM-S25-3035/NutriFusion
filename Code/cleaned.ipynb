{
  "nbformat": 4,
  "nbformat_minor": 0,
  "metadata": {
    "colab": {
      "private_outputs": true,
      "provenance": []
    },
    "kernelspec": {
      "name": "python3",
      "display_name": "Python 3"
    },
    "language_info": {
      "name": "python"
    }
  },
  "cells": [
    {
      "cell_type": "code",
      "execution_count": null,
      "metadata": {
        "id": "mQD5oI89abE1"
      },
      "outputs": [],
      "source": [
        "import pandas as pd\n",
        "\n",
        "# Load the dataset\n",
        "df = pd.read_csv(\"epi_r.csv\")\n",
        "\n",
        "# 1. Standardize column names\n",
        "df.columns = df.columns.str.strip().str.lower()\n",
        "\n",
        "# 2. Drop rows with missing essential nutritional data\n",
        "df = df.dropna(subset=['calories', 'protein', 'fat', 'sodium'])\n",
        "\n",
        "# 3. Drop duplicate rows if any\n",
        "df = df.drop_duplicates()\n",
        "\n",
        "# 4. Drop columns with almost all zeros (very low variance)\n",
        "threshold = 0.99  # Adjust if needed\n",
        "zero_fraction = (df == 0).sum() / len(df)\n",
        "low_variance_cols = zero_fraction[zero_fraction > threshold].index\n",
        "df = df.drop(columns=low_variance_cols)\n",
        "\n",
        "# 5. Reset index\n",
        "df.reset_index(drop=True, inplace=True)\n",
        "\n",
        "# Save the cleaned dataset\n",
        "df.to_csv(\"epi_r_cleaned.csv\", index=False)\n",
        "\n",
        "print(\"Cleaned dataset saved as 'epi_r_cleaned.csv'\")\n"
      ]
    }
  ]
}