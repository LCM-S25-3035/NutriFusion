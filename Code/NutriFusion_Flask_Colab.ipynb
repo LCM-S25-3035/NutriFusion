{
 "cells": [
  {
   "cell_type": "code",
   "execution_count": null,
   "id": "c76f0fbb",
   "metadata": {},
   "outputs": [],
   "source": [
    "\n",
    "!pip install flask flask-ngrok sentence-transformers faiss-cpu transformers accelerate cleanlab-tlm huggingface_hub\n"
   ]
  },
  {
   "cell_type": "code",
   "execution_count": null,
   "id": "783e02a8",
   "metadata": {},
   "outputs": [],
   "source": [
    "\n",
    "!mkdir -p templates static data\n"
   ]
  },
  {
   "cell_type": "code",
   "execution_count": null,
   "id": "81a61e22",
   "metadata": {},
   "outputs": [],
   "source": [
    "\n",
    "from google.colab import files\n",
    "uploaded = files.upload()  # Upload mistral_llm_cpu.py, app.py, bg.jpg, CSVs, index.html\n"
   ]
  },
  {
   "cell_type": "code",
   "execution_count": null,
   "id": "5e58f5d4",
   "metadata": {},
   "outputs": [],
   "source": [
    "\n",
    "from flask import Flask, render_template, request\n",
    "from flask_ngrok import run_with_ngrok\n",
    "from mistral_llm_cpu import generate_recipe_output_with_trust, all_diseases\n",
    "\n",
    "app = Flask(__name__)\n",
    "run_with_ngrok(app)\n",
    "\n",
    "@app.route(\"/\", methods=[\"GET\", \"POST\"])\n",
    "def index():\n",
    "    output, trust_score, explanation = \"\", \"\", \"\"\n",
    "    if request.method == \"POST\":\n",
    "        dish = request.form[\"dish\"]\n",
    "        age = int(request.form[\"age\"])\n",
    "        disease = request.form[\"disease\"]\n",
    "        output, _, trust_score, explanation = generate_recipe_output_with_trust(dish, age, disease)\n",
    "    return render_template(\"index.html\", output=output, trust_score=trust_score,\n",
    "                           explanation=explanation, diseases=all_diseases)\n",
    "\n",
    "app.run()\n"
   ]
  }
 ],
 "metadata": {
  "kernelspec": {
   "display_name": "Python 3",
   "language": "python",
   "name": "python3"
  }
 },
 "nbformat": 4,
 "nbformat_minor": 5
}
