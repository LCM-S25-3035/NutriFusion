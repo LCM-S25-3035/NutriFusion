{
  "nbformat": 4,
  "nbformat_minor": 0,
  "metadata": {
    "colab": {
      "private_outputs": true,
      "provenance": []
    },
    "kernelspec": {
      "name": "python3",
      "display_name": "Python 3"
    },
    "language_info": {
      "name": "python"
    }
  },
  "cells": [
    {
      "cell_type": "code",
      "source": [
        "import pandas as pd\n",
        "import ast\n",
        "\n",
        "# Step 1: Load CSV with flexible encoding handling\n",
        "try:\n",
        "    df = pd.read_csv(\"/content/Copy of cleaned_.csv\", encoding='utf-8')\n",
        "except UnicodeDecodeError:\n",
        "    df = pd.read_csv(\"/content/Copy of cleaned_.csv\", encoding='ISO-8859-1')\n",
        "\n",
        "# Step 2: Normalize column names\n",
        "df.columns = df.columns.str.strip().str.lower()\n",
        "\n",
        "# Step 3: Print available columns to debug if needed\n",
        "print(\"Columns in the file:\", df.columns.tolist())\n",
        "\n",
        "# Step 4: Define column mapping (in case names are slightly off)\n",
        "column_mapping = {\n",
        "    'description': 'description',\n",
        "    'ingredients': 'ingredients',\n",
        "    'calories': 'calories',\n",
        "    'protein': 'protein (g)',\n",
        "    'protein (g)': 'protein (g)',\n",
        "    'fat': 'fat (g)',\n",
        "    'fat (g)': 'fat (g)',\n",
        "    'carbs': 'carbs (g)',\n",
        "    'carbohydrates': 'carbs (g)',\n",
        "    'carbs (g)': 'carbs (g)'\n",
        "}\n",
        "\n",
        "# Step 5: Apply column renaming\n",
        "df = df.rename(columns=column_mapping)\n",
        "\n",
        "# Step 6: Keep only the required columns\n",
        "required_cols = ['description', 'ingredients', 'calories', 'protein (g)', 'fat (g)', 'carbs (g)']\n",
        "df = df[[col for col in required_cols if col in df.columns]]\n",
        "\n",
        "# Step 7: Clean description and ingredients\n",
        "df['description'] = df['description'].astype(str).str.strip()\n",
        "\n",
        "def parse_ingredients(val):\n",
        "    try:\n",
        "        return ast.literal_eval(val)\n",
        "    except:\n",
        "        return [val] if isinstance(val, str) else []\n",
        "\n",
        "df['ingredients'] = df['ingredients'].apply(parse_ingredients)\n",
        "\n",
        "# Step 8: Clean numeric columns\n",
        "for col in ['calories', 'protein (g)', 'fat (g)', 'carbs (g)']:\n",
        "    df[col] = pd.to_numeric(df[col], errors='coerce').fillna(0)\n",
        "\n",
        "# Step 9: Round numeric values\n",
        "df = df.round({\n",
        "    'calories': 2,\n",
        "    'protein (g)': 2,\n",
        "    'fat (g)': 2,\n",
        "    'carbs (g)': 2\n",
        "})\n",
        "\n",
        "# Step 10: Save cleaned CSV\n",
        "df.to_csv(\"cleaned_recipes.csv\", index=False)\n",
        "\n",
        "# Show sample\n",
        "print(df.head())\n"
      ],
      "metadata": {
        "id": "0SebN7Du5dPo"
      },
      "execution_count": null,
      "outputs": []
    }
  ]
}