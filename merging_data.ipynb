{
  "nbformat": 4,
  "nbformat_minor": 0,
  "metadata": {
    "colab": {
      "provenance": []
    },
    "kernelspec": {
      "name": "python3",
      "display_name": "Python 3"
    },
    "language_info": {
      "name": "python"
    }
  },
  "cells": [
    {
      "cell_type": "code",
      "execution_count": null,
      "metadata": {
        "id": "iAST7rn4xBfM"
      },
      "outputs": [],
      "source": [
        "import pandas as pd\n",
        "\n",
        "# Load the CSV files\n",
        "df1 = pd.read_csv('/content/TheMealDB_with_nutrition.csv')\n",
        "df2 = pd.read_csv('/content/all_mealdb_recipes_120+.csv')\n",
        "df3 = pd.read_csv('/content/themealdb_500_recipes.csv')\n",
        "df4 = pd.read_csv('/content/themealdb_recipes.csv')\n",
        "\n",
        "# Concatenate all dataframes\n",
        "merged_df = pd.concat([df1, df2, df3, df4], ignore_index=True)\n",
        "\n",
        "\n",
        "# merged_df = merged_df.drop_duplicates(subset='idMeal')\n",
        "\n",
        "# Save the merged dataframe to a new CSV\n",
        "merged_df.to_csv('/content/merged dataset.csv', index=False)\n",
        "\n",
        "print(\"Merge complete. Saved as 'merged_mealdb_recipes.csv'\")"
      ]
    }
  ]
}