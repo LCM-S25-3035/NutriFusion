{
  "nbformat": 4,
  "nbformat_minor": 0,
  "metadata": {
    "colab": {
      "provenance": []
    },
    "kernelspec": {
      "name": "python3",
      "display_name": "Python 3"
    },
    "language_info": {
      "name": "python"
    }
  },
  "cells": [
    {
      "cell_type": "code",
      "execution_count": null,
      "metadata": {
        "colab": {
          "base_uri": "https://localhost:8080/"
        },
        "id": "SMNY4ef27M5Q",
        "outputId": "83eeedd6-9f56-492e-d192-85a6b6d19a2f"
      },
      "outputs": [
        {
          "output_type": "stream",
          "name": "stdout",
          "text": [
            "                        recipe_name  \\\n",
            "0                 Boozy Bbq Chicken   \n",
            "1       Easy Baked Parmesan Chicken   \n",
            "2           Moroccan Chicken Tagine   \n",
            "3    Cassoulet with Chicken or Duck   \n",
            "4  Maple-Glazed Thanksgiving Turkey   \n",
            "\n",
            "                                         ingredients  calories  protein  \\\n",
            "0  ['white wine', 'beer', 'broccoli', 'slow cook ...    725.28    32.27   \n",
            "1  ['chicken breast halves', 'egg', 'bread crumbs...    496.99    62.08   \n",
            "2  ['moroccan spice mixture', 'almond slivers', '...    223.58    14.40   \n",
            "3  ['beans', 'water', 'beef broth', 'tomato paste...    650.81    50.69   \n",
            "4  ['turkey', 'butter', 'orange juice', 'natural ...    157.59     7.81   \n",
            "\n",
            "     fat  carbohydrates  fiber  sugar  \n",
            "0  32.78          72.28   9.36  19.59  \n",
            "1  20.03          15.48   2.92   9.72  \n",
            "2   6.33          30.87   7.83  13.02  \n",
            "3  21.84          64.41  11.72   7.70  \n",
            "4  10.02           9.37   1.03   5.92  \n"
          ]
        }
      ],
      "source": [
        "import pandas as pd\n",
        "\n",
        "# List of file paths\n",
        "file_paths = [\n",
        "    \"/content/chicken_recipes.csv\",\n",
        "    \"/content/dessert_recipes.csv\",\n",
        "    \"/content/italian_recipes.csv\",\n",
        "    \"/content/seafood_recipes.csv\",\n",
        "    \"/content/vegetarian_recipes.csv\"\n",
        "]\n",
        "\n",
        "# Read and concatenate all CSVs\n",
        "all_recipes_df = pd.concat([pd.read_csv(file) for file in file_paths], ignore_index=True)\n",
        "\n",
        "# (Optional) Save to a new CSV\n",
        "all_recipes_df.to_csv(\"/content/all_recipes_scrapped.csv\", index=False)\n",
        "\n",
        "# Display the first few rows to confirm\n",
        "print(all_recipes_df.head())\n"
      ]
    },
    {
      "cell_type": "code",
      "source": [
        "import pandas as pd\n",
        "\n",
        "# File paths\n",
        "file1 = '/content/recipes and its ingredients.csv'\n",
        "file2 = '/content/recipes_data.csv'\n",
        "\n",
        "# Read both CSV files\n",
        "df1 = pd.read_csv(file1)\n",
        "df2 = pd.read_csv(file2)\n",
        "\n",
        "# Optional: Drop duplicates if necessary\n",
        "# df1 = df1.drop_duplicates()\n",
        "# df2 = df2.drop_duplicates()\n",
        "\n",
        "# Concatenate both DataFrames\n",
        "merged_df = pd.concat([df1, df2], ignore_index=True)\n",
        "\n",
        "# Optional: Drop duplicate recipes based on recipe_name\n",
        "# merged_df = merged_df.drop_duplicates(subset='recipe_name')\n",
        "\n",
        "# Save the merged dataset\n",
        "merged_df.to_csv('/content/merged_recipes_00.csv', index=False)\n",
        "\n",
        "print(\"Merged dataset saved to /content/merged_recipes_00.csv\")\n"
      ],
      "metadata": {
        "colab": {
          "base_uri": "https://localhost:8080/"
        },
        "id": "s1fNcxKu9hUg",
        "outputId": "84678d3e-217a-49af-f522-e4ad86d283c4"
      },
      "execution_count": null,
      "outputs": [
        {
          "output_type": "stream",
          "name": "stdout",
          "text": [
            "Merged dataset saved to /content/merged_recipes_00.csv\n"
          ]
        }
      ]
    },
    {
      "cell_type": "code",
      "source": [
        "import pandas as pd\n",
        "\n",
        "# Load the dataset\n",
        "df = pd.read_csv('/content/epi_r.csv')\n",
        "\n",
        "# Keep only the first 20,000 rows\n",
        "df_trimmed = df.head(20000)\n",
        "\n",
        "# Save the trimmed dataset\n",
        "df_trimmed.to_csv('/content/epi_r_trimmed.csv', index=False)\n",
        "\n",
        "print(\"Trimmed dataset saved to /content/epi_r_trimmed.csv\")\n"
      ],
      "metadata": {
        "id": "FBC6jhGtNvVH",
        "colab": {
          "base_uri": "https://localhost:8080/"
        },
        "outputId": "c64947c1-1a70-442c-af5d-70c941006db4"
      },
      "execution_count": null,
      "outputs": [
        {
          "output_type": "stream",
          "name": "stdout",
          "text": [
            "Trimmed dataset saved to /content/epi_r_trimmed.csv\n"
          ]
        }
      ]
    },
    {
      "cell_type": "code",
      "source": [
        "import pandas as pd\n",
        "\n",
        "# Load the dataset\n",
        "df = pd.read_csv('/content/epi_r.csv')\n",
        "\n",
        "# Select only the required columns\n",
        "columns_needed = ['title', 'rating', 'calories', 'protein', 'fat', 'sodium']\n",
        "df_filtered = df[columns_needed]\n",
        "\n",
        "# Save the filtered dataset\n",
        "df_filtered.to_csv('/content/epi_r_filtered.csv', index=False)\n",
        "\n",
        "print(\"Filtered dataset saved to /content/epi_r_filtered.csv\")\n"
      ],
      "metadata": {
        "colab": {
          "base_uri": "https://localhost:8080/"
        },
        "id": "kW2q5TAdOuN8",
        "outputId": "b856d4de-5308-442e-f3d9-34ed592ee2f7"
      },
      "execution_count": null,
      "outputs": [
        {
          "output_type": "stream",
          "name": "stdout",
          "text": [
            "Filtered dataset saved to /content/epi_r_filtered.csv\n"
          ]
        }
      ]
    },
    {
      "cell_type": "code",
      "source": [
        "import pandas as pd\n",
        "\n",
        "# Load the dataset\n",
        "df = pd.read_csv('/content/epi_r.csv')\n",
        "\n",
        "# Rename 'sodium' to 'carbohydrates'\n",
        "df.rename(columns={'sodium': 'carbohydrates'}, inplace=True)\n",
        "\n",
        "# Select only the required columns\n",
        "columns_needed = ['title', 'rating', 'calories', 'protein', 'fat', 'carbohydrates']\n",
        "df_filtered = df[columns_needed]\n",
        "\n",
        "# Save the filtered dataset\n",
        "df_filtered.to_csv('/content/epi_r_filtered.csv', index=False)\n",
        "\n",
        "print(\"Filtered dataset saved to /content/epi_r_filtered.csv\")\n"
      ],
      "metadata": {
        "colab": {
          "base_uri": "https://localhost:8080/"
        },
        "id": "-TIjMDp9PkVi",
        "outputId": "2895d227-735c-49b2-cc60-b871393fa0fe"
      },
      "execution_count": null,
      "outputs": [
        {
          "output_type": "stream",
          "name": "stdout",
          "text": [
            "Filtered dataset saved to /content/epi_r_filtered.csv\n"
          ]
        }
      ]
    },
    {
      "cell_type": "code",
      "source": [
        "import pandas as pd\n",
        "\n",
        "# Load both datasets\n",
        "df1 = pd.read_csv('/content/5553_reciepes.csv')\n",
        "df2 = pd.read_csv('/content/scrapped_saturday.csv')\n",
        "df3 = pd.read_csv('/content/scrapped_sunday.csv')\n",
        "df4 = pd.read_csv('/content/scrapped_monday.csv')\n",
        "\n",
        "\n",
        "# Concatenate the datasets\n",
        "merged_df = pd.concat([df1, df2, df3, df4], ignore_index=True)\n",
        "\n",
        "# Save the merged dataset\n",
        "merged_df.to_csv('/content/10000_recipes.csv', index=False)\n",
        "\n",
        "print(\"Merged dataset saved to /content/10000_recipes.csv\")\n"
      ],
      "metadata": {
        "colab": {
          "base_uri": "https://localhost:8080/"
        },
        "id": "4oEI_y9DSJPh",
        "outputId": "9786f58b-98ec-4999-faec-1294e2c1595a"
      },
      "execution_count": 1,
      "outputs": [
        {
          "output_type": "stream",
          "name": "stdout",
          "text": [
            "Merged dataset saved to /content/10000_recipes.csv\n"
          ]
        }
      ]
    },
    {
      "cell_type": "code",
      "source": [
        "import pandas as pd\n",
        "\n",
        "# Load the dataset\n",
        "df = pd.read_csv('/content/10000_recipes.csv')\n",
        "\n",
        "# Display the first few rows\n",
        "print(\"Preview of dataset:\")\n",
        "print(df.head())\n",
        "\n",
        "\n"
      ],
      "metadata": {
        "colab": {
          "base_uri": "https://localhost:8080/"
        },
        "id": "vL2WMD-c6rMm",
        "outputId": "bfb2b5ac-c3e7-4406-c999-b61775aec2ff"
      },
      "execution_count": 2,
      "outputs": [
        {
          "output_type": "stream",
          "name": "stdout",
          "text": [
            "Preview of dataset:\n",
            "                        recipe_name  \\\n",
            "0                 Boozy Bbq Chicken   \n",
            "1       Easy Baked Parmesan Chicken   \n",
            "2           Moroccan Chicken Tagine   \n",
            "3    Cassoulet with Chicken or Duck   \n",
            "4  Maple-Glazed Thanksgiving Turkey   \n",
            "\n",
            "                                         ingredients  calories  protein  \\\n",
            "0  ['white wine', 'beer', 'broccoli', 'slow cook ...    725.28    32.27   \n",
            "1  ['chicken breast halves', 'egg', 'bread crumbs...    496.99    62.08   \n",
            "2  ['moroccan spice mixture', 'almond slivers', '...    223.58    14.40   \n",
            "3  ['beans', 'water', 'beef broth', 'tomato paste...    650.81    50.69   \n",
            "4  ['turkey', 'butter', 'orange juice', 'natural ...    157.59     7.81   \n",
            "\n",
            "     fat  carbohydrates  \n",
            "0  32.78          72.28  \n",
            "1  20.03          15.48  \n",
            "2   6.33          30.87  \n",
            "3  21.84          64.41  \n",
            "4  10.02           9.37  \n"
          ]
        }
      ]
    },
    {
      "cell_type": "code",
      "source": [
        "# Check the shape of the dataset\n",
        "print(\"\\nShape of dataset:\")\n",
        "print(df.shape)\n",
        "\n"
      ],
      "metadata": {
        "colab": {
          "base_uri": "https://localhost:8080/"
        },
        "id": "n4zXw5S79CUu",
        "outputId": "b58658bc-4ff9-426a-a506-741c7092dbe9"
      },
      "execution_count": 3,
      "outputs": [
        {
          "output_type": "stream",
          "name": "stdout",
          "text": [
            "\n",
            "Shape of dataset:\n",
            "(10789, 6)\n"
          ]
        }
      ]
    },
    {
      "cell_type": "code",
      "source": [
        "# Get a concise summary of the DataFrame\n",
        "print(\"\\nDataset Info:\")\n",
        "df.info()\n",
        "\n"
      ],
      "metadata": {
        "colab": {
          "base_uri": "https://localhost:8080/"
        },
        "id": "MkoWPNco9D80",
        "outputId": "93f6fb66-95b9-40e9-adf6-e83606eaed84"
      },
      "execution_count": 4,
      "outputs": [
        {
          "output_type": "stream",
          "name": "stdout",
          "text": [
            "\n",
            "Dataset Info:\n",
            "<class 'pandas.core.frame.DataFrame'>\n",
            "RangeIndex: 10789 entries, 0 to 10788\n",
            "Data columns (total 6 columns):\n",
            " #   Column         Non-Null Count  Dtype  \n",
            "---  ------         --------------  -----  \n",
            " 0   recipe_name    10789 non-null  object \n",
            " 1   ingredients    10789 non-null  object \n",
            " 2   calories       10789 non-null  float64\n",
            " 3   protein        10789 non-null  float64\n",
            " 4   fat            10789 non-null  float64\n",
            " 5   carbohydrates  10789 non-null  float64\n",
            "dtypes: float64(4), object(2)\n",
            "memory usage: 505.9+ KB\n"
          ]
        }
      ]
    },
    {
      "cell_type": "code",
      "source": [
        "# Check for missing values\n",
        "print(\"\\nMissing values in each column:\")\n",
        "print(df.isnull().sum())"
      ],
      "metadata": {
        "colab": {
          "base_uri": "https://localhost:8080/"
        },
        "id": "UsyJt1LD9Jtc",
        "outputId": "3a75def5-9556-49b3-d04b-516b4055fbf7"
      },
      "execution_count": 5,
      "outputs": [
        {
          "output_type": "stream",
          "name": "stdout",
          "text": [
            "\n",
            "Missing values in each column:\n",
            "recipe_name      0\n",
            "ingredients      0\n",
            "calories         0\n",
            "protein          0\n",
            "fat              0\n",
            "carbohydrates    0\n",
            "dtype: int64\n"
          ]
        }
      ]
    },
    {
      "cell_type": "code",
      "source": [
        "df.columns\n"
      ],
      "metadata": {
        "colab": {
          "base_uri": "https://localhost:8080/"
        },
        "id": "UgXuYq2G-BAq",
        "outputId": "106a5e31-cfab-45bf-9213-14e09a5e700c"
      },
      "execution_count": 6,
      "outputs": [
        {
          "output_type": "execute_result",
          "data": {
            "text/plain": [
              "Index(['recipe_name', 'ingredients', 'calories', 'protein', 'fat',\n",
              "       'carbohydrates'],\n",
              "      dtype='object')"
            ]
          },
          "metadata": {},
          "execution_count": 6
        }
      ]
    },
    {
      "cell_type": "code",
      "source": [
        "df['recipe_name'] = df['recipe_name'].str.strip().str.lower()\n"
      ],
      "metadata": {
        "id": "DlgnuV0--Cgr"
      },
      "execution_count": 7,
      "outputs": []
    },
    {
      "cell_type": "code",
      "source": [
        "df['ingredients'] = df['ingredients'].apply(lambda x: x.split(','))\n"
      ],
      "metadata": {
        "id": "LJyitQ2m-RLd"
      },
      "execution_count": 8,
      "outputs": []
    },
    {
      "cell_type": "code",
      "source": [
        "# View the first 5 rows of just recipe_name and ingredients columns\n",
        "print(df[['recipe_name', 'ingredients']].head())\n"
      ],
      "metadata": {
        "colab": {
          "base_uri": "https://localhost:8080/"
        },
        "id": "EKffVrwu-SWt",
        "outputId": "50c2591e-8be2-4cda-da2d-df02399016ee"
      },
      "execution_count": 9,
      "outputs": [
        {
          "output_type": "stream",
          "name": "stdout",
          "text": [
            "                        recipe_name  \\\n",
            "0                 boozy bbq chicken   \n",
            "1       easy baked parmesan chicken   \n",
            "2           moroccan chicken tagine   \n",
            "3    cassoulet with chicken or duck   \n",
            "4  maple-glazed thanksgiving turkey   \n",
            "\n",
            "                                         ingredients  \n",
            "0  [['white wine',  'beer',  'broccoli',  'slow c...  \n",
            "1  [['chicken breast halves',  'egg',  'bread cru...  \n",
            "2  [['moroccan spice mixture',  'almond slivers',...  \n",
            "3  [['beans',  'water',  'beef broth',  'tomato p...  \n",
            "4  [['turkey',  'butter',  'orange juice',  'natu...  \n"
          ]
        }
      ]
    },
    {
      "cell_type": "code",
      "source": [
        "df.to_csv('/content/cleaned_10000_recipes.csv', index=False)\n"
      ],
      "metadata": {
        "id": "oBfX2gyW_AJ9"
      },
      "execution_count": 10,
      "outputs": []
    },
    {
      "cell_type": "markdown",
      "source": [
        "first prompt :I need to concatenate few datasets into one"
      ],
      "metadata": {
        "id": "jNqCwDYQUQzf"
      }
    },
    {
      "cell_type": "markdown",
      "source": [
        "last prompt : In my dataset I need to  check for info and also missing values and other data preprocessing steps\n"
      ],
      "metadata": {
        "id": "eCo_lPzCUDv-"
      }
    }
  ]
}