{
  "nbformat": 4,
  "nbformat_minor": 0,
  "metadata": {
    "colab": {
      "provenance": [],
      "toc_visible": true
    },
    "kernelspec": {
      "name": "python3",
      "display_name": "Python 3"
    },
    "language_info": {
      "name": "python"
    }
  },
  "cells": [
    {
      "cell_type": "code",
      "execution_count": null,
      "metadata": {
        "colab": {
          "base_uri": "https://localhost:8080/"
        },
        "id": "k0aT0Yw2S_Uu",
        "outputId": "fcdcedf5-57cb-404b-d5e6-b80b5e018d4c"
      },
      "outputs": [
        {
          "output_type": "stream",
          "name": "stdout",
          "text": [
            "Dataset merged and saved as final_merged_recipes_dataset.csv\n"
          ]
        }
      ],
      "source": [
        "import pandas as pd\n",
        "\n",
        "# 1. Load the datasets\n",
        "df1 = pd.read_csv(\"/content/cleaned_food_dataset.csv\")\n",
        "df2 = pd.read_csv(\"/content/70000_recipes_nutrients_cleaned_final.csv\")\n",
        "\n",
        "# 2. Standardize column names\n",
        "df1.columns = df1.columns.str.strip().str.lower()\n",
        "df2.columns = df2.columns.str.strip().str.lower()\n",
        "\n",
        "# 3. Merge both datasets (preserve all columns)\n",
        "merged_df = pd.concat([df1, df2], ignore_index=True)\n",
        "\n",
        "# 4. Unify recipe name columns if both exist\n",
        "if 'recipe name' not in merged_df.columns and 'recipe_name' in merged_df.columns:\n",
        "    merged_df.rename(columns={'recipe_name': 'recipe name'}, inplace=True)\n",
        "\n",
        "if 'recipe name' in merged_df.columns and 'recipe_name' in merged_df.columns:\n",
        "    merged_df['recipe name'] = merged_df['recipe name'].combine_first(merged_df['recipe_name'])\n",
        "\n",
        "# 5. Save the merged dataset\n",
        "merged_df.to_csv(\"/content/final_merged_recipes_dataset.csv\", index=False)\n",
        "\n",
        "# Optional: print confirmation\n",
        "print(\"Dataset merged and saved as final_merged_recipes_dataset.csv\")"
      ]
    }
  ]
}