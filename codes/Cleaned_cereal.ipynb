{
  "nbformat": 4,
  "nbformat_minor": 0,
  "metadata": {
    "colab": {
      "provenance": []
    },
    "kernelspec": {
      "name": "python3",
      "display_name": "Python 3"
    },
    "language_info": {
      "name": "python"
    }
  },
  "cells": [
    {
      "cell_type": "code",
      "source": [
        "import pandas as pd\n",
        "\n",
        "# Load the cereal dataset\n",
        "cereal_df = pd.read_csv(\"openfoodfacts_cereal_data.csv\")\n",
        "\n",
        "# Convert it to the recipe format\n",
        "cereal_converted = pd.DataFrame({\n",
        "    'recipe_name': cereal_df['Product Name'],\n",
        "    'ingredients': cereal_df['Ingredients Text'].fillna('').apply(lambda x: str([i.strip() for i in x.split(',')])),\n",
        "    'calories': cereal_df['Calories (kcal)'],\n",
        "    'protein': cereal_df['Proteins (g)'],\n",
        "    'fat': cereal_df['Fat (g)'],\n",
        "    'carbohydrates': cereal_df['Carbohydrates (g)']\n",
        "})\n",
        "\n",
        "# Save to new CSV\n",
        "cereal_converted.to_csv(\"cereal_recipes_formatted.csv\", index=False)\n",
        "print(\"✅ Cereal dataset saved as 'cereal_recipes_formatted.csv'\")\n"
      ],
      "metadata": {
        "colab": {
          "base_uri": "https://localhost:8080/"
        },
        "id": "shDKjdTjXFl1",
        "outputId": "9addae6a-ca76-4117-9719-44b5c90558d6"
      },
      "execution_count": 2,
      "outputs": [
        {
          "output_type": "stream",
          "name": "stdout",
          "text": [
            "✅ Cereal dataset saved as 'cereal_recipes_formatted.csv'\n"
          ]
        }
      ]
    },
    {
      "cell_type": "code",
      "source": [],
      "metadata": {
        "id": "kWjJbXs4XKxM"
      },
      "execution_count": null,
      "outputs": []
    }
  ]
}