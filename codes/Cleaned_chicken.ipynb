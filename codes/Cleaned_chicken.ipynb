{
  "nbformat": 4,
  "nbformat_minor": 0,
  "metadata": {
    "colab": {
      "provenance": []
    },
    "kernelspec": {
      "name": "python3",
      "display_name": "Python 3"
    },
    "language_info": {
      "name": "python"
    }
  },
  "cells": [
    {
      "cell_type": "code",
      "source": [
        "import pandas as pd\n",
        "\n",
        "# Load the chicken dataset\n",
        "chicken_df = pd.read_csv(\"openfoodfacts_chicken_data.csv\")\n",
        "\n",
        "# Convert it to the recipe format\n",
        "chicken_converted = pd.DataFrame({\n",
        "    'recipe_name': chicken_df['Product Name'],\n",
        "    'ingredients': chicken_df['Ingredients Text'].fillna('').apply(lambda x: str([i.strip() for i in x.split(',')])),\n",
        "    'calories': chicken_df['Calories (kcal)'],\n",
        "    'protein': chicken_df['Proteins (g)'],\n",
        "    'fat': chicken_df['Fat (g)'],\n",
        "    'carbohydrates': chicken_df['Carbohydrates (g)']\n",
        "})\n",
        "\n",
        "# Save to new CSV\n",
        "chicken_converted.to_csv(\"chicken_recipes_formatted.csv\", index=False)\n",
        "print(\"✅ Chicken dataset saved as 'chicken_recipes_formatted.csv'\")\n"
      ],
      "metadata": {
        "colab": {
          "base_uri": "https://localhost:8080/"
        },
        "id": "kWjJbXs4XKxM",
        "outputId": "9a172d0f-15d0-4c1e-a78d-df195724145a"
      },
      "execution_count": 3,
      "outputs": [
        {
          "output_type": "stream",
          "name": "stdout",
          "text": [
            "✅ Chicken dataset saved as 'chicken_recipes_formatted.csv'\n"
          ]
        }
      ]
    },
    {
      "cell_type": "code",
      "source": [],
      "metadata": {
        "id": "TUWWlsSRYl-5"
      },
      "execution_count": null,
      "outputs": []
    }
  ]
}