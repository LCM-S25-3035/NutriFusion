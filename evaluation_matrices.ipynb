{
  "nbformat": 4,
  "nbformat_minor": 0,
  "metadata": {
    "colab": {
      "provenance": []
    },
    "kernelspec": {
      "name": "python3",
      "display_name": "Python 3"
    },
    "language_info": {
      "name": "python"
    }
  },
  "cells": [
    {
      "cell_type": "code",
      "execution_count": null,
      "metadata": {
        "id": "8LHOtRkAWSSp"
      },
      "outputs": [],
      "source": []
    },
    {
      "cell_type": "markdown",
      "source": [
        "evaluation matrices for recommended system"
      ],
      "metadata": {
        "id": "qu5WII0_XUy0"
      }
    },
    {
      "cell_type": "code",
      "source": [
        "from lightfm.evaluation import precision_at_k, recall_at_k, auc_score\n",
        "\n",
        "# Evaluation for the full interaction matrix\n",
        "print(\"🔍 Evaluation Metrics for the LightFM Model\\n\")\n",
        "\n",
        "# Precision@k\n",
        "precision = precision_at_k(model, interactions, k=5).mean()\n",
        "print(f\"📌 Precision@5: {precision:.4f}\")\n",
        "\n",
        "# Recall@k\n",
        "recall = recall_at_k(model, interactions, k=5).mean()\n",
        "print(f\"📌 Recall@5: {recall:.4f}\")\n",
        "\n",
        "# AUC Score\n",
        "auc = auc_score(model, interactions).mean()\n",
        "print(f\"📌 AUC Score: {auc:.4f}\")\n",
        "\n"
      ],
      "metadata": {
        "colab": {
          "base_uri": "https://localhost:8080/"
        },
        "id": "7O4XiHAFdsYd",
        "outputId": "5ce764ba-639d-48ab-80d1-a9aff676313c"
      },
      "execution_count": null,
      "outputs": [
        {
          "output_type": "stream",
          "name": "stdout",
          "text": [
            "🔍 Evaluation Metrics for the LightFM Model\n",
            "\n",
            "📌 Precision@5: 1.0000\n",
            "📌 Recall@5: 0.0251\n",
            "📌 AUC Score: 1.0000\n"
          ]
        }
      ]
    }
  ]
}