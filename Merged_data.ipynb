{
  "nbformat": 4,
  "nbformat_minor": 0,
  "metadata": {
    "colab": {
      "provenance": []
    },
    "kernelspec": {
      "name": "python3",
      "display_name": "Python 3"
    },
    "language_info": {
      "name": "python"
    }
  },
  "cells": [
    {
      "cell_type": "code",
      "source": [
        "import pandas as pd\n",
        "\n",
        "# Load both CSV files\n",
        "fruits_df = pd.read_csv(\"/content/cleaned_fruits.csv\")\n",
        "vegetables_df = pd.read_csv(\"/content/cleaned_vegetables.csv\")\n",
        "\n",
        "# Merge the two datasets\n",
        "merged_df = pd.concat([fruits_df, vegetables_df], ignore_index=True)\n",
        "\n",
        "# Save the merged dataset\n",
        "merged_df.to_csv(\"/merged_fruits_vegetables.csv\", index=False)\n",
        "\n",
        "print(\"✅ Files merged and saved as 'merged_fruits_vegetables.csv'\")\n"
      ],
      "metadata": {
        "colab": {
          "base_uri": "https://localhost:8080/"
        },
        "id": "O6vLYAR1Xj2b",
        "outputId": "d5ac5404-f920-4d71-8d67-1e546bb6fcb1"
      },
      "execution_count": 9,
      "outputs": [
        {
          "output_type": "stream",
          "name": "stdout",
          "text": [
            "✅ Files merged and saved as 'merged_fruits_vegetables.csv'\n"
          ]
        }
      ]
    },
    {
      "cell_type": "code",
      "source": [],
      "metadata": {
        "id": "0Dtr-9_qXq3G"
      },
      "execution_count": null,
      "outputs": []
    }
  ]
}