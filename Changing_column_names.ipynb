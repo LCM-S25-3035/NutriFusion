{
  "nbformat": 4,
  "nbformat_minor": 0,
  "metadata": {
    "colab": {
      "provenance": []
    },
    "kernelspec": {
      "name": "python3",
      "display_name": "Python 3"
    },
    "language_info": {
      "name": "python"
    }
  },
  "cells": [
    {
      "cell_type": "code",
      "execution_count": null,
      "metadata": {
        "id": "krs3XeMRtFpU"
      },
      "outputs": [],
      "source": [
        "import pandas as pd\n",
        "\n",
        "# Load Dataset 1\n",
        "df1 = pd.read_csv('/content/cleaned_dataset (2).csv')\n",
        "\n",
        "# Keep only common columns from df1 and rename if necessary\n",
        "df1 = df1.rename(columns={\n",
        "    'food_name': 'food_name',\n",
        "    'calories': 'calories',\n",
        "    'protein': 'protein',\n",
        "    'fat': 'fat',\n",
        "    'carbohydrates': 'carbohydrates',\n",
        "    'sugar': 'sugar'\n",
        "})\n",
        "df1 = df1[['food_name', 'calories', 'protein', 'fat', 'carbohydrates', 'sugar']]\n",
        "\n",
        "# Load Dataset 2\n",
        "df2 = pd.read_csv('/content/nutrition_dataset.csv')\n",
        "\n",
        "# Standardize column names in df2 to match df1\n",
        "df2 = df2.rename(columns={\n",
        "    'Food_Item': 'food_name',\n",
        "    'Calories (kcal)': 'calories',\n",
        "    'Protein (g)': 'protein',\n",
        "    'Fat (g)': 'fat',\n",
        "    'Carbohydrates (g)': 'carbohydrates',\n",
        "    'Sugars (g)': 'sugar'\n",
        "})\n",
        "df2 = df2[['food_name', 'calories', 'protein', 'fat', 'carbohydrates', 'sugar']]\n",
        "\n",
        "# (Optional) Save cleaned versions\n",
        "df1.to_csv('/content/cleaned_dataset.csv', index=False)\n",
        "df2.to_csv('/content/nutrition_dataset.csv', index=False)\n",
        "\n",
        "# Display sample outputs\n",
        "print(\"Cleaned Dataset 1:\\n\", df1.head())\n",
        "print(\"\\nCleaned Dataset 2:\\n\", df2.head())\n",
        "\n",
        "\n"
      ]
    }
  ]
}