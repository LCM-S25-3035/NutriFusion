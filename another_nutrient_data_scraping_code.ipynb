{
  "nbformat": 4,
  "nbformat_minor": 0,
  "metadata": {
    "colab": {
      "provenance": []
    },
    "kernelspec": {
      "name": "python3",
      "display_name": "Python 3"
    },
    "language_info": {
      "name": "python"
    }
  },
  "cells": [
    {
      "cell_type": "code",
      "execution_count": null,
      "metadata": {
        "id": "krs3XeMRtFpU"
      },
      "outputs": [],
      "source": [
        "import requests\n",
        "import pandas as pd\n",
        "\n",
        "api_key = \"nLBNhOlA7K3hkvEFiAr8wl3ZCjID4rTfrU1ST2OW\"\n",
        "search_url = \"https://api.nal.usda.gov/fdc/v1/foods/search\"\n",
        "\n",
        "# URL params with API key\n",
        "url_params = {\n",
        "    \"api_key\": api_key\n",
        "}\n",
        "\n",
        "# Assuming json_data is defined elsewhere with search criteria\n",
        "# For example:\n",
        "json_data = {\"query\": \"banana\", \"pageSize\": 5}\n",
        "\n",
        "\n",
        "response = requests.post(search_url, params=url_params, json=json_data)\n",
        "\n",
        "if response.status_code == 200:\n",
        "    results = response.json()\n",
        "    foods = results.get(\"foods\", [])\n",
        "    records = [] # Initialize an empty list to store data\n",
        "    for i, food in enumerate(foods, 1):\n",
        "        print(f\"Result {i}: {food['description']}\")\n",
        "        print(f\"FDC ID: {food['fdcId']}\")\n",
        "        print(\"Nutrients:\")\n",
        "        food_data = {'FDC ID': food['fdcId'], 'Description': food['description']} # Create a dictionary for each food\n",
        "        for nutrient in food.get(\"foodNutrients\", []):\n",
        "            name = nutrient.get(\"nutrientName\")\n",
        "            value = nutrient.get(\"value\")\n",
        "            unit = nutrient.get(\"unitName\")\n",
        "            print(f\"  - {name}: {value} {unit}\")\n",
        "            food_data[name] = value # Add nutrient data to the dictionary\n",
        "        records.append(food_data) # Add the food dictionary to the list\n",
        "        print(\"-\" * 40)\n",
        "\n",
        "    # Create a DataFrame from the collected records\n",
        "    if records:\n",
        "        df = pd.DataFrame(records)\n",
        "        # Save to CSV file\n",
        "        df.to_csv(\"daily_food_nutrition_dataset.csv\", index=False)\n",
        "        print(\"Data saved to healthdata.csv\")\n",
        "    else:\n",
        "        print(\"No food data found to save.\")\n",
        "\n",
        "else:\n",
        "    print(f\"Error: {response.status_code} - {response.text}\")\n",
        "\n",
        "#another nutrient datta scraping code$$$$$$$$$"
      ]
    }
  ]
}